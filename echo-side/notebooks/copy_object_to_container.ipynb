{
 "cells": [
  {
   "cell_type": "code",
   "execution_count": null,
   "id": "cdd9f171",
   "metadata": {},
   "outputs": [],
   "source": [
    "from bucket_manager import bucket_manager as bm\n",
    "import swiftclient\n",
    "import os\n",
    "from subprocess import Popen, PIPE"
   ]
  },
  {
   "cell_type": "code",
   "execution_count": null,
   "id": "d0f02098",
   "metadata": {},
   "outputs": [],
   "source": [
    "from dask import dataframe as dd\n",
    "import pandas as pd"
   ]
  },
  {
   "cell_type": "code",
   "execution_count": null,
   "id": "c111bb27",
   "metadata": {},
   "outputs": [],
   "source": [
    "if 'ST_AUTH' not in os.environ:\n",
    "    os.environ['ST_AUTH'] = 'https://s3.echo.stfc.ac.uk/auth/1.0'\n",
    "if 'ST_USER' not in os.environ:\n",
    "    os.environ['ST_USER'] = Popen(['grep', 'user', os.path.expanduser('~/.keys/lsst-swift-credentials.json')], stdout=PIPE).stdout.read().decode('utf-8').split('\"')[3].strip()\n",
    "if 'ST_KEY' not in os.environ:\n",
    "    os.environ['ST_KEY'] = Popen(['grep', 'secret_key', os.path.expanduser('~/.keys/lsst-swift-credentials.json')], stdout=PIPE).stdout.read().decode('utf-8').split('\"')[3].strip()"
   ]
  },
  {
   "cell_type": "code",
   "execution_count": null,
   "id": "13ac4fff",
   "metadata": {},
   "outputs": [],
   "source": [
    "bm.check_keys()"
   ]
  },
  {
   "cell_type": "code",
   "execution_count": null,
   "id": "4679009c",
   "metadata": {},
   "outputs": [],
   "source": [
    "conn = bm.get_conn_swift()"
   ]
  },
  {
   "cell_type": "code",
   "execution_count": null,
   "id": "cc5a9f51",
   "metadata": {},
   "outputs": [],
   "source": [
    "from_container = 'LSST-IR-FUSION-Butlers'\n",
    "to_container = 'LSST-IR-FUSION-Butlers-wide'"
   ]
  },
  {
   "cell_type": "code",
   "execution_count": null,
   "id": "f7d833ef",
   "metadata": {},
   "outputs": [],
   "source": [
    "bm.bucket_list_swift(conn)"
   ]
  },
  {
   "cell_type": "code",
   "execution_count": null,
   "id": "e79f436f",
   "metadata": {},
   "outputs": [],
   "source": [
    "assert from_container in bm.bucket_list_swift(conn), f\"Source container {from_container} does not exist\"\n",
    "assert to_container not in bm.bucket_list_swift(conn), f\"Destination container {to_container} already exists\""
   ]
  },
  {
   "cell_type": "code",
   "execution_count": null,
   "id": "8f5f00a0",
   "metadata": {},
   "outputs": [],
   "source": [
    "bm.create_bucket_swift(conn, to_container)"
   ]
  },
  {
   "cell_type": "code",
   "execution_count": null,
   "id": "43c17559",
   "metadata": {},
   "outputs": [],
   "source": [
    "prefix = 'butler_wide_20220930'"
   ]
  },
  {
   "cell_type": "code",
   "execution_count": null,
   "id": "fdfa395d",
   "metadata": {},
   "outputs": [],
   "source": [
    "from_objects = bm.object_list_swift(conn, from_container, prefix='butler_wide_20220930', full_listing=True)"
   ]
  },
  {
   "cell_type": "code",
   "execution_count": null,
   "id": "c25b2058",
   "metadata": {},
   "outputs": [],
   "source": [
    "len(from_objects)"
   ]
  },
  {
   "cell_type": "code",
   "execution_count": null,
   "id": "e6b71cd0",
   "metadata": {},
   "outputs": [],
   "source": [
    "def copy_object(row, conn, from_container, to_container):\n",
    "    object_name = row['object']\n",
    "    try:\n",
    "        conn.copy_object(from_container, object_name, destination=f'/{to_container}/{object_name}')\n",
    "    except swiftclient.ClientException as e:\n",
    "        print(f\"Error copying {object_name}: {e}\")\n",
    "        return False\n",
    "    print(f\"Copied {object_name} from {from_container} to {to_container}\")\n",
    "    return True"
   ]
  },
  {
   "cell_type": "code",
   "execution_count": null,
   "id": "d9d664b6",
   "metadata": {},
   "outputs": [],
   "source": [
    "ddf = dd.from_pandas(pd.DataFrame(from_objects, columns=['object']), npartitions=100)"
   ]
  },
  {
   "cell_type": "code",
   "execution_count": null,
   "id": "9de54994",
   "metadata": {},
   "outputs": [],
   "source": [
    "ddf"
   ]
  },
  {
   "cell_type": "code",
   "execution_count": null,
   "id": "927f0c06",
   "metadata": {},
   "outputs": [],
   "source": [
    "ddf['copied'] = ddf.map_partitions(\n",
    "    lambda partition: partition.apply(\n",
    "        copy_object,\n",
    "        axis=1,\n",
    "        args=(conn, from_container, to_container),\n",
    "    ),\n",
    "    meta=('copied', 'bool')\n",
    ")"
   ]
  },
  {
   "cell_type": "code",
   "execution_count": null,
   "id": "f11cbb40",
   "metadata": {},
   "outputs": [],
   "source": [
    "ddf"
   ]
  },
  {
   "cell_type": "code",
   "execution_count": null,
   "id": "8b219332",
   "metadata": {},
   "outputs": [],
   "source": [
    "def delete_original(row, conn, container):\n",
    "    object_name = row['object']\n",
    "    if not row['copied']:\n",
    "        print(f\"Skipping deletion of {object_name} as copy failed\")\n",
    "        return False\n",
    "    try:\n",
    "        conn.delete_object(container, object_name)\n",
    "    except swiftclient.ClientException as e:\n",
    "        print(f\"Error deleting {object_name}: {e}\")\n",
    "        return False\n",
    "    print(f\"Deleted {object_name} from {container}\")\n",
    "    return True"
   ]
  },
  {
   "cell_type": "code",
   "execution_count": null,
   "id": "41a7315a",
   "metadata": {},
   "outputs": [],
   "source": [
    "# if all copied, delete the original object\n",
    "ddf['deleted_original'] = ddf.map_partitions(\n",
    "    lambda partition: partition.apply(\n",
    "        delete_original,\n",
    "        axis=1,\n",
    "        args=(conn, from_container)\n",
    "    ),\n",
    "    meta=('deleted_original', 'bool')\n",
    ")"
   ]
  },
  {
   "cell_type": "code",
   "execution_count": null,
   "id": "57f4e603",
   "metadata": {},
   "outputs": [],
   "source": [
    "ddf.to_csv('copy_results.csv', single_file=True, index=False)"
   ]
  },
  {
   "cell_type": "code",
   "execution_count": null,
   "id": "e9a9e1b7",
   "metadata": {},
   "outputs": [],
   "source": []
  }
 ],
 "metadata": {
  "kernelspec": {
   "display_name": "lsst-uk",
   "language": "python",
   "name": "python3"
  },
  "language_info": {
   "codemirror_mode": {
    "name": "ipython",
    "version": 3
   },
   "file_extension": ".py",
   "mimetype": "text/x-python",
   "name": "python",
   "nbconvert_exporter": "python",
   "pygments_lexer": "ipython3",
   "version": "3.10.13"
  }
 },
 "nbformat": 4,
 "nbformat_minor": 5
}

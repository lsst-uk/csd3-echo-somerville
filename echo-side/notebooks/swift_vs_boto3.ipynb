{
 "cells": [
  {
   "cell_type": "markdown",
   "id": "c7c0258a-de1b-4c1a-9c31-15f9123f723b",
   "metadata": {},
   "source": [
    "# Swift vs Boto3 for Parallelisation with Dask"
   ]
  },
  {
   "cell_type": "code",
   "execution_count": 1,
   "id": "eac71d33-fdfd-4fe5-84c5-34a12f5feafb",
   "metadata": {},
   "outputs": [],
   "source": [
    "import boto3\n",
    "import swiftclient\n",
    "import os"
   ]
  },
  {
   "cell_type": "code",
   "execution_count": 2,
   "id": "e623746e-50b3-4b31-899a-8f11ba1af717",
   "metadata": {},
   "outputs": [],
   "source": [
    "s3_keys_path = '~/.keys/lsst_keys.json'\n",
    "swift_keys_path = '~/.keys/lsst-swift-credentials.json'\n",
    "creds = {}\n",
    "\n",
    "#for boto3\n",
    "with open(os.path.expanduser(s3_keys_path), 'r') as s3keys:\n",
    "    for line in s3keys.readlines():\n",
    "        if 'access_key' in line:\n",
    "            creds['S3_ACCESS_KEY'] = line.split('\"')[3]\n",
    "        elif 'secret_key' in line:\n",
    "            creds['S3_SECRET_KEY'] = line.split('\"')[3]\n",
    "creds['S3_HOST_URL'] = 'https://echo.stfc.ac.uk'\n",
    "\n",
    "#for swift\n",
    "with open(os.path.expanduser(swift_keys_path), 'r') as swiftkeys:\n",
    "    for line in swiftkeys.readlines():\n",
    "        if 'user' in line:\n",
    "            creds['ST_USER'] = line.split('\"')[3]\n",
    "        elif 'secret_key' in line:\n",
    "            creds['ST_KEY'] = line.split('\"')[3]\n",
    "creds['ST_AUTH'] = 'https://s3.echo.stfc.ac.uk/auth/1.0'\n",
    "\n",
    "#Some Swift operations expect environment variables\n",
    "#Here we just mirror the creds dict to the os.environ dict\n",
    "for k, v in creds.items():\n",
    "    os.environ[k] = v"
   ]
  },
  {
   "cell_type": "markdown",
   "id": "ef7a3357-3daf-48e0-a6eb-c229329a2650",
   "metadata": {},
   "source": [
    "## boto3 resource"
   ]
  },
  {
   "cell_type": "code",
   "execution_count": 3,
   "id": "5dda49a7-e515-49c3-b92b-8733a44d5e70",
   "metadata": {},
   "outputs": [],
   "source": [
    "session = boto3.Session(\n",
    "    aws_access_key_id = creds['S3_ACCESS_KEY'],\n",
    "    aws_secret_access_key = creds['S3_SECRET_KEY']\n",
    ")"
   ]
  },
  {
   "cell_type": "code",
   "execution_count": 4,
   "id": "546163d0-7015-435e-84b2-c06ba2f78d41",
   "metadata": {},
   "outputs": [
    {
     "data": {
      "text/plain": [
       "s3.ServiceResource()"
      ]
     },
     "execution_count": 4,
     "metadata": {},
     "output_type": "execute_result"
    }
   ],
   "source": [
    "resource = session.resource(\n",
    "    service_name = 's3',\n",
    "    endpoint_url = creds['S3_HOST_URL']\n",
    ")\n",
    "resource"
   ]
  },
  {
   "cell_type": "code",
   "execution_count": 5,
   "id": "1f8bfd94-319f-4eaa-b24f-bef9131004c0",
   "metadata": {},
   "outputs": [],
   "source": [
    "# %%timeit\n",
    "boto3_bucket_list = [ b.name for b in resource.buckets.all() ]"
   ]
  },
  {
   "cell_type": "code",
   "execution_count": 6,
   "id": "30736dd0-bd02-4bdd-8cb6-c9311dfc64ba",
   "metadata": {},
   "outputs": [
    {
     "data": {
      "text/plain": [
       "['DRP',\n",
       " 'LSST-IR-FUSION',\n",
       " 'LSST-IR-FUSION-Butlers',\n",
       " 'LSST-IR-FUSION-TEST',\n",
       " 'LSST-IR-FUSION-rdsip005',\n",
       " 'LSST-IR-FUSION-testfromopenstack',\n",
       " 'LSST-IR-FUSION_gen3_conversion',\n",
       " 'dmu4',\n",
       " 'lsst-dac',\n",
       " 'lsst-drp-config',\n",
       " 'lsst-test']"
      ]
     },
     "execution_count": 6,
     "metadata": {},
     "output_type": "execute_result"
    }
   ],
   "source": [
    "boto3_bucket_list"
   ]
  },
  {
   "cell_type": "markdown",
   "id": "b57fec4a-27e7-44f8-8c09-97f155ffee63",
   "metadata": {},
   "source": [
    "## Swift Connection"
   ]
  },
  {
   "cell_type": "code",
   "execution_count": 7,
   "id": "e366f3f7-e34b-4d24-8413-63ba1b81af21",
   "metadata": {},
   "outputs": [],
   "source": [
    "connection = swiftclient.Connection(\n",
    "    user = creds['ST_USER'],\n",
    "    key = creds['ST_KEY'],\n",
    "    authurl = creds['ST_AUTH']\n",
    ")"
   ]
  },
  {
   "cell_type": "code",
   "execution_count": 8,
   "id": "8afad3d8-1341-4564-88d7-30621deeec9f",
   "metadata": {},
   "outputs": [],
   "source": [
    "# %%timeit\n",
    "containers = [ container['name'] for container in connection.get_account()[1] ]"
   ]
  },
  {
   "cell_type": "code",
   "execution_count": 9,
   "id": "b542ce1f-6b0b-4322-9799-d897a2b850b7",
   "metadata": {},
   "outputs": [
    {
     "data": {
      "text/plain": [
       "['DRP',\n",
       " 'LSST-IR-FUSION',\n",
       " 'LSST-IR-FUSION-Butlers',\n",
       " 'LSST-IR-FUSION-TEST',\n",
       " 'LSST-IR-FUSION-rdsip005',\n",
       " 'LSST-IR-FUSION-testfromopenstack',\n",
       " 'LSST-IR-FUSION_gen3_conversion',\n",
       " 'dmu4',\n",
       " 'lsst-dac',\n",
       " 'lsst-drp-config',\n",
       " 'lsst-test']"
      ]
     },
     "execution_count": 9,
     "metadata": {},
     "output_type": "execute_result"
    }
   ],
   "source": [
    "containers"
   ]
  },
  {
   "cell_type": "code",
   "execution_count": 10,
   "id": "6b1fe289-f087-47a8-875c-b7618bcf51ad",
   "metadata": {},
   "outputs": [],
   "source": [
    "bucket = resource.Bucket('LSST-IR-FUSION-testfromopenstack')"
   ]
  },
  {
   "cell_type": "code",
   "execution_count": 11,
   "id": "af89cfc0-325c-491d-95e7-4ddaff53d172",
   "metadata": {},
   "outputs": [],
   "source": [
    "# %%timeit\n",
    "boto3_objects = [ obj.key for obj in bucket.objects.all() ]"
   ]
  },
  {
   "cell_type": "code",
   "execution_count": 12,
   "id": "c3974ac2-a929-4b2f-ab42-9e5351fd23d6",
   "metadata": {
    "scrolled": true
   },
   "outputs": [
    {
     "data": {
      "text/plain": [
       "['dummy-lsst-backup.csv',\n",
       " 'dummy/1/1_1.f',\n",
       " 'dummy/1/1_2.f',\n",
       " 'dummy/14/14_1.f',\n",
       " 'dummy/14/14_2.f',\n",
       " 'dummy/17/17_2.f',\n",
       " 'dummy/18/18_1.f',\n",
       " 'dummy/18/18_2.f',\n",
       " 'dummy/2/2_1.f',\n",
       " 'dummy/2/2_2.f',\n",
       " 'dummy/21/21_1.f',\n",
       " 'dummy/21/21_2.f',\n",
       " 'dummy/30/30_1.f',\n",
       " 'dummy/30/30_2.f',\n",
       " 'dummy/31/31_1.f',\n",
       " 'dummy/31/31_2.f',\n",
       " 'dummy/36/36_1.f',\n",
       " 'dummy/36/36_2.f',\n",
       " 'dummy/44/44_1.f',\n",
       " 'dummy/44/44_2.f',\n",
       " 'dummy/46/46_1.f',\n",
       " 'dummy/5/5_1.f',\n",
       " 'dummy/5/5_2.f',\n",
       " 'dummy/50/50_1.f',\n",
       " 'dummy/50/50_2.f',\n",
       " 'dummy/52/52_1.f',\n",
       " 'dummy/52/52_2.f',\n",
       " 'dummy/53/53_1.f',\n",
       " 'dummy/53/53_2.f',\n",
       " 'dummy/60/60_2.f',\n",
       " 'dummy/67/67_1.f',\n",
       " 'dummy/67/67_2.f',\n",
       " 'dummy/7/7_1.f',\n",
       " 'dummy/7/7_2.f',\n",
       " 'dummy/72/72_1.f',\n",
       " 'dummy/72/72_2.f',\n",
       " 'dummy/8/8_1.f',\n",
       " 'dummy/8/8_2.f',\n",
       " 'dummy/81/81_1.f',\n",
       " 'dummy/81/81_2.f',\n",
       " 'dummy/87/87_1.f',\n",
       " 'dummy/87/87_2.f',\n",
       " 'dummy/88/88_1.f',\n",
       " 'dummy/88/88_2.f',\n",
       " 'dummy/97/97_1.f',\n",
       " 'dummy/97/97_2.f',\n",
       " 'dummy/98/98_1.f',\n",
       " 'dummy/98/98_2.f',\n",
       " 'dummy/collated_0.zip',\n",
       " 'dummy/collated_0.zip.metadata',\n",
       " 'dummy/collated_1.zip',\n",
       " 'dummy/collated_1.zip.metadata',\n",
       " 'dummy/collated_2.zip',\n",
       " 'dummy/collated_2.zip.metadata',\n",
       " 'dummy/collated_3.zip',\n",
       " 'dummy/collated_3.zip.metadata',\n",
       " 'dummy/collated_4.zip',\n",
       " 'dummy/collated_4.zip.metadata',\n",
       " 'dummy/collated_5.zip',\n",
       " 'dummy/collated_5.zip.metadata',\n",
       " 'dummy/collated_55.zip',\n",
       " 'dummy/collated_55.zip.metadata',\n",
       " 'dummy/collated_59.zip',\n",
       " 'dummy/collated_59.zip.metadata',\n",
       " 'dummy/collated_6.zip',\n",
       " 'dummy/collated_6.zip.metadata',\n",
       " 'dummy/collated_61.zip',\n",
       " 'dummy/collated_61.zip.metadata',\n",
       " 'dummy/collated_62.zip',\n",
       " 'dummy/collated_62.zip.metadata',\n",
       " 'dummy/collated_63.zip',\n",
       " 'dummy/collated_63.zip.metadata',\n",
       " 'dummy/collated_64.zip',\n",
       " 'dummy/collated_64.zip.metadata',\n",
       " 'dummy/collated_65.zip',\n",
       " 'dummy/collated_65.zip.metadata',\n",
       " 'dummy/collated_66.zip',\n",
       " 'dummy/collated_66.zip.metadata',\n",
       " 'dummy/collated_7.zip',\n",
       " 'dummy/collated_7.zip.metadata']"
      ]
     },
     "execution_count": 12,
     "metadata": {},
     "output_type": "execute_result"
    }
   ],
   "source": [
    "boto3_objects"
   ]
  },
  {
   "cell_type": "code",
   "execution_count": 13,
   "id": "627f47d5-9b65-4339-a494-e900b139072e",
   "metadata": {},
   "outputs": [],
   "source": [
    "# %%timeit\n",
    "swift_objects = [ obj['name'] for obj in connection.get_container('LSST-IR-FUSION-testfromopenstack')[1] ]"
   ]
  },
  {
   "cell_type": "code",
   "execution_count": 14,
   "id": "c3be1934-996e-403b-b26b-8490a5fab543",
   "metadata": {
    "scrolled": true
   },
   "outputs": [
    {
     "data": {
      "text/plain": [
       "['dummy-lsst-backup.csv',\n",
       " 'dummy/1/1_1.f',\n",
       " 'dummy/1/1_2.f',\n",
       " 'dummy/14/14_1.f',\n",
       " 'dummy/14/14_2.f',\n",
       " 'dummy/17/17_2.f',\n",
       " 'dummy/18/18_1.f',\n",
       " 'dummy/18/18_2.f',\n",
       " 'dummy/2/2_1.f',\n",
       " 'dummy/2/2_2.f',\n",
       " 'dummy/21/21_1.f',\n",
       " 'dummy/21/21_2.f',\n",
       " 'dummy/30/30_1.f',\n",
       " 'dummy/30/30_2.f',\n",
       " 'dummy/31/31_1.f',\n",
       " 'dummy/31/31_2.f',\n",
       " 'dummy/36/36_1.f',\n",
       " 'dummy/36/36_2.f',\n",
       " 'dummy/44/44_1.f',\n",
       " 'dummy/44/44_2.f',\n",
       " 'dummy/46/46_1.f',\n",
       " 'dummy/5/5_1.f',\n",
       " 'dummy/5/5_2.f',\n",
       " 'dummy/50/50_1.f',\n",
       " 'dummy/50/50_2.f',\n",
       " 'dummy/52/52_1.f',\n",
       " 'dummy/52/52_2.f',\n",
       " 'dummy/53/53_1.f',\n",
       " 'dummy/53/53_2.f',\n",
       " 'dummy/60/60_2.f',\n",
       " 'dummy/67/67_1.f',\n",
       " 'dummy/67/67_2.f',\n",
       " 'dummy/7/7_1.f',\n",
       " 'dummy/7/7_2.f',\n",
       " 'dummy/72/72_1.f',\n",
       " 'dummy/72/72_2.f',\n",
       " 'dummy/8/8_1.f',\n",
       " 'dummy/8/8_2.f',\n",
       " 'dummy/81/81_1.f',\n",
       " 'dummy/81/81_2.f',\n",
       " 'dummy/87/87_1.f',\n",
       " 'dummy/87/87_2.f',\n",
       " 'dummy/88/88_1.f',\n",
       " 'dummy/88/88_2.f',\n",
       " 'dummy/97/97_1.f',\n",
       " 'dummy/97/97_2.f',\n",
       " 'dummy/98/98_1.f',\n",
       " 'dummy/98/98_2.f',\n",
       " 'dummy/collated_0.zip',\n",
       " 'dummy/collated_0.zip.metadata',\n",
       " 'dummy/collated_1.zip',\n",
       " 'dummy/collated_1.zip.metadata',\n",
       " 'dummy/collated_2.zip',\n",
       " 'dummy/collated_2.zip.metadata',\n",
       " 'dummy/collated_3.zip',\n",
       " 'dummy/collated_3.zip.metadata',\n",
       " 'dummy/collated_4.zip',\n",
       " 'dummy/collated_4.zip.metadata',\n",
       " 'dummy/collated_5.zip',\n",
       " 'dummy/collated_5.zip.metadata',\n",
       " 'dummy/collated_55.zip',\n",
       " 'dummy/collated_55.zip.metadata',\n",
       " 'dummy/collated_59.zip',\n",
       " 'dummy/collated_59.zip.metadata',\n",
       " 'dummy/collated_6.zip',\n",
       " 'dummy/collated_6.zip.metadata',\n",
       " 'dummy/collated_61.zip',\n",
       " 'dummy/collated_61.zip.metadata',\n",
       " 'dummy/collated_62.zip',\n",
       " 'dummy/collated_62.zip.metadata',\n",
       " 'dummy/collated_63.zip',\n",
       " 'dummy/collated_63.zip.metadata',\n",
       " 'dummy/collated_64.zip',\n",
       " 'dummy/collated_64.zip.metadata',\n",
       " 'dummy/collated_65.zip',\n",
       " 'dummy/collated_65.zip.metadata',\n",
       " 'dummy/collated_66.zip',\n",
       " 'dummy/collated_66.zip.metadata',\n",
       " 'dummy/collated_7.zip',\n",
       " 'dummy/collated_7.zip.metadata']"
      ]
     },
     "execution_count": 14,
     "metadata": {},
     "output_type": "execute_result"
    }
   ],
   "source": [
    "swift_objects"
   ]
  },
  {
   "cell_type": "markdown",
   "id": "22984248-4bb2-47df-8220-b9f1650798a7",
   "metadata": {},
   "source": [
    "With a simple test of getting lists buckets and objects within a bucket, the boto3 API seems faster at this stage.\n",
    "\n",
    "Now we'll try something abit more in-depth."
   ]
  },
  {
   "cell_type": "code",
   "execution_count": 15,
   "id": "bb2554f9-b48d-449a-a27f-3bd6566ae39b",
   "metadata": {},
   "outputs": [],
   "source": [
    "def get_metadata_boto3(key, bucket):\n",
    "    if key.endswith('.zip'):\n",
    "        try:\n",
    "            metadata = str(bucket.Object(''.join([key,'.metadata'])).get()['Body'].read().decode('UTF-8'))\n",
    "        except:\n",
    "            return ''\n",
    "        return metadata\n",
    "    else:\n",
    "        return ''"
   ]
  },
  {
   "cell_type": "code",
   "execution_count": 16,
   "id": "e6f1d7c5-b203-43a9-81aa-3541852ad694",
   "metadata": {},
   "outputs": [],
   "source": [
    "def get_metadata_swift(key, connection, container_name):\n",
    "    metadata = None\n",
    "    if key.endswith('.zip'):\n",
    "        try:\n",
    "            metadata = str(connection.get_object(container_name,''.join([key,'.metadata']))[1].decode('UTF-8'))\n",
    "        except:\n",
    "            return ''\n",
    "        return metadata\n",
    "    else:\n",
    "        return ''"
   ]
  },
  {
   "cell_type": "code",
   "execution_count": 17,
   "id": "886f996b-4a5a-4e98-9570-448a77e9349a",
   "metadata": {},
   "outputs": [],
   "source": [
    "# %%timeit\n",
    "metadata_boto3 = get_metadata_boto3('dummy/collated_7.zip', bucket)"
   ]
  },
  {
   "cell_type": "code",
   "execution_count": 18,
   "id": "fe64a35b-80cb-4a91-b2fc-552f89e50abb",
   "metadata": {},
   "outputs": [
    {
     "data": {
      "text/plain": [
       "'18/18_1.f|44/44_1.f|44/44_2.f'"
      ]
     },
     "execution_count": 18,
     "metadata": {},
     "output_type": "execute_result"
    }
   ],
   "source": [
    "metadata_boto3"
   ]
  },
  {
   "cell_type": "code",
   "execution_count": 19,
   "id": "cb493856-e454-4afd-b8c6-76207966a05e",
   "metadata": {},
   "outputs": [],
   "source": [
    "# %%timeit\n",
    "metadata_swift = get_metadata_swift('dummy/collated_7.zip', connection, 'LSST-IR-FUSION-testfromopenstack')"
   ]
  },
  {
   "cell_type": "code",
   "execution_count": 20,
   "id": "4cd48cfb-a4a3-4f9f-851c-25ecb3efe64d",
   "metadata": {},
   "outputs": [
    {
     "data": {
      "text/plain": [
       "'18/18_1.f|44/44_1.f|44/44_2.f'"
      ]
     },
     "execution_count": 20,
     "metadata": {},
     "output_type": "execute_result"
    }
   ],
   "source": [
    "metadata_swift"
   ]
  },
  {
   "cell_type": "markdown",
   "id": "219992f6-67a1-4dea-895b-5e88654ed558",
   "metadata": {},
   "source": [
    "Now switch to Pandas, so we can use DataFrame.apply() to run these functions on every row of a DataFrame"
   ]
  },
  {
   "cell_type": "code",
   "execution_count": 21,
   "id": "143e414c-130d-4474-91fe-75b8baca7f53",
   "metadata": {},
   "outputs": [],
   "source": [
    "import pandas as pd"
   ]
  },
  {
   "cell_type": "code",
   "execution_count": 22,
   "id": "ef6e4732-9cfa-44d4-8d53-928257f65247",
   "metadata": {},
   "outputs": [],
   "source": [
    "expanded_objects = []\n",
    "for _ in range(10):\n",
    "    expanded_objects.extend(boto3_objects)"
   ]
  },
  {
   "cell_type": "code",
   "execution_count": 23,
   "id": "8cc5c771-a347-460b-9258-cb1b679aa321",
   "metadata": {},
   "outputs": [
    {
     "data": {
      "text/plain": [
       "800"
      ]
     },
     "execution_count": 23,
     "metadata": {},
     "output_type": "execute_result"
    }
   ],
   "source": [
    "len(expanded_objects)"
   ]
  },
  {
   "cell_type": "code",
   "execution_count": 24,
   "id": "6332be6e-9f82-43f4-a152-bf18cb722302",
   "metadata": {},
   "outputs": [],
   "source": [
    "objects_boto3 = pd.DataFrame.from_dict({'key':expanded_objects},dtype=str)"
   ]
  },
  {
   "cell_type": "code",
   "execution_count": 25,
   "id": "50f3238c-fe3d-4afa-9744-fbfc0a4044d9",
   "metadata": {},
   "outputs": [
    {
     "data": {
      "text/html": [
       "<div>\n",
       "<style scoped>\n",
       "    .dataframe tbody tr th:only-of-type {\n",
       "        vertical-align: middle;\n",
       "    }\n",
       "\n",
       "    .dataframe tbody tr th {\n",
       "        vertical-align: top;\n",
       "    }\n",
       "\n",
       "    .dataframe thead th {\n",
       "        text-align: right;\n",
       "    }\n",
       "</style>\n",
       "<table border=\"1\" class=\"dataframe\">\n",
       "  <thead>\n",
       "    <tr style=\"text-align: right;\">\n",
       "      <th></th>\n",
       "      <th>key</th>\n",
       "    </tr>\n",
       "  </thead>\n",
       "  <tbody>\n",
       "    <tr>\n",
       "      <th>0</th>\n",
       "      <td>dummy-lsst-backup.csv</td>\n",
       "    </tr>\n",
       "    <tr>\n",
       "      <th>1</th>\n",
       "      <td>dummy/1/1_1.f</td>\n",
       "    </tr>\n",
       "    <tr>\n",
       "      <th>2</th>\n",
       "      <td>dummy/1/1_2.f</td>\n",
       "    </tr>\n",
       "    <tr>\n",
       "      <th>3</th>\n",
       "      <td>dummy/14/14_1.f</td>\n",
       "    </tr>\n",
       "    <tr>\n",
       "      <th>4</th>\n",
       "      <td>dummy/14/14_2.f</td>\n",
       "    </tr>\n",
       "    <tr>\n",
       "      <th>...</th>\n",
       "      <td>...</td>\n",
       "    </tr>\n",
       "    <tr>\n",
       "      <th>795</th>\n",
       "      <td>dummy/collated_65.zip.metadata</td>\n",
       "    </tr>\n",
       "    <tr>\n",
       "      <th>796</th>\n",
       "      <td>dummy/collated_66.zip</td>\n",
       "    </tr>\n",
       "    <tr>\n",
       "      <th>797</th>\n",
       "      <td>dummy/collated_66.zip.metadata</td>\n",
       "    </tr>\n",
       "    <tr>\n",
       "      <th>798</th>\n",
       "      <td>dummy/collated_7.zip</td>\n",
       "    </tr>\n",
       "    <tr>\n",
       "      <th>799</th>\n",
       "      <td>dummy/collated_7.zip.metadata</td>\n",
       "    </tr>\n",
       "  </tbody>\n",
       "</table>\n",
       "<p>800 rows × 1 columns</p>\n",
       "</div>"
      ],
      "text/plain": [
       "                                key\n",
       "0             dummy-lsst-backup.csv\n",
       "1                     dummy/1/1_1.f\n",
       "2                     dummy/1/1_2.f\n",
       "3                   dummy/14/14_1.f\n",
       "4                   dummy/14/14_2.f\n",
       "..                              ...\n",
       "795  dummy/collated_65.zip.metadata\n",
       "796           dummy/collated_66.zip\n",
       "797  dummy/collated_66.zip.metadata\n",
       "798            dummy/collated_7.zip\n",
       "799   dummy/collated_7.zip.metadata\n",
       "\n",
       "[800 rows x 1 columns]"
      ]
     },
     "execution_count": 25,
     "metadata": {},
     "output_type": "execute_result"
    }
   ],
   "source": [
    "objects_boto3"
   ]
  },
  {
   "cell_type": "code",
   "execution_count": 26,
   "id": "af84f02d-735a-407b-bc84-f50ee3246122",
   "metadata": {},
   "outputs": [],
   "source": [
    "# %%timeit\n",
    "objects_boto3['metadata'] = objects_boto3['key'].apply(get_metadata_boto3, bucket=bucket)"
   ]
  },
  {
   "cell_type": "code",
   "execution_count": 27,
   "id": "bede23a9-32cb-4969-94b8-1dee5d05c4ff",
   "metadata": {},
   "outputs": [
    {
     "data": {
      "text/html": [
       "<div>\n",
       "<style scoped>\n",
       "    .dataframe tbody tr th:only-of-type {\n",
       "        vertical-align: middle;\n",
       "    }\n",
       "\n",
       "    .dataframe tbody tr th {\n",
       "        vertical-align: top;\n",
       "    }\n",
       "\n",
       "    .dataframe thead th {\n",
       "        text-align: right;\n",
       "    }\n",
       "</style>\n",
       "<table border=\"1\" class=\"dataframe\">\n",
       "  <thead>\n",
       "    <tr style=\"text-align: right;\">\n",
       "      <th></th>\n",
       "      <th>key</th>\n",
       "      <th>metadata</th>\n",
       "    </tr>\n",
       "  </thead>\n",
       "  <tbody>\n",
       "    <tr>\n",
       "      <th>48</th>\n",
       "      <td>dummy/collated_0.zip</td>\n",
       "      <td>7/7_1.f|7/7_2.f|98/98_2.f</td>\n",
       "    </tr>\n",
       "    <tr>\n",
       "      <th>50</th>\n",
       "      <td>dummy/collated_1.zip</td>\n",
       "      <td>98/98_1.f|53/53_2.f|53/53_1.f</td>\n",
       "    </tr>\n",
       "    <tr>\n",
       "      <th>52</th>\n",
       "      <td>dummy/collated_2.zip</td>\n",
       "      <td>50/50_2.f|50/50_1.f|67/67_2.f</td>\n",
       "    </tr>\n",
       "    <tr>\n",
       "      <th>54</th>\n",
       "      <td>dummy/collated_3.zip</td>\n",
       "      <td>67/67_1.f|2/2_2.f|2/2_1.f</td>\n",
       "    </tr>\n",
       "    <tr>\n",
       "      <th>56</th>\n",
       "      <td>dummy/collated_4.zip</td>\n",
       "      <td>8/8_1.f|8/8_2.f|87/87_2.f</td>\n",
       "    </tr>\n",
       "    <tr>\n",
       "      <th>...</th>\n",
       "      <td>...</td>\n",
       "      <td>...</td>\n",
       "    </tr>\n",
       "    <tr>\n",
       "      <th>790</th>\n",
       "      <td>dummy/collated_63.zip</td>\n",
       "      <td>81/81_2.f|52/52_1.f|52/52_2.f</td>\n",
       "    </tr>\n",
       "    <tr>\n",
       "      <th>792</th>\n",
       "      <td>dummy/collated_64.zip</td>\n",
       "      <td>31/31_1.f|31/31_2.f|30/30_2.f</td>\n",
       "    </tr>\n",
       "    <tr>\n",
       "      <th>794</th>\n",
       "      <td>dummy/collated_65.zip</td>\n",
       "      <td>30/30_1.f|36/36_2.f|36/36_1.f</td>\n",
       "    </tr>\n",
       "    <tr>\n",
       "      <th>796</th>\n",
       "      <td>dummy/collated_66.zip</td>\n",
       "      <td>14/14_2.f|14/14_1.f</td>\n",
       "    </tr>\n",
       "    <tr>\n",
       "      <th>798</th>\n",
       "      <td>dummy/collated_7.zip</td>\n",
       "      <td>18/18_1.f|44/44_1.f|44/44_2.f</td>\n",
       "    </tr>\n",
       "  </tbody>\n",
       "</table>\n",
       "<p>160 rows × 2 columns</p>\n",
       "</div>"
      ],
      "text/plain": [
       "                       key                       metadata\n",
       "48    dummy/collated_0.zip      7/7_1.f|7/7_2.f|98/98_2.f\n",
       "50    dummy/collated_1.zip  98/98_1.f|53/53_2.f|53/53_1.f\n",
       "52    dummy/collated_2.zip  50/50_2.f|50/50_1.f|67/67_2.f\n",
       "54    dummy/collated_3.zip      67/67_1.f|2/2_2.f|2/2_1.f\n",
       "56    dummy/collated_4.zip      8/8_1.f|8/8_2.f|87/87_2.f\n",
       "..                     ...                            ...\n",
       "790  dummy/collated_63.zip  81/81_2.f|52/52_1.f|52/52_2.f\n",
       "792  dummy/collated_64.zip  31/31_1.f|31/31_2.f|30/30_2.f\n",
       "794  dummy/collated_65.zip  30/30_1.f|36/36_2.f|36/36_1.f\n",
       "796  dummy/collated_66.zip            14/14_2.f|14/14_1.f\n",
       "798   dummy/collated_7.zip  18/18_1.f|44/44_1.f|44/44_2.f\n",
       "\n",
       "[160 rows x 2 columns]"
      ]
     },
     "execution_count": 27,
     "metadata": {},
     "output_type": "execute_result"
    }
   ],
   "source": [
    "objects_boto3[objects_boto3['key'].str.endswith('.zip')]"
   ]
  },
  {
   "cell_type": "code",
   "execution_count": 28,
   "id": "6ee27af1-eb73-4088-8e9c-60c621b34766",
   "metadata": {},
   "outputs": [],
   "source": [
    "objects_swift = pd.DataFrame.from_dict({'key':expanded_objects},dtype=str)"
   ]
  },
  {
   "cell_type": "code",
   "execution_count": 29,
   "id": "0baeae9a-65a5-47a7-8f2a-15c0968535b6",
   "metadata": {},
   "outputs": [
    {
     "data": {
      "text/html": [
       "<div>\n",
       "<style scoped>\n",
       "    .dataframe tbody tr th:only-of-type {\n",
       "        vertical-align: middle;\n",
       "    }\n",
       "\n",
       "    .dataframe tbody tr th {\n",
       "        vertical-align: top;\n",
       "    }\n",
       "\n",
       "    .dataframe thead th {\n",
       "        text-align: right;\n",
       "    }\n",
       "</style>\n",
       "<table border=\"1\" class=\"dataframe\">\n",
       "  <thead>\n",
       "    <tr style=\"text-align: right;\">\n",
       "      <th></th>\n",
       "      <th>key</th>\n",
       "    </tr>\n",
       "  </thead>\n",
       "  <tbody>\n",
       "    <tr>\n",
       "      <th>0</th>\n",
       "      <td>dummy-lsst-backup.csv</td>\n",
       "    </tr>\n",
       "    <tr>\n",
       "      <th>1</th>\n",
       "      <td>dummy/1/1_1.f</td>\n",
       "    </tr>\n",
       "    <tr>\n",
       "      <th>2</th>\n",
       "      <td>dummy/1/1_2.f</td>\n",
       "    </tr>\n",
       "    <tr>\n",
       "      <th>3</th>\n",
       "      <td>dummy/14/14_1.f</td>\n",
       "    </tr>\n",
       "    <tr>\n",
       "      <th>4</th>\n",
       "      <td>dummy/14/14_2.f</td>\n",
       "    </tr>\n",
       "    <tr>\n",
       "      <th>...</th>\n",
       "      <td>...</td>\n",
       "    </tr>\n",
       "    <tr>\n",
       "      <th>795</th>\n",
       "      <td>dummy/collated_65.zip.metadata</td>\n",
       "    </tr>\n",
       "    <tr>\n",
       "      <th>796</th>\n",
       "      <td>dummy/collated_66.zip</td>\n",
       "    </tr>\n",
       "    <tr>\n",
       "      <th>797</th>\n",
       "      <td>dummy/collated_66.zip.metadata</td>\n",
       "    </tr>\n",
       "    <tr>\n",
       "      <th>798</th>\n",
       "      <td>dummy/collated_7.zip</td>\n",
       "    </tr>\n",
       "    <tr>\n",
       "      <th>799</th>\n",
       "      <td>dummy/collated_7.zip.metadata</td>\n",
       "    </tr>\n",
       "  </tbody>\n",
       "</table>\n",
       "<p>800 rows × 1 columns</p>\n",
       "</div>"
      ],
      "text/plain": [
       "                                key\n",
       "0             dummy-lsst-backup.csv\n",
       "1                     dummy/1/1_1.f\n",
       "2                     dummy/1/1_2.f\n",
       "3                   dummy/14/14_1.f\n",
       "4                   dummy/14/14_2.f\n",
       "..                              ...\n",
       "795  dummy/collated_65.zip.metadata\n",
       "796           dummy/collated_66.zip\n",
       "797  dummy/collated_66.zip.metadata\n",
       "798            dummy/collated_7.zip\n",
       "799   dummy/collated_7.zip.metadata\n",
       "\n",
       "[800 rows x 1 columns]"
      ]
     },
     "execution_count": 29,
     "metadata": {},
     "output_type": "execute_result"
    }
   ],
   "source": [
    "objects_swift"
   ]
  },
  {
   "cell_type": "code",
   "execution_count": 30,
   "id": "9b9b39a5-904f-4105-92c9-827e0c37e2ee",
   "metadata": {},
   "outputs": [],
   "source": [
    "# %%timeit\n",
    "objects_swift['metadata'] = objects_swift['key'].apply(get_metadata_swift, connection=connection, container_name='LSST-IR-FUSION-testfromopenstack')"
   ]
  },
  {
   "cell_type": "code",
   "execution_count": 31,
   "id": "dbb56325-b4f9-4cf8-b697-7fd8b7d77a23",
   "metadata": {},
   "outputs": [
    {
     "data": {
      "text/html": [
       "<div>\n",
       "<style scoped>\n",
       "    .dataframe tbody tr th:only-of-type {\n",
       "        vertical-align: middle;\n",
       "    }\n",
       "\n",
       "    .dataframe tbody tr th {\n",
       "        vertical-align: top;\n",
       "    }\n",
       "\n",
       "    .dataframe thead th {\n",
       "        text-align: right;\n",
       "    }\n",
       "</style>\n",
       "<table border=\"1\" class=\"dataframe\">\n",
       "  <thead>\n",
       "    <tr style=\"text-align: right;\">\n",
       "      <th></th>\n",
       "      <th>key</th>\n",
       "      <th>metadata</th>\n",
       "    </tr>\n",
       "  </thead>\n",
       "  <tbody>\n",
       "    <tr>\n",
       "      <th>48</th>\n",
       "      <td>dummy/collated_0.zip</td>\n",
       "      <td>7/7_1.f|7/7_2.f|98/98_2.f</td>\n",
       "    </tr>\n",
       "    <tr>\n",
       "      <th>50</th>\n",
       "      <td>dummy/collated_1.zip</td>\n",
       "      <td>98/98_1.f|53/53_2.f|53/53_1.f</td>\n",
       "    </tr>\n",
       "    <tr>\n",
       "      <th>52</th>\n",
       "      <td>dummy/collated_2.zip</td>\n",
       "      <td>50/50_2.f|50/50_1.f|67/67_2.f</td>\n",
       "    </tr>\n",
       "    <tr>\n",
       "      <th>54</th>\n",
       "      <td>dummy/collated_3.zip</td>\n",
       "      <td>67/67_1.f|2/2_2.f|2/2_1.f</td>\n",
       "    </tr>\n",
       "    <tr>\n",
       "      <th>56</th>\n",
       "      <td>dummy/collated_4.zip</td>\n",
       "      <td>8/8_1.f|8/8_2.f|87/87_2.f</td>\n",
       "    </tr>\n",
       "    <tr>\n",
       "      <th>...</th>\n",
       "      <td>...</td>\n",
       "      <td>...</td>\n",
       "    </tr>\n",
       "    <tr>\n",
       "      <th>790</th>\n",
       "      <td>dummy/collated_63.zip</td>\n",
       "      <td>81/81_2.f|52/52_1.f|52/52_2.f</td>\n",
       "    </tr>\n",
       "    <tr>\n",
       "      <th>792</th>\n",
       "      <td>dummy/collated_64.zip</td>\n",
       "      <td>31/31_1.f|31/31_2.f|30/30_2.f</td>\n",
       "    </tr>\n",
       "    <tr>\n",
       "      <th>794</th>\n",
       "      <td>dummy/collated_65.zip</td>\n",
       "      <td>30/30_1.f|36/36_2.f|36/36_1.f</td>\n",
       "    </tr>\n",
       "    <tr>\n",
       "      <th>796</th>\n",
       "      <td>dummy/collated_66.zip</td>\n",
       "      <td>14/14_2.f|14/14_1.f</td>\n",
       "    </tr>\n",
       "    <tr>\n",
       "      <th>798</th>\n",
       "      <td>dummy/collated_7.zip</td>\n",
       "      <td>18/18_1.f|44/44_1.f|44/44_2.f</td>\n",
       "    </tr>\n",
       "  </tbody>\n",
       "</table>\n",
       "<p>160 rows × 2 columns</p>\n",
       "</div>"
      ],
      "text/plain": [
       "                       key                       metadata\n",
       "48    dummy/collated_0.zip      7/7_1.f|7/7_2.f|98/98_2.f\n",
       "50    dummy/collated_1.zip  98/98_1.f|53/53_2.f|53/53_1.f\n",
       "52    dummy/collated_2.zip  50/50_2.f|50/50_1.f|67/67_2.f\n",
       "54    dummy/collated_3.zip      67/67_1.f|2/2_2.f|2/2_1.f\n",
       "56    dummy/collated_4.zip      8/8_1.f|8/8_2.f|87/87_2.f\n",
       "..                     ...                            ...\n",
       "790  dummy/collated_63.zip  81/81_2.f|52/52_1.f|52/52_2.f\n",
       "792  dummy/collated_64.zip  31/31_1.f|31/31_2.f|30/30_2.f\n",
       "794  dummy/collated_65.zip  30/30_1.f|36/36_2.f|36/36_1.f\n",
       "796  dummy/collated_66.zip            14/14_2.f|14/14_1.f\n",
       "798   dummy/collated_7.zip  18/18_1.f|44/44_1.f|44/44_2.f\n",
       "\n",
       "[160 rows x 2 columns]"
      ]
     },
     "execution_count": 31,
     "metadata": {},
     "output_type": "execute_result"
    }
   ],
   "source": [
    "objects_swift[objects_swift['key'].str.endswith('.zip')]"
   ]
  },
  {
   "cell_type": "markdown",
   "id": "d8ffbc64-3283-4e8a-95f2-beafd426af9b",
   "metadata": {},
   "source": [
    "Swift and boto3 still take around the same amount of time to give us the metadata for all of the zip objects using Pandas and our metadata functions to fetch it.\n",
    "Both have established connection (or resource) objects that are already authenticated with the server.\n",
    "Both are bound by the internet connection speed.\n",
    "\n",
    "Let's try to parallelise them using Dask"
   ]
  },
  {
   "cell_type": "markdown",
   "id": "1a64ad29-d9f1-4a27-8d61-dd8722d5918a",
   "metadata": {},
   "source": [
    "## Dask parallelisation\n",
    "\n",
    "Note: this will use a parallel version of the pandas functionality, _not_ parallel versions of the boto3 or Swift functions."
   ]
  },
  {
   "cell_type": "code",
   "execution_count": 32,
   "id": "aced796b-c4f9-4660-b3c9-96e8062fd87c",
   "metadata": {},
   "outputs": [],
   "source": [
    "from dask import dataframe as ddf\n",
    "import distributed"
   ]
  },
  {
   "cell_type": "code",
   "execution_count": 33,
   "id": "8d2aa53a-e2c8-4655-b0d5-2884a49c9ea8",
   "metadata": {},
   "outputs": [],
   "source": [
    "client = distributed.Client()"
   ]
  },
  {
   "cell_type": "code",
   "execution_count": 34,
   "id": "528e0bce-6d00-4fb0-b2cc-c45fc460ef31",
   "metadata": {},
   "outputs": [
    {
     "data": {
      "text/html": [
       "<div>\n",
       "    <div style=\"width: 24px; height: 24px; background-color: #e1e1e1; border: 3px solid #9D9D9D; border-radius: 5px; position: absolute;\"> </div>\n",
       "    <div style=\"margin-left: 48px;\">\n",
       "        <h3 style=\"margin-bottom: 0px;\">Client</h3>\n",
       "        <p style=\"color: #9D9D9D; margin-bottom: 0px;\">Client-3be538b5-f5dc-11ef-ae7f-00155d449a57</p>\n",
       "        <table style=\"width: 100%; text-align: left;\">\n",
       "\n",
       "        <tr>\n",
       "        \n",
       "            <td style=\"text-align: left;\"><strong>Connection method:</strong> Cluster object</td>\n",
       "            <td style=\"text-align: left;\"><strong>Cluster type:</strong> distributed.LocalCluster</td>\n",
       "        \n",
       "        </tr>\n",
       "\n",
       "        \n",
       "            <tr>\n",
       "                <td style=\"text-align: left;\">\n",
       "                    <strong>Dashboard: </strong> <a href=\"http://127.0.0.1:8787/status\" target=\"_blank\">http://127.0.0.1:8787/status</a>\n",
       "                </td>\n",
       "                <td style=\"text-align: left;\"></td>\n",
       "            </tr>\n",
       "        \n",
       "\n",
       "        </table>\n",
       "\n",
       "        \n",
       "\n",
       "        \n",
       "            <details>\n",
       "            <summary style=\"margin-bottom: 20px;\"><h3 style=\"display: inline;\">Cluster Info</h3></summary>\n",
       "            <div class=\"jp-RenderedHTMLCommon jp-RenderedHTML jp-mod-trusted jp-OutputArea-output\">\n",
       "    <div style=\"width: 24px; height: 24px; background-color: #e1e1e1; border: 3px solid #9D9D9D; border-radius: 5px; position: absolute;\">\n",
       "    </div>\n",
       "    <div style=\"margin-left: 48px;\">\n",
       "        <h3 style=\"margin-bottom: 0px; margin-top: 0px;\">LocalCluster</h3>\n",
       "        <p style=\"color: #9D9D9D; margin-bottom: 0px;\">622aacee</p>\n",
       "        <table style=\"width: 100%; text-align: left;\">\n",
       "            <tr>\n",
       "                <td style=\"text-align: left;\">\n",
       "                    <strong>Dashboard:</strong> <a href=\"http://127.0.0.1:8787/status\" target=\"_blank\">http://127.0.0.1:8787/status</a>\n",
       "                </td>\n",
       "                <td style=\"text-align: left;\">\n",
       "                    <strong>Workers:</strong> 4\n",
       "                </td>\n",
       "            </tr>\n",
       "            <tr>\n",
       "                <td style=\"text-align: left;\">\n",
       "                    <strong>Total threads:</strong> 12\n",
       "                </td>\n",
       "                <td style=\"text-align: left;\">\n",
       "                    <strong>Total memory:</strong> 7.43 GiB\n",
       "                </td>\n",
       "            </tr>\n",
       "            \n",
       "            <tr>\n",
       "    <td style=\"text-align: left;\"><strong>Status:</strong> running</td>\n",
       "    <td style=\"text-align: left;\"><strong>Using processes:</strong> True</td>\n",
       "</tr>\n",
       "\n",
       "            \n",
       "        </table>\n",
       "\n",
       "        <details>\n",
       "            <summary style=\"margin-bottom: 20px;\">\n",
       "                <h3 style=\"display: inline;\">Scheduler Info</h3>\n",
       "            </summary>\n",
       "\n",
       "            <div style=\"\">\n",
       "    <div>\n",
       "        <div style=\"width: 24px; height: 24px; background-color: #FFF7E5; border: 3px solid #FF6132; border-radius: 5px; position: absolute;\"> </div>\n",
       "        <div style=\"margin-left: 48px;\">\n",
       "            <h3 style=\"margin-bottom: 0px;\">Scheduler</h3>\n",
       "            <p style=\"color: #9D9D9D; margin-bottom: 0px;\">Scheduler-d82c0e47-208c-4e5f-b0cd-2f8fab89b12f</p>\n",
       "            <table style=\"width: 100%; text-align: left;\">\n",
       "                <tr>\n",
       "                    <td style=\"text-align: left;\">\n",
       "                        <strong>Comm:</strong> tcp://127.0.0.1:44861\n",
       "                    </td>\n",
       "                    <td style=\"text-align: left;\">\n",
       "                        <strong>Workers:</strong> 4\n",
       "                    </td>\n",
       "                </tr>\n",
       "                <tr>\n",
       "                    <td style=\"text-align: left;\">\n",
       "                        <strong>Dashboard:</strong> <a href=\"http://127.0.0.1:8787/status\" target=\"_blank\">http://127.0.0.1:8787/status</a>\n",
       "                    </td>\n",
       "                    <td style=\"text-align: left;\">\n",
       "                        <strong>Total threads:</strong> 12\n",
       "                    </td>\n",
       "                </tr>\n",
       "                <tr>\n",
       "                    <td style=\"text-align: left;\">\n",
       "                        <strong>Started:</strong> Just now\n",
       "                    </td>\n",
       "                    <td style=\"text-align: left;\">\n",
       "                        <strong>Total memory:</strong> 7.43 GiB\n",
       "                    </td>\n",
       "                </tr>\n",
       "            </table>\n",
       "        </div>\n",
       "    </div>\n",
       "\n",
       "    <details style=\"margin-left: 48px;\">\n",
       "        <summary style=\"margin-bottom: 20px;\">\n",
       "            <h3 style=\"display: inline;\">Workers</h3>\n",
       "        </summary>\n",
       "\n",
       "        \n",
       "        <div style=\"margin-bottom: 20px;\">\n",
       "            <div style=\"width: 24px; height: 24px; background-color: #DBF5FF; border: 3px solid #4CC9FF; border-radius: 5px; position: absolute;\"> </div>\n",
       "            <div style=\"margin-left: 48px;\">\n",
       "            <details>\n",
       "                <summary>\n",
       "                    <h4 style=\"margin-bottom: 0px; display: inline;\">Worker: 0</h4>\n",
       "                </summary>\n",
       "                <table style=\"width: 100%; text-align: left;\">\n",
       "                    <tr>\n",
       "                        <td style=\"text-align: left;\">\n",
       "                            <strong>Comm: </strong> tcp://127.0.0.1:40709\n",
       "                        </td>\n",
       "                        <td style=\"text-align: left;\">\n",
       "                            <strong>Total threads: </strong> 3\n",
       "                        </td>\n",
       "                    </tr>\n",
       "                    <tr>\n",
       "                        <td style=\"text-align: left;\">\n",
       "                            <strong>Dashboard: </strong> <a href=\"http://127.0.0.1:34985/status\" target=\"_blank\">http://127.0.0.1:34985/status</a>\n",
       "                        </td>\n",
       "                        <td style=\"text-align: left;\">\n",
       "                            <strong>Memory: </strong> 1.86 GiB\n",
       "                        </td>\n",
       "                    </tr>\n",
       "                    <tr>\n",
       "                        <td style=\"text-align: left;\">\n",
       "                            <strong>Nanny: </strong> tcp://127.0.0.1:32887\n",
       "                        </td>\n",
       "                        <td style=\"text-align: left;\"></td>\n",
       "                    </tr>\n",
       "                    <tr>\n",
       "                        <td colspan=\"2\" style=\"text-align: left;\">\n",
       "                            <strong>Local directory: </strong> /tmp/dask-scratch-space/worker-11ezokjb\n",
       "                        </td>\n",
       "                    </tr>\n",
       "\n",
       "                    \n",
       "\n",
       "                    \n",
       "\n",
       "                </table>\n",
       "            </details>\n",
       "            </div>\n",
       "        </div>\n",
       "        \n",
       "        <div style=\"margin-bottom: 20px;\">\n",
       "            <div style=\"width: 24px; height: 24px; background-color: #DBF5FF; border: 3px solid #4CC9FF; border-radius: 5px; position: absolute;\"> </div>\n",
       "            <div style=\"margin-left: 48px;\">\n",
       "            <details>\n",
       "                <summary>\n",
       "                    <h4 style=\"margin-bottom: 0px; display: inline;\">Worker: 1</h4>\n",
       "                </summary>\n",
       "                <table style=\"width: 100%; text-align: left;\">\n",
       "                    <tr>\n",
       "                        <td style=\"text-align: left;\">\n",
       "                            <strong>Comm: </strong> tcp://127.0.0.1:33475\n",
       "                        </td>\n",
       "                        <td style=\"text-align: left;\">\n",
       "                            <strong>Total threads: </strong> 3\n",
       "                        </td>\n",
       "                    </tr>\n",
       "                    <tr>\n",
       "                        <td style=\"text-align: left;\">\n",
       "                            <strong>Dashboard: </strong> <a href=\"http://127.0.0.1:42357/status\" target=\"_blank\">http://127.0.0.1:42357/status</a>\n",
       "                        </td>\n",
       "                        <td style=\"text-align: left;\">\n",
       "                            <strong>Memory: </strong> 1.86 GiB\n",
       "                        </td>\n",
       "                    </tr>\n",
       "                    <tr>\n",
       "                        <td style=\"text-align: left;\">\n",
       "                            <strong>Nanny: </strong> tcp://127.0.0.1:42509\n",
       "                        </td>\n",
       "                        <td style=\"text-align: left;\"></td>\n",
       "                    </tr>\n",
       "                    <tr>\n",
       "                        <td colspan=\"2\" style=\"text-align: left;\">\n",
       "                            <strong>Local directory: </strong> /tmp/dask-scratch-space/worker-au2s5rb2\n",
       "                        </td>\n",
       "                    </tr>\n",
       "\n",
       "                    \n",
       "\n",
       "                    \n",
       "\n",
       "                </table>\n",
       "            </details>\n",
       "            </div>\n",
       "        </div>\n",
       "        \n",
       "        <div style=\"margin-bottom: 20px;\">\n",
       "            <div style=\"width: 24px; height: 24px; background-color: #DBF5FF; border: 3px solid #4CC9FF; border-radius: 5px; position: absolute;\"> </div>\n",
       "            <div style=\"margin-left: 48px;\">\n",
       "            <details>\n",
       "                <summary>\n",
       "                    <h4 style=\"margin-bottom: 0px; display: inline;\">Worker: 2</h4>\n",
       "                </summary>\n",
       "                <table style=\"width: 100%; text-align: left;\">\n",
       "                    <tr>\n",
       "                        <td style=\"text-align: left;\">\n",
       "                            <strong>Comm: </strong> tcp://127.0.0.1:38293\n",
       "                        </td>\n",
       "                        <td style=\"text-align: left;\">\n",
       "                            <strong>Total threads: </strong> 3\n",
       "                        </td>\n",
       "                    </tr>\n",
       "                    <tr>\n",
       "                        <td style=\"text-align: left;\">\n",
       "                            <strong>Dashboard: </strong> <a href=\"http://127.0.0.1:36499/status\" target=\"_blank\">http://127.0.0.1:36499/status</a>\n",
       "                        </td>\n",
       "                        <td style=\"text-align: left;\">\n",
       "                            <strong>Memory: </strong> 1.86 GiB\n",
       "                        </td>\n",
       "                    </tr>\n",
       "                    <tr>\n",
       "                        <td style=\"text-align: left;\">\n",
       "                            <strong>Nanny: </strong> tcp://127.0.0.1:43841\n",
       "                        </td>\n",
       "                        <td style=\"text-align: left;\"></td>\n",
       "                    </tr>\n",
       "                    <tr>\n",
       "                        <td colspan=\"2\" style=\"text-align: left;\">\n",
       "                            <strong>Local directory: </strong> /tmp/dask-scratch-space/worker-dd9q5j_7\n",
       "                        </td>\n",
       "                    </tr>\n",
       "\n",
       "                    \n",
       "\n",
       "                    \n",
       "\n",
       "                </table>\n",
       "            </details>\n",
       "            </div>\n",
       "        </div>\n",
       "        \n",
       "        <div style=\"margin-bottom: 20px;\">\n",
       "            <div style=\"width: 24px; height: 24px; background-color: #DBF5FF; border: 3px solid #4CC9FF; border-radius: 5px; position: absolute;\"> </div>\n",
       "            <div style=\"margin-left: 48px;\">\n",
       "            <details>\n",
       "                <summary>\n",
       "                    <h4 style=\"margin-bottom: 0px; display: inline;\">Worker: 3</h4>\n",
       "                </summary>\n",
       "                <table style=\"width: 100%; text-align: left;\">\n",
       "                    <tr>\n",
       "                        <td style=\"text-align: left;\">\n",
       "                            <strong>Comm: </strong> tcp://127.0.0.1:35165\n",
       "                        </td>\n",
       "                        <td style=\"text-align: left;\">\n",
       "                            <strong>Total threads: </strong> 3\n",
       "                        </td>\n",
       "                    </tr>\n",
       "                    <tr>\n",
       "                        <td style=\"text-align: left;\">\n",
       "                            <strong>Dashboard: </strong> <a href=\"http://127.0.0.1:42555/status\" target=\"_blank\">http://127.0.0.1:42555/status</a>\n",
       "                        </td>\n",
       "                        <td style=\"text-align: left;\">\n",
       "                            <strong>Memory: </strong> 1.86 GiB\n",
       "                        </td>\n",
       "                    </tr>\n",
       "                    <tr>\n",
       "                        <td style=\"text-align: left;\">\n",
       "                            <strong>Nanny: </strong> tcp://127.0.0.1:33635\n",
       "                        </td>\n",
       "                        <td style=\"text-align: left;\"></td>\n",
       "                    </tr>\n",
       "                    <tr>\n",
       "                        <td colspan=\"2\" style=\"text-align: left;\">\n",
       "                            <strong>Local directory: </strong> /tmp/dask-scratch-space/worker-82aelion\n",
       "                        </td>\n",
       "                    </tr>\n",
       "\n",
       "                    \n",
       "\n",
       "                    \n",
       "\n",
       "                </table>\n",
       "            </details>\n",
       "            </div>\n",
       "        </div>\n",
       "        \n",
       "\n",
       "    </details>\n",
       "</div>\n",
       "\n",
       "        </details>\n",
       "    </div>\n",
       "</div>\n",
       "            </details>\n",
       "        \n",
       "\n",
       "    </div>\n",
       "</div>"
      ],
      "text/plain": [
       "<Client: 'tcp://127.0.0.1:44861' processes=4 threads=12, memory=7.43 GiB>"
      ]
     },
     "execution_count": 34,
     "metadata": {},
     "output_type": "execute_result"
    }
   ],
   "source": [
    "client"
   ]
  },
  {
   "cell_type": "code",
   "execution_count": 35,
   "id": "cd7f738b-1ee6-4bc5-9f2e-fda98b5febea",
   "metadata": {},
   "outputs": [],
   "source": [
    "objects_swift = pd.DataFrame.from_dict({'key':expanded_objects},dtype=str)"
   ]
  },
  {
   "cell_type": "code",
   "execution_count": 36,
   "id": "fc22c3f7-f5ac-41dd-8295-b2c3c496635f",
   "metadata": {},
   "outputs": [],
   "source": [
    "objects_swift_dask = ddf.from_pandas(objects_swift, npartitions=len(expanded_objects)//12)"
   ]
  },
  {
   "cell_type": "code",
   "execution_count": 37,
   "id": "83b72e0d-cedd-448b-a93d-89b81a26db41",
   "metadata": {},
   "outputs": [
    {
     "data": {
      "text/html": [
       "<div><strong>Dask DataFrame Structure:</strong></div>\n",
       "<table border=\"1\" class=\"dataframe\">\n",
       "  <thead>\n",
       "    <tr style=\"text-align: right;\">\n",
       "      <th></th>\n",
       "      <th>key</th>\n",
       "    </tr>\n",
       "    <tr>\n",
       "      <th>npartitions=66</th>\n",
       "      <th></th>\n",
       "    </tr>\n",
       "  </thead>\n",
       "  <tbody>\n",
       "    <tr>\n",
       "      <th>0</th>\n",
       "      <td>string</td>\n",
       "    </tr>\n",
       "    <tr>\n",
       "      <th>13</th>\n",
       "      <td>...</td>\n",
       "    </tr>\n",
       "    <tr>\n",
       "      <th>...</th>\n",
       "      <td>...</td>\n",
       "    </tr>\n",
       "    <tr>\n",
       "      <th>788</th>\n",
       "      <td>...</td>\n",
       "    </tr>\n",
       "    <tr>\n",
       "      <th>799</th>\n",
       "      <td>...</td>\n",
       "    </tr>\n",
       "  </tbody>\n",
       "</table>\n",
       "<div>Dask Name: frompandas, 1 expression</div>"
      ],
      "text/plain": [
       "Dask DataFrame Structure:\n",
       "                   key\n",
       "npartitions=66        \n",
       "0               string\n",
       "13                 ...\n",
       "...                ...\n",
       "788                ...\n",
       "799                ...\n",
       "Dask Name: frompandas, 1 expression\n",
       "Expr=df"
      ]
     },
     "execution_count": 37,
     "metadata": {},
     "output_type": "execute_result"
    }
   ],
   "source": [
    "objects_swift_dask"
   ]
  },
  {
   "cell_type": "code",
   "execution_count": 38,
   "id": "6b7c26af-9eab-4f40-88c6-c529a03b3821",
   "metadata": {},
   "outputs": [],
   "source": [
    "objects_swift_dask['metadata'] = objects_swift_dask['key'].apply(get_metadata_swift, connection=connection, container_name='LSST-IR-FUSION-testfromopenstack', meta=pd.Series(dtype=str))"
   ]
  },
  {
   "cell_type": "code",
   "execution_count": 39,
   "id": "d254a2a5-7e78-4635-8585-1e4f6b69e8b0",
   "metadata": {},
   "outputs": [
    {
     "data": {
      "text/html": [
       "<div><strong>Dask DataFrame Structure:</strong></div>\n",
       "<table border=\"1\" class=\"dataframe\">\n",
       "  <thead>\n",
       "    <tr style=\"text-align: right;\">\n",
       "      <th></th>\n",
       "      <th>key</th>\n",
       "      <th>metadata</th>\n",
       "    </tr>\n",
       "    <tr>\n",
       "      <th>npartitions=66</th>\n",
       "      <th></th>\n",
       "      <th></th>\n",
       "    </tr>\n",
       "  </thead>\n",
       "  <tbody>\n",
       "    <tr>\n",
       "      <th>0</th>\n",
       "      <td>string</td>\n",
       "      <td>object</td>\n",
       "    </tr>\n",
       "    <tr>\n",
       "      <th>13</th>\n",
       "      <td>...</td>\n",
       "      <td>...</td>\n",
       "    </tr>\n",
       "    <tr>\n",
       "      <th>...</th>\n",
       "      <td>...</td>\n",
       "      <td>...</td>\n",
       "    </tr>\n",
       "    <tr>\n",
       "      <th>788</th>\n",
       "      <td>...</td>\n",
       "      <td>...</td>\n",
       "    </tr>\n",
       "    <tr>\n",
       "      <th>799</th>\n",
       "      <td>...</td>\n",
       "      <td>...</td>\n",
       "    </tr>\n",
       "  </tbody>\n",
       "</table>\n",
       "<div>Dask Name: assign, 4 expressions</div>"
      ],
      "text/plain": [
       "Dask DataFrame Structure:\n",
       "                   key metadata\n",
       "npartitions=66                 \n",
       "0               string   object\n",
       "13                 ...      ...\n",
       "...                ...      ...\n",
       "788                ...      ...\n",
       "799                ...      ...\n",
       "Dask Name: assign, 4 expressions\n",
       "Expr=Assign(frame=df)"
      ]
     },
     "execution_count": 39,
     "metadata": {},
     "output_type": "execute_result"
    }
   ],
   "source": [
    "objects_swift_dask"
   ]
  },
  {
   "cell_type": "code",
   "execution_count": 40,
   "id": "a9182f3c-b3e1-4561-88d7-a609cf4027a5",
   "metadata": {},
   "outputs": [],
   "source": [
    "# %%timeit\n",
    "objects_swift = objects_swift_dask.compute()"
   ]
  },
  {
   "cell_type": "code",
   "execution_count": 41,
   "id": "542bc0f8-6547-4d8b-bf7a-ee4cfc29b4b6",
   "metadata": {},
   "outputs": [
    {
     "data": {
      "text/html": [
       "<div>\n",
       "<style scoped>\n",
       "    .dataframe tbody tr th:only-of-type {\n",
       "        vertical-align: middle;\n",
       "    }\n",
       "\n",
       "    .dataframe tbody tr th {\n",
       "        vertical-align: top;\n",
       "    }\n",
       "\n",
       "    .dataframe thead th {\n",
       "        text-align: right;\n",
       "    }\n",
       "</style>\n",
       "<table border=\"1\" class=\"dataframe\">\n",
       "  <thead>\n",
       "    <tr style=\"text-align: right;\">\n",
       "      <th></th>\n",
       "      <th>key</th>\n",
       "      <th>metadata</th>\n",
       "    </tr>\n",
       "  </thead>\n",
       "  <tbody>\n",
       "    <tr>\n",
       "      <th>0</th>\n",
       "      <td>dummy-lsst-backup.csv</td>\n",
       "      <td></td>\n",
       "    </tr>\n",
       "    <tr>\n",
       "      <th>1</th>\n",
       "      <td>dummy/1/1_1.f</td>\n",
       "      <td></td>\n",
       "    </tr>\n",
       "    <tr>\n",
       "      <th>2</th>\n",
       "      <td>dummy/1/1_2.f</td>\n",
       "      <td></td>\n",
       "    </tr>\n",
       "    <tr>\n",
       "      <th>3</th>\n",
       "      <td>dummy/14/14_1.f</td>\n",
       "      <td></td>\n",
       "    </tr>\n",
       "    <tr>\n",
       "      <th>4</th>\n",
       "      <td>dummy/14/14_2.f</td>\n",
       "      <td></td>\n",
       "    </tr>\n",
       "    <tr>\n",
       "      <th>...</th>\n",
       "      <td>...</td>\n",
       "      <td>...</td>\n",
       "    </tr>\n",
       "    <tr>\n",
       "      <th>795</th>\n",
       "      <td>dummy/collated_65.zip.metadata</td>\n",
       "      <td></td>\n",
       "    </tr>\n",
       "    <tr>\n",
       "      <th>796</th>\n",
       "      <td>dummy/collated_66.zip</td>\n",
       "      <td>14/14_2.f|14/14_1.f</td>\n",
       "    </tr>\n",
       "    <tr>\n",
       "      <th>797</th>\n",
       "      <td>dummy/collated_66.zip.metadata</td>\n",
       "      <td></td>\n",
       "    </tr>\n",
       "    <tr>\n",
       "      <th>798</th>\n",
       "      <td>dummy/collated_7.zip</td>\n",
       "      <td>18/18_1.f|44/44_1.f|44/44_2.f</td>\n",
       "    </tr>\n",
       "    <tr>\n",
       "      <th>799</th>\n",
       "      <td>dummy/collated_7.zip.metadata</td>\n",
       "      <td></td>\n",
       "    </tr>\n",
       "  </tbody>\n",
       "</table>\n",
       "<p>800 rows × 2 columns</p>\n",
       "</div>"
      ],
      "text/plain": [
       "                                key                       metadata\n",
       "0             dummy-lsst-backup.csv                               \n",
       "1                     dummy/1/1_1.f                               \n",
       "2                     dummy/1/1_2.f                               \n",
       "3                   dummy/14/14_1.f                               \n",
       "4                   dummy/14/14_2.f                               \n",
       "..                              ...                            ...\n",
       "795  dummy/collated_65.zip.metadata                               \n",
       "796           dummy/collated_66.zip            14/14_2.f|14/14_1.f\n",
       "797  dummy/collated_66.zip.metadata                               \n",
       "798            dummy/collated_7.zip  18/18_1.f|44/44_1.f|44/44_2.f\n",
       "799   dummy/collated_7.zip.metadata                               \n",
       "\n",
       "[800 rows x 2 columns]"
      ]
     },
     "execution_count": 41,
     "metadata": {},
     "output_type": "execute_result"
    }
   ],
   "source": [
    "objects_swift"
   ]
  },
  {
   "cell_type": "code",
   "execution_count": 42,
   "id": "8bdf3779-373a-4637-877e-a19b52154533",
   "metadata": {},
   "outputs": [],
   "source": [
    "objects_boto3 = pd.DataFrame.from_dict({'key':expanded_objects},dtype=str)"
   ]
  },
  {
   "cell_type": "code",
   "execution_count": 43,
   "id": "fe94f910-128b-426a-8702-21c11d9cdc6c",
   "metadata": {},
   "outputs": [],
   "source": [
    "objects_boto3_dask = ddf.from_pandas(objects_boto3, npartitions=len(expanded_objects)//12)"
   ]
  },
  {
   "cell_type": "code",
   "execution_count": 44,
   "id": "e57dfa23-a1f7-4790-aeb1-a050f1ef4c6b",
   "metadata": {},
   "outputs": [
    {
     "data": {
      "text/html": [
       "<div><strong>Dask DataFrame Structure:</strong></div>\n",
       "<table border=\"1\" class=\"dataframe\">\n",
       "  <thead>\n",
       "    <tr style=\"text-align: right;\">\n",
       "      <th></th>\n",
       "      <th>key</th>\n",
       "    </tr>\n",
       "    <tr>\n",
       "      <th>npartitions=66</th>\n",
       "      <th></th>\n",
       "    </tr>\n",
       "  </thead>\n",
       "  <tbody>\n",
       "    <tr>\n",
       "      <th>0</th>\n",
       "      <td>string</td>\n",
       "    </tr>\n",
       "    <tr>\n",
       "      <th>13</th>\n",
       "      <td>...</td>\n",
       "    </tr>\n",
       "    <tr>\n",
       "      <th>...</th>\n",
       "      <td>...</td>\n",
       "    </tr>\n",
       "    <tr>\n",
       "      <th>788</th>\n",
       "      <td>...</td>\n",
       "    </tr>\n",
       "    <tr>\n",
       "      <th>799</th>\n",
       "      <td>...</td>\n",
       "    </tr>\n",
       "  </tbody>\n",
       "</table>\n",
       "<div>Dask Name: frompandas, 1 expression</div>"
      ],
      "text/plain": [
       "Dask DataFrame Structure:\n",
       "                   key\n",
       "npartitions=66        \n",
       "0               string\n",
       "13                 ...\n",
       "...                ...\n",
       "788                ...\n",
       "799                ...\n",
       "Dask Name: frompandas, 1 expression\n",
       "Expr=df"
      ]
     },
     "execution_count": 44,
     "metadata": {},
     "output_type": "execute_result"
    }
   ],
   "source": [
    "objects_boto3_dask"
   ]
  },
  {
   "cell_type": "code",
   "execution_count": 45,
   "id": "95376e06-8cce-4a65-a6ae-e65c531c7cc2",
   "metadata": {
    "scrolled": true
   },
   "outputs": [],
   "source": [
    "# objects_boto3_dask['metadata'] = objects_boto3_dask['key'].apply(get_metadata_boto3, bucket=bucket, meta=pd.Series(dtype=str))"
   ]
  },
  {
   "cell_type": "markdown",
   "id": "65c7f4c4-cd70-4d99-b399-2cdaf7b54e94",
   "metadata": {},
   "source": [
    "## Conclusion\n",
    "\n",
    "- OpenStack Swift API is not 10 times faster than S3 API, it's about as fast.\n",
    "- OpenStack python-swiftclient is not 10 times faster than boto3, it's about as fast.\n",
    "- Using swiftclient with Pandas is not 10 times faster than using boto3 with Pandas, it's about as fast.\n",
    "- Using swiftclient with Dask _is_ __at least__ 10 times faster than using either swiftclient or boto3 with Pandas.\n",
    "- Using boto3 with Dask is impossible.\n",
    "\n",
    "Therefore, the combination of swiftclient and Dask is __at least__ 10 times faster than the de facto industry standards of boto3 and Pandas, because Dask is faster than Pandas, and swiftclient objects __are__ _picklable_ and boto3 objects __are not__ _picklable_.\n"
   ]
  },
  {
   "cell_type": "markdown",
   "id": "9f5e8c25-3534-46ab-8b12-4f2c76158a00",
   "metadata": {},
   "source": [
    "## Appendix\n",
    "\n",
    "Minimal example of pickling."
   ]
  },
  {
   "cell_type": "code",
   "execution_count": 46,
   "id": "38185508-e0c6-463a-8c22-3db0e83a664d",
   "metadata": {},
   "outputs": [],
   "source": [
    "import s3fs"
   ]
  },
  {
   "cell_type": "code",
   "execution_count": 47,
   "id": "6bb733cf-0ed0-4270-a106-7abf1271521e",
   "metadata": {
    "scrolled": true
   },
   "outputs": [
    {
     "name": "stdout",
     "output_type": "stream",
     "text": [
      "0 dummy-lsst-backup.csv\n",
      "1 dummy/1/1_1.f\n",
      "2 dummy/1/1_2.f\n",
      "3 dummy/14/14_1.f\n",
      "4 dummy/14/14_2.f\n",
      "5 dummy/17/17_2.f\n",
      "6 dummy/18/18_1.f\n",
      "7 dummy/18/18_2.f\n",
      "8 dummy/2/2_1.f\n",
      "9 dummy/2/2_2.f\n",
      "10 dummy/21/21_1.f\n",
      "11 dummy/21/21_2.f\n",
      "12 dummy/30/30_1.f\n",
      "13 dummy/30/30_2.f\n",
      "14 dummy/31/31_1.f\n",
      "15 dummy/31/31_2.f\n",
      "16 dummy/36/36_1.f\n",
      "17 dummy/36/36_2.f\n",
      "18 dummy/44/44_1.f\n",
      "19 dummy/44/44_2.f\n",
      "20 dummy/46/46_1.f\n",
      "21 dummy/5/5_1.f\n",
      "22 dummy/5/5_2.f\n",
      "23 dummy/50/50_1.f\n",
      "24 dummy/50/50_2.f\n",
      "25 dummy/52/52_1.f\n",
      "26 dummy/52/52_2.f\n",
      "27 dummy/53/53_1.f\n",
      "28 dummy/53/53_2.f\n",
      "29 dummy/60/60_2.f\n",
      "30 dummy/67/67_1.f\n",
      "31 dummy/67/67_2.f\n",
      "32 dummy/7/7_1.f\n",
      "33 dummy/7/7_2.f\n",
      "34 dummy/72/72_1.f\n",
      "35 dummy/72/72_2.f\n",
      "36 dummy/8/8_1.f\n",
      "37 dummy/8/8_2.f\n",
      "38 dummy/81/81_1.f\n",
      "39 dummy/81/81_2.f\n",
      "40 dummy/87/87_1.f\n",
      "41 dummy/87/87_2.f\n",
      "42 dummy/88/88_1.f\n",
      "43 dummy/88/88_2.f\n",
      "44 dummy/97/97_1.f\n",
      "45 dummy/97/97_2.f\n",
      "46 dummy/98/98_1.f\n",
      "47 dummy/98/98_2.f\n",
      "48 dummy/collated_0.zip\n",
      "49 dummy/collated_0.zip.metadata\n",
      "50 dummy/collated_1.zip\n",
      "51 dummy/collated_1.zip.metadata\n",
      "52 dummy/collated_2.zip\n",
      "53 dummy/collated_2.zip.metadata\n",
      "54 dummy/collated_3.zip\n",
      "55 dummy/collated_3.zip.metadata\n",
      "56 dummy/collated_4.zip\n",
      "57 dummy/collated_4.zip.metadata\n",
      "58 dummy/collated_5.zip\n",
      "59 dummy/collated_5.zip.metadata\n",
      "60 dummy/collated_55.zip\n",
      "61 dummy/collated_55.zip.metadata\n",
      "62 dummy/collated_59.zip\n",
      "63 dummy/collated_59.zip.metadata\n",
      "64 dummy/collated_6.zip\n",
      "65 dummy/collated_6.zip.metadata\n",
      "66 dummy/collated_61.zip\n",
      "67 dummy/collated_61.zip.metadata\n",
      "68 dummy/collated_62.zip\n",
      "69 dummy/collated_62.zip.metadata\n",
      "70 dummy/collated_63.zip\n",
      "71 dummy/collated_63.zip.metadata\n",
      "72 dummy/collated_64.zip\n",
      "73 dummy/collated_64.zip.metadata\n",
      "74 dummy/collated_65.zip\n",
      "75 dummy/collated_65.zip.metadata\n",
      "76 dummy/collated_66.zip\n",
      "77 dummy/collated_66.zip.metadata\n",
      "78 dummy/collated_7.zip\n",
      "79 dummy/collated_7.zip.metadata\n"
     ]
    }
   ],
   "source": [
    "for i in range(len(swift_objects)):\n",
    "    print(i,swift_objects[i])"
   ]
  },
  {
   "cell_type": "code",
   "execution_count": 48,
   "id": "834ed114-2f60-4219-a232-3ad3e32bf3f8",
   "metadata": {},
   "outputs": [],
   "source": [
    "def get_metadata_s3fs(key, bucket_name, client):\n",
    "    if key.endswith('.zip.metadata'):\n",
    "        try:\n",
    "            metadata = s3.cat(f'{bucket_name}/{key}').decode('utf-8')\n",
    "        except:\n",
    "            return ''\n",
    "        return metadata\n",
    "    else:\n",
    "        return ''\n",
    "\n",
    "s3 = s3fs.S3FileSystem(key=creds['S3_ACCESS_KEY'], secret=creds['S3_SECRET_KEY'], endpoint_url=creds['S3_HOST_URL'])\n"
   ]
  },
  {
   "cell_type": "code",
   "execution_count": 49,
   "id": "d77e3f2b-2e6d-4650-8d04-72496a48a5dd",
   "metadata": {},
   "outputs": [
    {
     "data": {
      "text/html": [
       "<div>\n",
       "<style scoped>\n",
       "    .dataframe tbody tr th:only-of-type {\n",
       "        vertical-align: middle;\n",
       "    }\n",
       "\n",
       "    .dataframe tbody tr th {\n",
       "        vertical-align: top;\n",
       "    }\n",
       "\n",
       "    .dataframe thead th {\n",
       "        text-align: right;\n",
       "    }\n",
       "</style>\n",
       "<table border=\"1\" class=\"dataframe\">\n",
       "  <thead>\n",
       "    <tr style=\"text-align: right;\">\n",
       "      <th></th>\n",
       "      <th>key</th>\n",
       "    </tr>\n",
       "  </thead>\n",
       "  <tbody>\n",
       "    <tr>\n",
       "      <th>0</th>\n",
       "      <td>dummy-lsst-backup.csv</td>\n",
       "    </tr>\n",
       "    <tr>\n",
       "      <th>1</th>\n",
       "      <td>dummy/1/1_1.f</td>\n",
       "    </tr>\n",
       "    <tr>\n",
       "      <th>2</th>\n",
       "      <td>dummy/1/1_2.f</td>\n",
       "    </tr>\n",
       "    <tr>\n",
       "      <th>3</th>\n",
       "      <td>dummy/14/14_1.f</td>\n",
       "    </tr>\n",
       "    <tr>\n",
       "      <th>4</th>\n",
       "      <td>dummy/14/14_2.f</td>\n",
       "    </tr>\n",
       "    <tr>\n",
       "      <th>...</th>\n",
       "      <td>...</td>\n",
       "    </tr>\n",
       "    <tr>\n",
       "      <th>795</th>\n",
       "      <td>dummy/collated_65.zip.metadata</td>\n",
       "    </tr>\n",
       "    <tr>\n",
       "      <th>796</th>\n",
       "      <td>dummy/collated_66.zip</td>\n",
       "    </tr>\n",
       "    <tr>\n",
       "      <th>797</th>\n",
       "      <td>dummy/collated_66.zip.metadata</td>\n",
       "    </tr>\n",
       "    <tr>\n",
       "      <th>798</th>\n",
       "      <td>dummy/collated_7.zip</td>\n",
       "    </tr>\n",
       "    <tr>\n",
       "      <th>799</th>\n",
       "      <td>dummy/collated_7.zip.metadata</td>\n",
       "    </tr>\n",
       "  </tbody>\n",
       "</table>\n",
       "<p>800 rows × 1 columns</p>\n",
       "</div>"
      ],
      "text/plain": [
       "                                key\n",
       "0             dummy-lsst-backup.csv\n",
       "1                     dummy/1/1_1.f\n",
       "2                     dummy/1/1_2.f\n",
       "3                   dummy/14/14_1.f\n",
       "4                   dummy/14/14_2.f\n",
       "..                              ...\n",
       "795  dummy/collated_65.zip.metadata\n",
       "796           dummy/collated_66.zip\n",
       "797  dummy/collated_66.zip.metadata\n",
       "798            dummy/collated_7.zip\n",
       "799   dummy/collated_7.zip.metadata\n",
       "\n",
       "[800 rows x 1 columns]"
      ]
     },
     "execution_count": 49,
     "metadata": {},
     "output_type": "execute_result"
    }
   ],
   "source": [
    "objects_s3fs_d = pd.DataFrame.from_dict({'key':expanded_objects},dtype=str)\n",
    "objects_s3fs_d"
   ]
  },
  {
   "cell_type": "code",
   "execution_count": 50,
   "id": "fe8bc4c6-3ae1-4c0b-9d2e-7b504ae82b76",
   "metadata": {},
   "outputs": [
    {
     "data": {
      "text/html": [
       "<div><strong>Dask DataFrame Structure:</strong></div>\n",
       "<table border=\"1\" class=\"dataframe\">\n",
       "  <thead>\n",
       "    <tr style=\"text-align: right;\">\n",
       "      <th></th>\n",
       "      <th>key</th>\n",
       "    </tr>\n",
       "    <tr>\n",
       "      <th>npartitions=66</th>\n",
       "      <th></th>\n",
       "    </tr>\n",
       "  </thead>\n",
       "  <tbody>\n",
       "    <tr>\n",
       "      <th>0</th>\n",
       "      <td>string</td>\n",
       "    </tr>\n",
       "    <tr>\n",
       "      <th>13</th>\n",
       "      <td>...</td>\n",
       "    </tr>\n",
       "    <tr>\n",
       "      <th>...</th>\n",
       "      <td>...</td>\n",
       "    </tr>\n",
       "    <tr>\n",
       "      <th>788</th>\n",
       "      <td>...</td>\n",
       "    </tr>\n",
       "    <tr>\n",
       "      <th>799</th>\n",
       "      <td>...</td>\n",
       "    </tr>\n",
       "  </tbody>\n",
       "</table>\n",
       "<div>Dask Name: frompandas, 1 expression</div>"
      ],
      "text/plain": [
       "Dask DataFrame Structure:\n",
       "                   key\n",
       "npartitions=66        \n",
       "0               string\n",
       "13                 ...\n",
       "...                ...\n",
       "788                ...\n",
       "799                ...\n",
       "Dask Name: frompandas, 1 expression\n",
       "Expr=df"
      ]
     },
     "execution_count": 50,
     "metadata": {},
     "output_type": "execute_result"
    }
   ],
   "source": [
    "objects_s3fs_dask = ddf.from_pandas(objects_s3fs_d, npartitions=len(expanded_objects)//12)\n",
    "objects_s3fs_dask"
   ]
  },
  {
   "cell_type": "code",
   "execution_count": 51,
   "id": "8a028781-b0ab-4949-bbbe-e5dd9298b16e",
   "metadata": {},
   "outputs": [],
   "source": [
    "objects_s3fs_dask['metadata'] = objects_s3fs_dask['key'].apply(get_metadata_s3fs, bucket_name='LSST-IR-FUSION-testfromopenstack', client=s3, meta=pd.Series(dtype=str))"
   ]
  },
  {
   "cell_type": "code",
   "execution_count": 52,
   "id": "288fcd18-372d-4958-87ee-95d2e1e43d8b",
   "metadata": {},
   "outputs": [
    {
     "data": {
      "text/plain": [
       "'14/14_2.f|14/14_1.f'"
      ]
     },
     "execution_count": 52,
     "metadata": {},
     "output_type": "execute_result"
    }
   ],
   "source": [
    "get_metadata_s3fs('dummy/collated_66.zip.metadata', bucket_name='LSST-IR-FUSION-testfromopenstack', client=s3)"
   ]
  },
  {
   "cell_type": "code",
   "execution_count": 55,
   "id": "e97143f3-3b0c-4e7d-ac74-0a843381af7b",
   "metadata": {},
   "outputs": [
    {
     "name": "stdout",
     "output_type": "stream",
     "text": [
      "2.03 s ± 161 ms per loop (mean ± std. dev. of 7 runs, 1 loop each)\n"
     ]
    }
   ],
   "source": [
    "%%timeit\n",
    "objects_s3fs_d = objects_s3fs_dask.compute()"
   ]
  },
  {
   "cell_type": "code",
   "execution_count": 54,
   "id": "974b780c-02e9-4224-8640-48035bc730df",
   "metadata": {},
   "outputs": [
    {
     "data": {
      "text/plain": [
       "0                                   \n",
       "1                                   \n",
       "2                                   \n",
       "3                                   \n",
       "4                                   \n",
       "                   ...              \n",
       "795    30/30_1.f|36/36_2.f|36/36_1.f\n",
       "796                                 \n",
       "797              14/14_2.f|14/14_1.f\n",
       "798                                 \n",
       "799    18/18_1.f|44/44_1.f|44/44_2.f\n",
       "Name: metadata, Length: 800, dtype: object"
      ]
     },
     "execution_count": 54,
     "metadata": {},
     "output_type": "execute_result"
    }
   ],
   "source": [
    "objects_s3fs_d['metadata']"
   ]
  },
  {
   "cell_type": "code",
   "execution_count": null,
   "id": "5b454ca4-c467-40e2-ab96-5c02860a0a83",
   "metadata": {},
   "outputs": [],
   "source": []
  },
  {
   "cell_type": "code",
   "execution_count": null,
   "id": "492a2c07-189f-4370-a238-18f91dbca2a2",
   "metadata": {},
   "outputs": [],
   "source": []
  }
 ],
 "metadata": {
  "kernelspec": {
   "display_name": "Python 3 (ipykernel)",
   "language": "python",
   "name": "python3"
  },
  "language_info": {
   "codemirror_mode": {
    "name": "ipython",
    "version": 3
   },
   "file_extension": ".py",
   "mimetype": "text/x-python",
   "name": "python",
   "nbconvert_exporter": "python",
   "pygments_lexer": "ipython3",
   "version": "3.10.13"
  }
 },
 "nbformat": 4,
 "nbformat_minor": 5
}

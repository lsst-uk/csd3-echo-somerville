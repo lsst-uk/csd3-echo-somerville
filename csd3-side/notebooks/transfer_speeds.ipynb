{
 "cells": [
  {
   "cell_type": "code",
   "execution_count": 3,
   "metadata": {},
   "outputs": [],
   "source": [
    "import matplotlib.pyplot as plt\n",
    "import os, sys\n",
    "import numpy as np\n",
    "from glob import glob"
   ]
  },
  {
   "cell_type": "code",
   "execution_count": 4,
   "metadata": {},
   "outputs": [],
   "source": [
    "logfiles = glob('../testing_logs/*.log')"
   ]
  },
  {
   "cell_type": "code",
   "execution_count": 5,
   "metadata": {},
   "outputs": [
    {
     "data": {
      "text/plain": [
       "['../testing_logs/DTN_test_512MiB-100GiB_1-procs_1fpf.log',\n",
       " '../testing_logs/DTN_test_34MiB-100GiB_4-procs_1fpf_allsubs.log',\n",
       " '../testing_logs/DTN_test_64MiB-100GiB_8-procs_1fpf_allsubs.log',\n",
       " '../testing_logs/scp_s1.log',\n",
       " '../testing_logs/DTN_test_256MiB-100GiB_4-procs_1fpf.log',\n",
       " '../testing_logs/scp_s2.log',\n",
       " '../testing_logs/DTN_test_34MiB-100GiB_12-procs_1fpf_allsubs.log',\n",
       " '../testing_logs/DTN_test_128MiB-100GiB_1-procs_1fpf.log',\n",
       " '../testing_logs/DTN_test_34MiB-100GiB_1-procs_2fpf.log',\n",
       " '../testing_logs/DTN_test_34MiB-100GiB_1-procs_1fpf.log',\n",
       " '../testing_logs/DTN_test_64MiB-100GiB_1-procs_1fpf.log',\n",
       " '../testing_logs/DTN_test_256MiB-100GiB_1-procs_1fpf.log',\n",
       " '../testing_logs/DTN_test_64MiB-100GiB_2-procs_1fpf_allsubs.log',\n",
       " '../testing_logs/DTN_test_64MiB-100GiB_4-procs_1fpf_allsubs.log',\n",
       " '../testing_logs/DTN_test_64MiB-100GiB_12-procs_1fpf_allsubs.log',\n",
       " '../testing_logs/scp_s3.log',\n",
       " '../testing_logs/scp_s4.log',\n",
       " '../testing_logs/DTN_test_512MiB-100GiB_4-procs_1fpf.log']"
      ]
     },
     "execution_count": 5,
     "metadata": {},
     "output_type": "execute_result"
    }
   ],
   "source": [
    "logfiles"
   ]
  },
  {
   "cell_type": "code",
   "execution_count": null,
   "metadata": {},
   "outputs": [],
   "source": [
    "title_name = logfile.split(\"/\")[-1].split(\".\")[0]\n",
    "# Define the regular expression pattern to match the desired lines\n",
    "pattern = 'uploaded in'  # Modified pattern to match both lines\n",
    "\n",
    "# Lists to store the extracted data\n",
    "mbps = []\n",
    "sec_per_file = []\n",
    "\n",
    "with open(logfile, 'r') as lf:\n",
    "    for line in lf.readlines():\n",
    "        if pattern in line:\n",
    "            #Possible lines:\n",
    "            #3.01 MiB uploaded in 0.74 seconds, 4.09 MiB/s\n",
    "            #2 files (avg 3.17 MiB/file) uploaded in 0.43 seconds, 0.22 s/file\n",
    "            if 'MiB/s' in line:\n",
    "                mbps.append(float(line.split()[6])*8)\n",
    "            elif 's/file' in line:\n",
    "                sec_per_file.append(float(line.split()[9]))"
   ]
  },
  {
   "cell_type": "code",
   "execution_count": null,
   "metadata": {},
   "outputs": [],
   "source": [
    "# Create the plots\n",
    "plt.figure(1)\n",
    "\n",
    "# Smooth out the data by calculating the moving average\n",
    "window_size = 10\n",
    "smoothed_mib_per_sec = np.convolve(mbps, np.ones(window_size)/window_size, mode='valid')\n",
    "smoothed_sec_per_file = np.convolve(sec_per_file, np.ones(window_size)/window_size, mode='valid')\n",
    "plt.suptitle(f'Transfer Speeds - Moving average over {window_size} folders.\\n{title_name}')\n",
    "# Plot the smoothed data\n",
    "plt.subplot(211)\n",
    "plt.plot(smoothed_mib_per_sec)\n",
    "plt.xlabel('Folders')\n",
    "plt.ylabel('Mbit/s')\n",
    "\n",
    "plt.subplot(212)\n",
    "plt.plot(smoothed_sec_per_file)\n",
    "plt.xlabel('Folders')\n",
    "plt.ylabel('s/file')\n",
    "plt.tight_layout()"
   ]
  }
 ],
 "metadata": {
  "kernelspec": {
   "display_name": "lsst-uk",
   "language": "python",
   "name": "python3"
  },
  "language_info": {
   "codemirror_mode": {
    "name": "ipython",
    "version": 3
   },
   "file_extension": ".py",
   "mimetype": "text/x-python",
   "name": "python",
   "nbconvert_exporter": "python",
   "pygments_lexer": "ipython3",
   "version": "3.10.13"
  }
 },
 "nbformat": 4,
 "nbformat_minor": 2
}

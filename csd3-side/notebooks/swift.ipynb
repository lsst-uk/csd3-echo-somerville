{
 "cells": [
  {
   "cell_type": "code",
   "execution_count": 1,
   "id": "5f17e215-597d-480a-b2e9-83f2f15c0d9d",
   "metadata": {},
   "outputs": [],
   "source": [
    "import bucket_manager_swift as bm\n",
    "import os\n",
    "import json"
   ]
  },
  {
   "cell_type": "code",
   "execution_count": 2,
   "id": "5c36d1e2-2748-4bb5-b05e-a213f7d6ed2a",
   "metadata": {},
   "outputs": [],
   "source": [
    "def get_keys(json_file):\n",
    "    with open(json_file, 'r') as keyfile:\n",
    "        keys = json.load(keyfile)\n",
    "    return keys"
   ]
  },
  {
   "cell_type": "code",
   "execution_count": 8,
   "id": "c176592e-e2a8-47b1-91a7-5fd14b67ba8b",
   "metadata": {},
   "outputs": [],
   "source": [
    "keys = get_keys(os.sep.join([os.environ['HOME'],'lsst_keys.json']))\n",
    "\n",
    "username = keys['user']\n",
    "access_key = keys['access_key']\n",
    "secret_key = keys['secret_key']\n",
    "\n",
    "host = 'https://ceph-gw5.gridpp.rl.ac.uk/swift/v1'"
   ]
  },
  {
   "cell_type": "code",
   "execution_count": 9,
   "id": "4803a6a0-5f90-4b5d-8283-1dbae5d54432",
   "metadata": {},
   "outputs": [
    {
     "data": {
      "text/plain": [
       "'lsst'"
      ]
     },
     "execution_count": 9,
     "metadata": {},
     "output_type": "execute_result"
    }
   ],
   "source": [
    "username"
   ]
  },
  {
   "cell_type": "code",
   "execution_count": 10,
   "id": "f2b78d78-23c4-43f9-9c9a-62721e3608ef",
   "metadata": {},
   "outputs": [],
   "source": [
    "conn = bm.get_conn(username,access_key,host)"
   ]
  },
  {
   "cell_type": "code",
   "execution_count": 11,
   "id": "4cdafb52-c35f-49cd-aee2-af8ff73ac1cc",
   "metadata": {},
   "outputs": [
    {
     "data": {
      "text/plain": [
       "<swiftclient.client.Connection at 0x2b0393f5f810>"
      ]
     },
     "execution_count": 11,
     "metadata": {},
     "output_type": "execute_result"
    }
   ],
   "source": [
    "conn"
   ]
  },
  {
   "cell_type": "code",
   "execution_count": 12,
   "id": "988105ee-7cfb-4811-8239-1d24cc733c6f",
   "metadata": {},
   "outputs": [
    {
     "ename": "ClientException",
     "evalue": "Auth GET failed: https://ceph-gw5.gridpp.rl.ac.uk/swift/v1 404 Not Found   b'NoSuchKey' (txn: tx000000000000006b07dd2-0065d4784f-2d5df60f0-default)",
     "output_type": "error",
     "traceback": [
      "\u001b[0;31m---------------------------------------------------------------------------\u001b[0m",
      "\u001b[0;31mClientException\u001b[0m                           Traceback (most recent call last)",
      "Cell \u001b[0;32mIn[12], line 1\u001b[0m\n\u001b[0;32m----> 1\u001b[0m \u001b[38;5;28;01mfor\u001b[39;00m container \u001b[38;5;129;01min\u001b[39;00m conn\u001b[38;5;241m.\u001b[39mget_account()[\u001b[38;5;241m1\u001b[39m]:\n\u001b[1;32m      2\u001b[0m     \u001b[38;5;28mprint\u001b[39m(container[\u001b[38;5;124m'\u001b[39m\u001b[38;5;124mname\u001b[39m\u001b[38;5;124m'\u001b[39m])\n",
      "File \u001b[0;32m~/miniconda3/lib/python3.11/site-packages/swiftclient/client.py:1859\u001b[0m, in \u001b[0;36mConnection.get_account\u001b[0;34m(self, marker, limit, prefix, end_marker, full_listing, headers, delimiter)\u001b[0m\n\u001b[1;32m   1855\u001b[0m \u001b[38;5;250m\u001b[39m\u001b[38;5;124;03m\"\"\"Wrapper for :func:`get_account`\"\"\"\u001b[39;00m\n\u001b[1;32m   1856\u001b[0m \u001b[38;5;66;03m# TODO(unknown): With full_listing=True this will restart the entire\u001b[39;00m\n\u001b[1;32m   1857\u001b[0m \u001b[38;5;66;03m# listing with each retry. Need to make a better version that just\u001b[39;00m\n\u001b[1;32m   1858\u001b[0m \u001b[38;5;66;03m# retries where it left off.\u001b[39;00m\n\u001b[0;32m-> 1859\u001b[0m \u001b[38;5;28;01mreturn\u001b[39;00m \u001b[38;5;28mself\u001b[39m\u001b[38;5;241m.\u001b[39m_retry(\u001b[38;5;28;01mNone\u001b[39;00m, get_account, marker\u001b[38;5;241m=\u001b[39mmarker, limit\u001b[38;5;241m=\u001b[39mlimit,\n\u001b[1;32m   1860\u001b[0m                    prefix\u001b[38;5;241m=\u001b[39mprefix, end_marker\u001b[38;5;241m=\u001b[39mend_marker,\n\u001b[1;32m   1861\u001b[0m                    full_listing\u001b[38;5;241m=\u001b[39mfull_listing, headers\u001b[38;5;241m=\u001b[39mheaders,\n\u001b[1;32m   1862\u001b[0m                    delimiter\u001b[38;5;241m=\u001b[39mdelimiter)\n",
      "File \u001b[0;32m~/miniconda3/lib/python3.11/site-packages/swiftclient/client.py:1786\u001b[0m, in \u001b[0;36mConnection._retry\u001b[0;34m(self, reset_func, func, *args, **kwargs)\u001b[0m\n\u001b[1;32m   1784\u001b[0m \u001b[38;5;28;01mtry\u001b[39;00m:\n\u001b[1;32m   1785\u001b[0m     \u001b[38;5;28;01mif\u001b[39;00m \u001b[38;5;129;01mnot\u001b[39;00m \u001b[38;5;28mself\u001b[39m\u001b[38;5;241m.\u001b[39murl \u001b[38;5;129;01mor\u001b[39;00m \u001b[38;5;129;01mnot\u001b[39;00m \u001b[38;5;28mself\u001b[39m\u001b[38;5;241m.\u001b[39mtoken:\n\u001b[0;32m-> 1786\u001b[0m         \u001b[38;5;28mself\u001b[39m\u001b[38;5;241m.\u001b[39murl, \u001b[38;5;28mself\u001b[39m\u001b[38;5;241m.\u001b[39mtoken \u001b[38;5;241m=\u001b[39m \u001b[38;5;28mself\u001b[39m\u001b[38;5;241m.\u001b[39mget_auth()\n\u001b[1;32m   1787\u001b[0m         \u001b[38;5;28mself\u001b[39m\u001b[38;5;241m.\u001b[39mclose()\n\u001b[1;32m   1788\u001b[0m     \u001b[38;5;28;01mif\u001b[39;00m \u001b[38;5;28mself\u001b[39m\u001b[38;5;241m.\u001b[39mservice_auth \u001b[38;5;129;01mand\u001b[39;00m \u001b[38;5;129;01mnot\u001b[39;00m \u001b[38;5;28mself\u001b[39m\u001b[38;5;241m.\u001b[39mservice_token:\n",
      "File \u001b[0;32m~/miniconda3/lib/python3.11/site-packages/swiftclient/client.py:1730\u001b[0m, in \u001b[0;36mConnection.get_auth\u001b[0;34m(self)\u001b[0m\n\u001b[1;32m   1729\u001b[0m \u001b[38;5;28;01mdef\u001b[39;00m \u001b[38;5;21mget_auth\u001b[39m(\u001b[38;5;28mself\u001b[39m):\n\u001b[0;32m-> 1730\u001b[0m     \u001b[38;5;28mself\u001b[39m\u001b[38;5;241m.\u001b[39murl, \u001b[38;5;28mself\u001b[39m\u001b[38;5;241m.\u001b[39mtoken \u001b[38;5;241m=\u001b[39m get_auth(\u001b[38;5;28mself\u001b[39m\u001b[38;5;241m.\u001b[39mauthurl, \u001b[38;5;28mself\u001b[39m\u001b[38;5;241m.\u001b[39muser, \u001b[38;5;28mself\u001b[39m\u001b[38;5;241m.\u001b[39mkey,\n\u001b[1;32m   1731\u001b[0m                                     session\u001b[38;5;241m=\u001b[39m\u001b[38;5;28mself\u001b[39m\u001b[38;5;241m.\u001b[39msession, snet\u001b[38;5;241m=\u001b[39m\u001b[38;5;28mself\u001b[39m\u001b[38;5;241m.\u001b[39msnet,\n\u001b[1;32m   1732\u001b[0m                                     auth_version\u001b[38;5;241m=\u001b[39m\u001b[38;5;28mself\u001b[39m\u001b[38;5;241m.\u001b[39mauth_version,\n\u001b[1;32m   1733\u001b[0m                                     os_options\u001b[38;5;241m=\u001b[39m\u001b[38;5;28mself\u001b[39m\u001b[38;5;241m.\u001b[39mos_options,\n\u001b[1;32m   1734\u001b[0m                                     cacert\u001b[38;5;241m=\u001b[39m\u001b[38;5;28mself\u001b[39m\u001b[38;5;241m.\u001b[39mcacert,\n\u001b[1;32m   1735\u001b[0m                                     insecure\u001b[38;5;241m=\u001b[39m\u001b[38;5;28mself\u001b[39m\u001b[38;5;241m.\u001b[39minsecure,\n\u001b[1;32m   1736\u001b[0m                                     cert\u001b[38;5;241m=\u001b[39m\u001b[38;5;28mself\u001b[39m\u001b[38;5;241m.\u001b[39mcert,\n\u001b[1;32m   1737\u001b[0m                                     cert_key\u001b[38;5;241m=\u001b[39m\u001b[38;5;28mself\u001b[39m\u001b[38;5;241m.\u001b[39mcert_key,\n\u001b[1;32m   1738\u001b[0m                                     timeout\u001b[38;5;241m=\u001b[39m\u001b[38;5;28mself\u001b[39m\u001b[38;5;241m.\u001b[39mtimeout)\n\u001b[1;32m   1739\u001b[0m     \u001b[38;5;28;01mreturn\u001b[39;00m \u001b[38;5;28mself\u001b[39m\u001b[38;5;241m.\u001b[39murl, \u001b[38;5;28mself\u001b[39m\u001b[38;5;241m.\u001b[39mtoken\n",
      "File \u001b[0;32m~/miniconda3/lib/python3.11/site-packages/swiftclient/client.py:688\u001b[0m, in \u001b[0;36mget_auth\u001b[0;34m(auth_url, user, key, **kwargs)\u001b[0m\n\u001b[1;32m    686\u001b[0m     token \u001b[38;5;241m=\u001b[39m session\u001b[38;5;241m.\u001b[39mget_token()\n\u001b[1;32m    687\u001b[0m \u001b[38;5;28;01melif\u001b[39;00m auth_version \u001b[38;5;129;01min\u001b[39;00m AUTH_VERSIONS_V1:\n\u001b[0;32m--> 688\u001b[0m     storage_url, token \u001b[38;5;241m=\u001b[39m get_auth_1_0(auth_url,\n\u001b[1;32m    689\u001b[0m                                       user,\n\u001b[1;32m    690\u001b[0m                                       key,\n\u001b[1;32m    691\u001b[0m                                       kwargs\u001b[38;5;241m.\u001b[39mget(\u001b[38;5;124m'\u001b[39m\u001b[38;5;124msnet\u001b[39m\u001b[38;5;124m'\u001b[39m),\n\u001b[1;32m    692\u001b[0m                                       cacert\u001b[38;5;241m=\u001b[39mcacert,\n\u001b[1;32m    693\u001b[0m                                       insecure\u001b[38;5;241m=\u001b[39minsecure,\n\u001b[1;32m    694\u001b[0m                                       cert\u001b[38;5;241m=\u001b[39mcert,\n\u001b[1;32m    695\u001b[0m                                       cert_key\u001b[38;5;241m=\u001b[39mcert_key,\n\u001b[1;32m    696\u001b[0m                                       timeout\u001b[38;5;241m=\u001b[39mtimeout)\n\u001b[1;32m    697\u001b[0m \u001b[38;5;28;01melif\u001b[39;00m auth_version \u001b[38;5;129;01min\u001b[39;00m AUTH_VERSIONS_V2 \u001b[38;5;241m+\u001b[39m AUTH_VERSIONS_V3:\n\u001b[1;32m    698\u001b[0m     \u001b[38;5;66;03m# We are handling a special use case here where the user argument\u001b[39;00m\n\u001b[1;32m    699\u001b[0m     \u001b[38;5;66;03m# specifies both the user name and tenant name in the form tenant:user\u001b[39;00m\n\u001b[1;32m    700\u001b[0m     \u001b[38;5;28;01mif\u001b[39;00m user \u001b[38;5;129;01mand\u001b[39;00m \u001b[38;5;129;01mnot\u001b[39;00m kwargs\u001b[38;5;241m.\u001b[39mget(\u001b[38;5;124m'\u001b[39m\u001b[38;5;124mtenant_name\u001b[39m\u001b[38;5;124m'\u001b[39m) \u001b[38;5;129;01mand\u001b[39;00m \u001b[38;5;124m'\u001b[39m\u001b[38;5;124m:\u001b[39m\u001b[38;5;124m'\u001b[39m \u001b[38;5;129;01min\u001b[39;00m user:\n",
      "File \u001b[0;32m~/miniconda3/lib/python3.11/site-packages/swiftclient/client.py:504\u001b[0m, in \u001b[0;36mget_auth_1_0\u001b[0;34m(url, user, key, snet, **kwargs)\u001b[0m\n\u001b[1;32m    500\u001b[0m \u001b[38;5;66;03m# There is a side-effect on current Rackspace 1.0 server where a\u001b[39;00m\n\u001b[1;32m    501\u001b[0m \u001b[38;5;66;03m# bad URL would get you that document page and a 200. We error out\u001b[39;00m\n\u001b[1;32m    502\u001b[0m \u001b[38;5;66;03m# if we don't have a x-storage-url header and if we get a body.\u001b[39;00m\n\u001b[1;32m    503\u001b[0m \u001b[38;5;28;01mif\u001b[39;00m resp\u001b[38;5;241m.\u001b[39mstatus \u001b[38;5;241m<\u001b[39m \u001b[38;5;241m200\u001b[39m \u001b[38;5;129;01mor\u001b[39;00m resp\u001b[38;5;241m.\u001b[39mstatus \u001b[38;5;241m>\u001b[39m\u001b[38;5;241m=\u001b[39m \u001b[38;5;241m300\u001b[39m \u001b[38;5;129;01mor\u001b[39;00m (body \u001b[38;5;129;01mand\u001b[39;00m \u001b[38;5;129;01mnot\u001b[39;00m url):\n\u001b[0;32m--> 504\u001b[0m     \u001b[38;5;28;01mraise\u001b[39;00m ClientException\u001b[38;5;241m.\u001b[39mfrom_response(resp, \u001b[38;5;124m'\u001b[39m\u001b[38;5;124mAuth GET failed\u001b[39m\u001b[38;5;124m'\u001b[39m, body)\n\u001b[1;32m    505\u001b[0m \u001b[38;5;28;01mif\u001b[39;00m snet:\n\u001b[1;32m    506\u001b[0m     parsed \u001b[38;5;241m=\u001b[39m \u001b[38;5;28mlist\u001b[39m(urlparse(url))\n",
      "\u001b[0;31mClientException\u001b[0m: Auth GET failed: https://ceph-gw5.gridpp.rl.ac.uk/swift/v1 404 Not Found   b'NoSuchKey' (txn: tx000000000000006b07dd2-0065d4784f-2d5df60f0-default)"
     ]
    }
   ],
   "source": [
    "for container in conn.get_account()[1]:\n",
    "    print(container['name'])"
   ]
  },
  {
   "cell_type": "code",
   "execution_count": null,
   "id": "352b15f7-1db3-4bfb-b074-3b3e062d6a56",
   "metadata": {},
   "outputs": [],
   "source": []
  }
 ],
 "metadata": {
  "kernelspec": {
   "display_name": "Python 3 (ipykernel)",
   "language": "python",
   "name": "python3"
  },
  "language_info": {
   "codemirror_mode": {
    "name": "ipython",
    "version": 3
   },
   "file_extension": ".py",
   "mimetype": "text/x-python",
   "name": "python",
   "nbconvert_exporter": "python",
   "pygments_lexer": "ipython3",
   "version": "3.11.5"
  }
 },
 "nbformat": 4,
 "nbformat_minor": 5
}

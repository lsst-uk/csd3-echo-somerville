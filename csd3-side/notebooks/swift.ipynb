{
 "cells": [
  {
   "cell_type": "code",
   "execution_count": 1,
   "id": "fcd13038",
   "metadata": {},
   "outputs": [],
   "source": [
    "import bucket_manager.bucket_manager as bm\n",
    "import numpy as np"
   ]
  },
  {
   "cell_type": "code",
   "execution_count": 2,
   "id": "bb74e804",
   "metadata": {},
   "outputs": [],
   "source": [
    "import os\n",
    "import json\n",
    "s3_host = 'https://s3.echo.stfc.ac.uk/auth/1.0'\n",
    "api = 'swift'\n",
    "# keys = bm.get_keys(api)\n",
    "with open(os.path.expanduser('~/keys/lsst-swift-credentials.json'), 'r') as kf:\n",
    "    keys = json.load(kf)\n",
    "user = keys['user']\n",
    "secret_key = keys['secret_key']\n"
   ]
  },
  {
   "cell_type": "code",
   "execution_count": 3,
   "id": "d68bbfdb",
   "metadata": {},
   "outputs": [
    {
     "data": {
      "text/plain": [
       "<swiftclient.client.Connection at 0x7f4986e0c6a0>"
      ]
     },
     "execution_count": 3,
     "metadata": {},
     "output_type": "execute_result"
    }
   ],
   "source": [
    "swift = bm.get_conn_swift(user, secret_key, s3_host)\n",
    "swift"
   ]
  },
  {
   "cell_type": "code",
   "execution_count": 4,
   "id": "3f88d1c0",
   "metadata": {},
   "outputs": [
    {
     "data": {
      "text/plain": [
       "<swiftclient.service.SwiftService at 0x7f49742c0f40>"
      ]
     },
     "execution_count": 4,
     "metadata": {},
     "output_type": "execute_result"
    }
   ],
   "source": [
    "swift_service = bm.get_service_swift(user, secret_key, s3_host)\n",
    "swift_service"
   ]
  },
  {
   "cell_type": "code",
   "execution_count": 5,
   "id": "7a7efc6e",
   "metadata": {},
   "outputs": [],
   "source": [
    "bucket_list = bm.bucket_list_swift(swift)"
   ]
  },
  {
   "cell_type": "code",
   "execution_count": 6,
   "id": "64a9c330",
   "metadata": {},
   "outputs": [
    {
     "data": {
      "text/plain": [
       "['DRP',\n",
       " 'LSST-IR-FUSION',\n",
       " 'LSST-IR-FUSION-Butlers',\n",
       " 'LSST-IR-FUSION-Butlers-del',\n",
       " 'LSST-IR-FUSION-TESTSTRATEGY',\n",
       " 'LSST-IR-FUSION-rdsip005',\n",
       " 'LSST-IR-FUSION-test',\n",
       " 'LSST-IR-FUSION-testtree',\n",
       " 'LSST-IR-FUSION-testtreec',\n",
       " 'LSST-IR-FUSION-testtreecs',\n",
       " 'LSST-IR-FUSION_gen3_conversion',\n",
       " 'dmu4',\n",
       " 'lsst-dac',\n",
       " 'lsst-drp-config',\n",
       " 'lsst-test',\n",
       " 'lsst-test-3',\n",
       " 'lsst-test2',\n",
       " 'test-large-file']"
      ]
     },
     "execution_count": 6,
     "metadata": {},
     "output_type": "execute_result"
    }
   ],
   "source": [
    "bucket_list"
   ]
  },
  {
   "cell_type": "code",
   "execution_count": 7,
   "id": "ac2ffd8d",
   "metadata": {},
   "outputs": [],
   "source": [
    "bucket_name = 'test-large-file'"
   ]
  },
  {
   "cell_type": "code",
   "execution_count": 8,
   "id": "209cd1e7",
   "metadata": {},
   "outputs": [],
   "source": [
    "large_file_path = os.path.expanduser('~/test/large_files/large-file')"
   ]
  },
  {
   "cell_type": "code",
   "execution_count": 9,
   "id": "be364ad9",
   "metadata": {},
   "outputs": [],
   "source": [
    "try:\n",
    "    current_objects = bm.object_list_swift(swift, bucket_name, full_listing=False)\n",
    "except Exception as e:\n",
    "    print(f'Error: {e}')"
   ]
  },
  {
   "cell_type": "code",
   "execution_count": 10,
   "id": "eaa9ba1a",
   "metadata": {},
   "outputs": [],
   "source": [
    "try:\n",
    "    swift.put_container(bucket_name)\n",
    "except Exception as e:\n",
    "    print(f'Error: {e}')"
   ]
  },
  {
   "cell_type": "code",
   "execution_count": 11,
   "id": "e537bf21",
   "metadata": {},
   "outputs": [
    {
     "data": {
      "text/plain": [
       "[]"
      ]
     },
     "execution_count": 11,
     "metadata": {},
     "output_type": "execute_result"
    }
   ],
   "source": [
    "current_objects"
   ]
  },
  {
   "cell_type": "code",
   "execution_count": 12,
   "id": "3bc7858c",
   "metadata": {},
   "outputs": [
    {
     "data": {
      "text/plain": [
       "0"
      ]
     },
     "execution_count": 12,
     "metadata": {},
     "output_type": "execute_result"
    }
   ],
   "source": [
    "len(current_objects)"
   ]
  },
  {
   "cell_type": "code",
   "execution_count": 13,
   "id": "3dda3b47",
   "metadata": {},
   "outputs": [],
   "source": [
    "for key in current_objects:\n",
    "    if type(key) == str:\n",
    "        existing_zip_contents = None\n",
    "        if key.endswith('.zip'):\n",
    "            print('.', end='', flush=True)\n",
    "            try:\n",
    "                existing_zip_contents = str(swift.get_object(bucket_name,''.join([key,'.metadata']))[1].decode('UTF-8')).split('|') # use | as separator\n",
    "            except Exception as e:\n",
    "                try:\n",
    "                    existing_zip_contents = swift.head_object(bucket_name,key)['x-object-meta-zip-contents'].split('|') # use | as separator\n",
    "                    if len(existing_zip_contents) == 1:\n",
    "                        existing_zip_contents = existing_zip_contents[0].split(',') # revert to comma if no | found\n",
    "                except KeyError as e:\n",
    "                    print('KeyError: ', e)\n",
    "                except Exception as e:\n",
    "                    print('Exception: ', e)\n",
    "            if existing_zip_contents:\n",
    "                print(existing_zip_contents)\n",
    "        else:\n",
    "            continue\n",
    "    else:\n",
    "        continue"
   ]
  },
  {
   "cell_type": "code",
   "execution_count": null,
   "id": "ea219686",
   "metadata": {},
   "outputs": [
    {
     "ename": "",
     "evalue": "",
     "output_type": "error",
     "traceback": [
      "\u001b[1;31mThe Kernel crashed while executing code in the current cell or a previous cell. \n",
      "\u001b[1;31mPlease review the code in the cell(s) to identify a possible cause of the failure. \n",
      "\u001b[1;31mClick <a href='https://aka.ms/vscodeJupyterKernelCrash'>here</a> for more info. \n",
      "\u001b[1;31mView Jupyter <a href='command:jupyter.viewOutput'>log</a> for further details."
     ]
    }
   ],
   "source": [
    "# try:\n",
    "#     bm.download_file_swift(swift, bucket_name, 'butler_full_20221201/csv/viking/HSC_G/9074/collated_0.zip', os.path.expanduser('~/csv/viking/HSC_G/9074/collated_0.zip'))\n",
    "# except Exception as e:\n",
    "#     print(f'Error: {e}')"
   ]
  },
  {
   "cell_type": "markdown",
   "id": "12b3244a",
   "metadata": {},
   "source": [
    "```python\n",
    "#swift api note\n",
    "container = 'new-container'\n",
    "    with open('local.txt', 'r') as local:\n",
    "        conn.put_object(\n",
    "            container,\n",
    "            'local_object.txt',\n",
    "            contents=local,\n",
    "            content_type='text/plain'\n",
    "        )\n",
    "```"
   ]
  },
  {
   "cell_type": "markdown",
   "id": "70b15fdf",
   "metadata": {},
   "source": [
    "The following fails as put_object is low level and does not segment large files.\n",
    "```python\n",
    "with open(large_file_path, 'rb') as lf:\n",
    "    swift.put_object(bucket_name, 'large-file', contents=lf, content_type='bytes')\n",
    "```"
   ]
  },
  {
   "cell_type": "markdown",
   "id": "acfe673f",
   "metadata": {},
   "source": [
    "The swiftclient.service.SwiftService object provides a higher-level interface that can do file segmentation."
   ]
  },
  {
   "cell_type": "code",
   "execution_count": null,
   "id": "d34d0f2e",
   "metadata": {},
   "outputs": [
    {
     "name": "stdout",
     "output_type": "stream",
     "text": [
      "3\n",
      "6442450944\n",
      "0 2147483648\n",
      "1\n"
     ]
    }
   ],
   "source": [
    "segment_size = 2*1024**3 # 2GiB\n",
    "\n",
    "with open(large_file_path, 'rb') as lf:\n",
    "    lf_bytes = lf.read()\n",
    "    file_size = len(lf.read())\n",
    "    n_segments = int(np.ceil(file_size / segment_size))\n",
    "    print(n_segments)\n",
    "    print(file_size)\n",
    "\n",
    "segments = [lf_bytes for i in range(n_segments)]\n",
    "    start = i * segment_size\n",
    "    end = min(start + segment_size, file_size)\n",
    "    print(start, end)\n",
    "    segment_number = i + 1\n",
    "    print(segment_number)\n",
    "    with open(large_file_path, 'rb') as lf:\n",
    "        segments.append(lf.read()[start:end])\n",
    "        # segment_objects = [ swift_service.SwiftUploadObject(bucket_name, f'{large_file_path}_segmented_{segment_number}', contents=segment, content_type='bytes') for segment_number, segment in enumerate(segments) ]\n",
    "\n",
    "    # swift_service.upload(bucket_name, segment_objects, options={\n",
    "    #             'meta': [],\n",
    "    #             'header': [],\n",
    "    #             'segment_size': segment_size,\n",
    "    #             'use_slo': True,\n",
    "    #             'segment_container': bucket_name,\n",
    "    #             'leave_segments': False,\n",
    "    #             'changed': None,\n",
    "    #             'skip_identical': False,\n",
    "    #             'skip_container_put': False,\n",
    "    #             'fail_fast': True,\n",
    "    #             'dir_marker': False  # Only for None sources\n",
    "    # })\n",
    "    #put_object(bucket_name, 'large-file', contents=lf, content_type='bytes')"
   ]
  }
 ],
 "metadata": {
  "kernelspec": {
   "display_name": "lsst-uk",
   "language": "python",
   "name": "python3"
  },
  "language_info": {
   "codemirror_mode": {
    "name": "ipython",
    "version": 3
   },
   "file_extension": ".py",
   "mimetype": "text/x-python",
   "name": "python",
   "nbconvert_exporter": "python",
   "pygments_lexer": "ipython3",
   "version": "3.10.13"
  }
 },
 "nbformat": 4,
 "nbformat_minor": 5
}

{
 "cells": [
  {
   "cell_type": "code",
   "execution_count": 1,
   "id": "41256958-f722-4281-8096-dc9da121f4d1",
   "metadata": {},
   "outputs": [],
   "source": [
    "import sys\n",
    "import os\n",
    "from datetime import datetime\n",
    "import boto3\n",
    "import json"
   ]
  },
  {
   "cell_type": "code",
   "execution_count": 2,
   "id": "2017c5b8-9e35-416a-84de-9f4824d0e789",
   "metadata": {},
   "outputs": [],
   "source": [
    "def get_keys(json_file):\n",
    "\twith open(json_file, 'r') as keyfile:\n",
    "\t\tkeys = json.load(keyfile)\n",
    "\treturn keys"
   ]
  },
  {
   "cell_type": "code",
   "execution_count": 3,
   "id": "d4790d17-5c0f-4e47-bf97-3955293582d2",
   "metadata": {},
   "outputs": [],
   "source": [
    "s3_host = 'echo.stfc.ac.uk'\n",
    "keys = get_keys(os.sep.join([os.environ['HOME'],'lsst_keys.json']))\n",
    "access_key = keys['access_key']\n",
    "secret_key = keys['secret_key']"
   ]
  },
  {
   "cell_type": "code",
   "execution_count": 4,
   "id": "292c75ca-0e15-4f87-8d8d-cd9d11adc1ab",
   "metadata": {},
   "outputs": [],
   "source": [
    "session = boto3.Session()\n",
    "s3 = session.resource(\n",
    "        service_name='s3',\n",
    "        aws_access_key_id=access_key,\n",
    "        aws_secret_access_key=secret_key,\n",
    "        endpoint_url=f'https://{s3_host}',\n",
    "        verify=False\n",
    "    )"
   ]
  },
  {
   "cell_type": "code",
   "execution_count": 8,
   "id": "f6f479af-b318-4a9f-83cb-f8089aefccc4",
   "metadata": {},
   "outputs": [],
   "source": [
    "obj = s3.Object(bucket_name='lsst-drp-config',key='lsst-swift-credentials.json')"
   ]
  },
  {
   "cell_type": "code",
   "execution_count": 9,
   "id": "89cf2f66-02f0-4e33-b68c-703aa4836e97",
   "metadata": {},
   "outputs": [
    {
     "data": {
      "text/plain": [
       "'lsst-swift-credentials.json'"
      ]
     },
     "execution_count": 9,
     "metadata": {},
     "output_type": "execute_result"
    }
   ],
   "source": [
    "obj.key"
   ]
  },
  {
   "cell_type": "code",
   "execution_count": null,
   "id": "23875d6a-caec-42e9-81bd-475a5892db91",
   "metadata": {},
   "outputs": [],
   "source": [
    "obj.download_file('/'.join([os.environ['HOME'],obj.key]))"
   ]
  },
  {
   "cell_type": "code",
   "execution_count": 13,
   "id": "c2a0b48b-ef01-4e1f-bfdf-6a819d7594a3",
   "metadata": {},
   "outputs": [],
   "source": [
    "os.chmod('/'.join([os.environ['HOME'],obj.key]),0o600)"
   ]
  },
  {
   "cell_type": "code",
   "execution_count": null,
   "id": "9d4723db-5475-4424-b2b8-bb46b48d9259",
   "metadata": {},
   "outputs": [],
   "source": []
  }
 ],
 "metadata": {
  "kernelspec": {
   "display_name": "Python 3 (ipykernel)",
   "language": "python",
   "name": "python3"
  },
  "language_info": {
   "codemirror_mode": {
    "name": "ipython",
    "version": 3
   },
   "file_extension": ".py",
   "mimetype": "text/x-python",
   "name": "python",
   "nbconvert_exporter": "python",
   "pygments_lexer": "ipython3",
   "version": "3.11.5"
  }
 },
 "nbformat": 4,
 "nbformat_minor": 5
}

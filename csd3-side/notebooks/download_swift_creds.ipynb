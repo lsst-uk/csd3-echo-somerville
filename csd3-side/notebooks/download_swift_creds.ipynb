{
 "cells": [
  {
   "cell_type": "code",
   "execution_count": 1,
   "id": "41256958-f722-4281-8096-dc9da121f4d1",
   "metadata": {},
   "outputs": [],
   "source": [
    "import os\n",
    "import boto3\n",
    "import json"
   ]
  },
  {
   "cell_type": "code",
   "execution_count": 2,
   "id": "2017c5b8-9e35-416a-84de-9f4824d0e789",
   "metadata": {},
   "outputs": [],
   "source": [
    "def get_keys(json_file):\n",
    "\twith open(json_file, 'r') as keyfile:\n",
    "\t\tkeys = json.load(keyfile)\n",
    "\treturn keys"
   ]
  },
  {
   "cell_type": "code",
   "execution_count": 3,
   "id": "d4790d17-5c0f-4e47-bf97-3955293582d2",
   "metadata": {},
   "outputs": [],
   "source": [
    "s3_host = 'echo.stfc.ac.uk'\n",
    "keys = get_keys(os.sep.join([os.environ['HOME'],'lsst_keys.json']))\n",
    "access_key = keys['access_key']\n",
    "secret_key = keys['secret_key']"
   ]
  },
  {
   "cell_type": "code",
   "execution_count": 4,
   "id": "292c75ca-0e15-4f87-8d8d-cd9d11adc1ab",
   "metadata": {},
   "outputs": [],
   "source": [
    "session = boto3.Session()\n",
    "s3 = session.resource(\n",
    "        service_name='s3',\n",
    "        aws_access_key_id=access_key,\n",
    "        aws_secret_access_key=secret_key,\n",
    "        endpoint_url=f'https://{s3_host}',\n",
    "        verify=False\n",
    "    )"
   ]
  },
  {
   "cell_type": "code",
   "execution_count": 5,
   "id": "f6f479af-b318-4a9f-83cb-f8089aefccc4",
   "metadata": {},
   "outputs": [],
   "source": [
    "obj = s3.Object(bucket_name='lsst-drp-config',key='lsst-swift-credentials.json')"
   ]
  },
  {
   "cell_type": "code",
   "execution_count": 7,
   "id": "89cf2f66-02f0-4e33-b68c-703aa4836e97",
   "metadata": {},
   "outputs": [
    {
     "data": {
      "text/plain": [
       "datetime.datetime(2024, 11, 13, 11, 44, 24, tzinfo=tzutc())"
      ]
     },
     "execution_count": 7,
     "metadata": {},
     "output_type": "execute_result"
    }
   ],
   "source": [
    "obj.last_modified"
   ]
  },
  {
   "cell_type": "code",
   "execution_count": 8,
   "id": "23875d6a-caec-42e9-81bd-475a5892db91",
   "metadata": {},
   "outputs": [
    {
     "name": "stderr",
     "output_type": "stream",
     "text": [
      "/home/dave/miniconda3/envs/lsst-uk/lib/python3.10/site-packages/urllib3/connectionpool.py:1100: InsecureRequestWarning: Unverified HTTPS request is being made to host 'echo.stfc.ac.uk'. Adding certificate verification is strongly advised. See: https://urllib3.readthedocs.io/en/latest/advanced-usage.html#tls-warnings\n",
      "  warnings.warn(\n",
      "/home/dave/miniconda3/envs/lsst-uk/lib/python3.10/site-packages/urllib3/connectionpool.py:1100: InsecureRequestWarning: Unverified HTTPS request is being made to host 'echo.stfc.ac.uk'. Adding certificate verification is strongly advised. See: https://urllib3.readthedocs.io/en/latest/advanced-usage.html#tls-warnings\n",
      "  warnings.warn(\n"
     ]
    }
   ],
   "source": [
    "obj.download_file('/'.join([os.environ['HOME'],'keys',obj.key]))"
   ]
  },
  {
   "cell_type": "code",
   "execution_count": 9,
   "id": "c2a0b48b-ef01-4e1f-bfdf-6a819d7594a3",
   "metadata": {},
   "outputs": [],
   "source": [
    "os.chmod('/'.join([os.environ['HOME'],'keys',obj.key]),0o600)"
   ]
  },
  {
   "cell_type": "code",
   "execution_count": null,
   "id": "9d4723db-5475-4424-b2b8-bb46b48d9259",
   "metadata": {},
   "outputs": [],
   "source": []
  }
 ],
 "metadata": {
  "kernelspec": {
   "display_name": "lsst-uk",
   "language": "python",
   "name": "python3"
  },
  "language_info": {
   "codemirror_mode": {
    "name": "ipython",
    "version": 3
   },
   "file_extension": ".py",
   "mimetype": "text/x-python",
   "name": "python",
   "nbconvert_exporter": "python",
   "pygments_lexer": "ipython3",
   "version": "3.10.13"
  }
 },
 "nbformat": 4,
 "nbformat_minor": 5
}

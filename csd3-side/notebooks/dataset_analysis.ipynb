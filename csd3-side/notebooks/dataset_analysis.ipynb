{
 "cells": [
  {
   "cell_type": "code",
   "execution_count": 1,
   "id": "9771996a",
   "metadata": {},
   "outputs": [],
   "source": [
    "import pandas as pd\n",
    "import matplotlib.pyplot as plt\n",
    "import glob\n",
    "import os"
   ]
  },
  {
   "cell_type": "code",
   "execution_count": 2,
   "id": "a858c4a0",
   "metadata": {},
   "outputs": [],
   "source": [
    "\n",
    "base_path = f'{os.environ[\"HOME\"]}/csd3_wide_comp-vs-nocomp_original-data'"
   ]
  },
  {
   "cell_type": "code",
   "execution_count": 3,
   "id": "b7f107f0",
   "metadata": {},
   "outputs": [
    {
     "data": {
      "text/plain": [
       "'/home/dave/csd3_wide_comp-vs-nocomp_original-data/sizes.csv'"
      ]
     },
     "execution_count": 3,
     "metadata": {},
     "output_type": "execute_result"
    }
   ],
   "source": [
    "path = glob.glob(base_path+'/*.csv')[0]\n",
    "path"
   ]
  },
  {
   "cell_type": "code",
   "execution_count": 4,
   "id": "acc9bbef",
   "metadata": {},
   "outputs": [
    {
     "data": {
      "text/html": [
       "<div>\n",
       "<style scoped>\n",
       "    .dataframe tbody tr th:only-of-type {\n",
       "        vertical-align: middle;\n",
       "    }\n",
       "\n",
       "    .dataframe tbody tr th {\n",
       "        vertical-align: top;\n",
       "    }\n",
       "\n",
       "    .dataframe thead th {\n",
       "        text-align: right;\n",
       "    }\n",
       "</style>\n",
       "<table border=\"1\" class=\"dataframe\">\n",
       "  <thead>\n",
       "    <tr style=\"text-align: right;\">\n",
       "      <th></th>\n",
       "      <th>size</th>\n",
       "    </tr>\n",
       "  </thead>\n",
       "  <tbody>\n",
       "    <tr>\n",
       "      <th>0</th>\n",
       "      <td>2470767916</td>\n",
       "    </tr>\n",
       "    <tr>\n",
       "      <th>1</th>\n",
       "      <td>280</td>\n",
       "    </tr>\n",
       "    <tr>\n",
       "      <th>2</th>\n",
       "      <td>127203840</td>\n",
       "    </tr>\n",
       "    <tr>\n",
       "      <th>3</th>\n",
       "      <td>1150957</td>\n",
       "    </tr>\n",
       "    <tr>\n",
       "      <th>4</th>\n",
       "      <td>0</td>\n",
       "    </tr>\n",
       "    <tr>\n",
       "      <th>...</th>\n",
       "      <td>...</td>\n",
       "    </tr>\n",
       "    <tr>\n",
       "      <th>2468160</th>\n",
       "      <td>18524160</td>\n",
       "    </tr>\n",
       "    <tr>\n",
       "      <th>2468161</th>\n",
       "      <td>12697920</td>\n",
       "    </tr>\n",
       "    <tr>\n",
       "      <th>2468162</th>\n",
       "      <td>70709760</td>\n",
       "    </tr>\n",
       "    <tr>\n",
       "      <th>2468163</th>\n",
       "      <td>19077120</td>\n",
       "    </tr>\n",
       "    <tr>\n",
       "      <th>2468164</th>\n",
       "      <td>110312640</td>\n",
       "    </tr>\n",
       "  </tbody>\n",
       "</table>\n",
       "<p>2468165 rows × 1 columns</p>\n",
       "</div>"
      ],
      "text/plain": [
       "               size\n",
       "0        2470767916\n",
       "1               280\n",
       "2         127203840\n",
       "3           1150957\n",
       "4                 0\n",
       "...             ...\n",
       "2468160    18524160\n",
       "2468161    12697920\n",
       "2468162    70709760\n",
       "2468163    19077120\n",
       "2468164   110312640\n",
       "\n",
       "[2468165 rows x 1 columns]"
      ]
     },
     "execution_count": 4,
     "metadata": {},
     "output_type": "execute_result"
    }
   ],
   "source": [
    "df = pd.read_csv(path)\n",
    "df"
   ]
  },
  {
   "cell_type": "code",
   "execution_count": 5,
   "id": "b12ad810",
   "metadata": {},
   "outputs": [
    {
     "data": {
      "text/html": [
       "<div>\n",
       "<style scoped>\n",
       "    .dataframe tbody tr th:only-of-type {\n",
       "        vertical-align: middle;\n",
       "    }\n",
       "\n",
       "    .dataframe tbody tr th {\n",
       "        vertical-align: top;\n",
       "    }\n",
       "\n",
       "    .dataframe thead th {\n",
       "        text-align: right;\n",
       "    }\n",
       "</style>\n",
       "<table border=\"1\" class=\"dataframe\">\n",
       "  <thead>\n",
       "    <tr style=\"text-align: right;\">\n",
       "      <th></th>\n",
       "      <th>size</th>\n",
       "    </tr>\n",
       "  </thead>\n",
       "  <tbody>\n",
       "    <tr>\n",
       "      <th>0</th>\n",
       "      <td>2470767916</td>\n",
       "    </tr>\n",
       "    <tr>\n",
       "      <th>1</th>\n",
       "      <td>280</td>\n",
       "    </tr>\n",
       "    <tr>\n",
       "      <th>2</th>\n",
       "      <td>127203840</td>\n",
       "    </tr>\n",
       "    <tr>\n",
       "      <th>3</th>\n",
       "      <td>1150957</td>\n",
       "    </tr>\n",
       "    <tr>\n",
       "      <th>4</th>\n",
       "      <td>0</td>\n",
       "    </tr>\n",
       "    <tr>\n",
       "      <th>...</th>\n",
       "      <td>...</td>\n",
       "    </tr>\n",
       "    <tr>\n",
       "      <th>2468160</th>\n",
       "      <td>18524160</td>\n",
       "    </tr>\n",
       "    <tr>\n",
       "      <th>2468161</th>\n",
       "      <td>12697920</td>\n",
       "    </tr>\n",
       "    <tr>\n",
       "      <th>2468162</th>\n",
       "      <td>70709760</td>\n",
       "    </tr>\n",
       "    <tr>\n",
       "      <th>2468163</th>\n",
       "      <td>19077120</td>\n",
       "    </tr>\n",
       "    <tr>\n",
       "      <th>2468164</th>\n",
       "      <td>110312640</td>\n",
       "    </tr>\n",
       "  </tbody>\n",
       "</table>\n",
       "<p>2468165 rows × 1 columns</p>\n",
       "</div>"
      ],
      "text/plain": [
       "               size\n",
       "0        2470767916\n",
       "1               280\n",
       "2         127203840\n",
       "3           1150957\n",
       "4                 0\n",
       "...             ...\n",
       "2468160    18524160\n",
       "2468161    12697920\n",
       "2468162    70709760\n",
       "2468163    19077120\n",
       "2468164   110312640\n",
       "\n",
       "[2468165 rows x 1 columns]"
      ]
     },
     "execution_count": 5,
     "metadata": {},
     "output_type": "execute_result"
    }
   ],
   "source": [
    "df['size'] = df['size'].astype('Int64')\n",
    "df"
   ]
  },
  {
   "cell_type": "code",
   "execution_count": 6,
   "id": "8ba59429",
   "metadata": {},
   "outputs": [
    {
     "data": {
      "text/plain": [
       "69834.78622769564"
      ]
     },
     "execution_count": 6,
     "metadata": {},
     "output_type": "execute_result"
    }
   ],
   "source": [
    "df['size'].sum() / 1024**3"
   ]
  },
  {
   "cell_type": "code",
   "execution_count": 7,
   "id": "d4672211",
   "metadata": {},
   "outputs": [
    {
     "name": "stdout",
     "output_type": "stream",
     "text": [
      "File size stats (MB):\n",
      "count       2.353826\n",
      "mean       28.973274\n",
      "std        66.555683\n",
      "min              0.0\n",
      "25%         0.005197\n",
      "50%         0.013843\n",
      "75%        33.796692\n",
      "max      16868.28125\n",
      "Name: size, dtype: Float64\n"
     ]
    }
   ],
   "source": [
    "print(f\"File size stats (MB):\")\n",
    "print(df['size'].describe() / (1024 * 1024))"
   ]
  },
  {
   "cell_type": "code",
   "execution_count": 13,
   "id": "ad6ed8ac",
   "metadata": {},
   "outputs": [
    {
     "data": {
      "image/png": "[encoded data removed]",
      "text/plain": [
       "<Figure size 1000x600 with 1 Axes>"
      ]
     },
     "metadata": {},
     "output_type": "display_data"
    }
   ],
   "source": [
    "plt.figure(figsize=(10, 6))\n",
    "plt.hist(df['size']/1024**2, bins=100, color='blue', alpha=0.7, edgecolor='black')\n",
    "plt.title('File Size Distribution (original dataset)')\n",
    "plt.xlabel('File Size (MiB)')\n",
    "plt.ylabel('Frequency')\n",
    "# plt.xlim(0, 200)\n",
    "# plt.ylim(0, 200)\n",
    "# plt.grid(axis='y', linestyle='--', alpha=0.7)\n",
    "plt.show()"
   ]
  }
 ],
 "metadata": {
  "kernelspec": {
   "display_name": "lsst-uk",
   "language": "python",
   "name": "python3"
  },
  "language_info": {
   "codemirror_mode": {
    "name": "ipython",
    "version": 3
   },
   "file_extension": ".py",
   "mimetype": "text/x-python",
   "name": "python",
   "nbconvert_exporter": "python",
   "pygments_lexer": "ipython3",
   "version": "3.10.13"
  }
 },
 "nbformat": 4,
 "nbformat_minor": 5
}

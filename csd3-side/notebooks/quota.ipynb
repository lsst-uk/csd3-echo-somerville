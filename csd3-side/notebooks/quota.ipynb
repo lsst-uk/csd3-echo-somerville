{
 "cells": [
  {
   "cell_type": "code",
   "execution_count": 184,
   "id": "6aa38796",
   "metadata": {},
   "outputs": [],
   "source": [
    "from bucket_manager import bucket_manager as bm"
   ]
  },
  {
   "cell_type": "code",
   "execution_count": 185,
   "id": "7356a69f",
   "metadata": {},
   "outputs": [],
   "source": [
    "import os\n",
    "import json\n",
    "s3_host = 'https://s3.echo.stfc.ac.uk/auth/1.0'\n",
    "with open(os.path.expanduser('~/.keys/lsst-swift-credentials.json'), 'r') as kf:\n",
    "    keys = json.load(kf)\n",
    "user = keys['user']\n",
    "secret_key = keys['secret_key']\n",
    "os.environ['ST_USER'] = user\n",
    "os.environ['ST_KEY'] = secret_key\n",
    "os.environ['ST_AUTH'] = s3_host"
   ]
  },
  {
   "cell_type": "code",
   "execution_count": 186,
   "id": "61cb27a8",
   "metadata": {},
   "outputs": [],
   "source": [
    "conn = bm.get_conn_swift()"
   ]
  },
  {
   "cell_type": "code",
   "execution_count": 187,
   "id": "0df08ef7",
   "metadata": {},
   "outputs": [
    {
     "data": {
      "text/plain": [
       "{'x-timestamp': '1759868430.64720',\n",
       " 'x-account-container-count': '13',\n",
       " 'x-account-object-count': '2555909',\n",
       " 'x-account-bytes-used': '233458765124403',\n",
       " 'x-account-bytes-used-actual': '233463850979328',\n",
       " 'x-account-storage-policy-default-placement-container-count': '13',\n",
       " 'x-account-storage-policy-default-placement-object-count': '2555909',\n",
       " 'x-account-storage-policy-default-placement-bytes-used': '233458765124403',\n",
       " 'x-account-storage-policy-default-placement-bytes-used-actual': '233463850979328',\n",
       " 'x-account-meta-quota-bytes': '329853488332800',\n",
       " 'accept-ranges': 'bytes',\n",
       " 'x-trans-id': 'tx0000024101d422ba1e35d-0068e5760e-308f5aa46-default',\n",
       " 'x-openstack-request-id': 'tx0000024101d422ba1e35d-0068e5760e-308f5aa46-default',\n",
       " 'content-type': 'application/json; charset=utf-8',\n",
       " 'content-length': '777',\n",
       " 'date': 'Tue, 07 Oct 2025 20:20:30 GMT',\n",
       " 'connection': 'Keep-Alive'}"
      ]
     },
     "execution_count": 187,
     "metadata": {},
     "output_type": "execute_result"
    }
   ],
   "source": [
    "headers = conn.get_account()[0]\n",
    "headers"
   ]
  },
  {
   "cell_type": "code",
   "execution_count": 188,
   "id": "c8b035d5",
   "metadata": {},
   "outputs": [
    {
     "name": "stdout",
     "output_type": "stream",
     "text": [
      "Quota : 300 TB, Used: 212 TB, Usage: 70.8%\n"
     ]
    }
   ],
   "source": [
    "used_actual = headers.get('x-account-bytes-used-actual')\n",
    "quota = headers.get('x-account-meta-quota-bytes')\n",
    "print(f'Quota : {int(quota) // 1024**4} TB, Used: {int(used_actual) // 1024**4} TB, Usage: {100*int(used_actual)/int(quota):.1f}%')"
   ]
  },
  {
   "cell_type": "code",
   "execution_count": 189,
   "id": "da098665",
   "metadata": {},
   "outputs": [
    {
     "name": "stdout",
     "output_type": "stream",
     "text": [
      "container: DRP, size: 0 GiB, objects: 0\n",
      "container: LSST-IR-FUSION, size: 6431 GiB, objects: 924586\n",
      "container: LSST-IR-FUSION-Butlers-full, size: 0 GiB, objects: 1\n",
      "container: LSST-IR-FUSION-Butlers-wide, size: 193170 GiB, objects: 1477617\n",
      "container: LSST-IR-FUSION-Butlers-wide-comp, size: 17329 GiB, objects: 14685\n",
      "container: LSST-IR-FUSION-ras81, size: 0 GiB, objects: 0\n",
      "container: LSST-IR-FUSION-rdsip005, size: 484 GiB, objects: 139001\n",
      "container: LSST-IR-FUSION_gen3_conversion, size: 0 GiB, objects: 1\n",
      "container: est_serv_ul_container, size: 3 GiB, objects: 2\n",
      "container: est_serv_ul_container_segments, size: 5 GiB, objects: 6\n",
      "container: lsst-dac, size: 0 GiB, objects: 0\n",
      "container: lsst-drp-config, size: 0 GiB, objects: 9\n",
      "container: lsst-test, size: 0 GiB, objects: 1\n"
     ]
    }
   ],
   "source": [
    "containers = conn.get_account()[1]\n",
    "for container in containers:\n",
    "    print(f'container: {container[\"name\"]}, size: {container[\"bytes\"] // 1024**3} GiB, objects: {container[\"count\"]}')"
   ]
  },
  {
   "cell_type": "code",
   "execution_count": 190,
   "id": "e42c9e51",
   "metadata": {},
   "outputs": [],
   "source": [
    "# import time\n",
    "# while True:\n",
    "#     used_actual = int(conn.get_account()[0].get('x-account-bytes-used-actual'))\n",
    "#     used_actual_gb = used_actual / 1024**3\n",
    "#     print(f'Used: {used_actual} B ({used_actual_gb:.3f} GB)')\n",
    "#     time.sleep(60)\n"
   ]
  }
 ],
 "metadata": {
  "kernelspec": {
   "display_name": "lsst-uk",
   "language": "python",
   "name": "python3"
  },
  "language_info": {
   "codemirror_mode": {
    "name": "ipython",
    "version": 3
   },
   "file_extension": ".py",
   "mimetype": "text/x-python",
   "name": "python",
   "nbconvert_exporter": "python",
   "pygments_lexer": "ipython3",
   "version": "3.10.13"
  }
 },
 "nbformat": 4,
 "nbformat_minor": 5
}

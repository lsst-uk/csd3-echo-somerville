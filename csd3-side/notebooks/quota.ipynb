{
 "cells": [
  {
   "cell_type": "code",
   "execution_count": 1,
   "id": "6aa38796",
   "metadata": {},
   "outputs": [],
   "source": [
    "from bucket_manager import bucket_manager as bm"
   ]
  },
  {
   "cell_type": "code",
   "execution_count": 2,
   "id": "7356a69f",
   "metadata": {},
   "outputs": [],
   "source": [
    "import os\n",
    "import json\n",
    "s3_host = 'https://s3.echo.stfc.ac.uk/auth/1.0'\n",
    "with open(os.path.expanduser('~/.keys/lsst-swift-credentials.json'), 'r') as kf:\n",
    "    keys = json.load(kf)\n",
    "user = keys['user']\n",
    "secret_key = keys['secret_key']\n",
    "os.environ['ST_USER'] = user\n",
    "os.environ['ST_KEY'] = secret_key\n",
    "os.environ['ST_AUTH'] = s3_host"
   ]
  },
  {
   "cell_type": "code",
   "execution_count": 3,
   "id": "61cb27a8",
   "metadata": {},
   "outputs": [],
   "source": [
    "conn = bm.get_conn_swift()"
   ]
  },
  {
   "cell_type": "code",
   "execution_count": 4,
   "id": "0df08ef7",
   "metadata": {},
   "outputs": [
    {
     "data": {
      "text/plain": [
       "{'x-timestamp': '1759315215.98445',\n",
       " 'x-account-container-count': '24',\n",
       " 'x-account-object-count': '2945890',\n",
       " 'x-account-bytes-used': '263903516329315',\n",
       " 'x-account-bytes-used-actual': '263909388394496',\n",
       " 'x-account-storage-policy-default-placement-container-count': '24',\n",
       " 'x-account-storage-policy-default-placement-object-count': '2945890',\n",
       " 'x-account-storage-policy-default-placement-bytes-used': '263903516329315',\n",
       " 'x-account-storage-policy-default-placement-bytes-used-actual': '263909388394496',\n",
       " 'x-account-meta-quota-bytes': '329853488332800',\n",
       " 'accept-ranges': 'bytes',\n",
       " 'x-trans-id': 'tx000006b028d173cf143a7-0068dd050f-3085125cb-default',\n",
       " 'x-openstack-request-id': 'tx000006b028d173cf143a7-0068dd050f-3085125cb-default',\n",
       " 'content-type': 'application/json; charset=utf-8',\n",
       " 'content-length': '1582',\n",
       " 'date': 'Wed, 01 Oct 2025 10:40:15 GMT',\n",
       " 'connection': 'Keep-Alive'}"
      ]
     },
     "execution_count": 4,
     "metadata": {},
     "output_type": "execute_result"
    }
   ],
   "source": [
    "headers = conn.get_account()[0]\n",
    "headers"
   ]
  },
  {
   "cell_type": "code",
   "execution_count": 5,
   "id": "c8b035d5",
   "metadata": {},
   "outputs": [
    {
     "name": "stdout",
     "output_type": "stream",
     "text": [
      "Quota : 300 TB, Used: 240 TB, Usage: 80.0%\n"
     ]
    }
   ],
   "source": [
    "used_actual = headers.get('x-account-bytes-used-actual')\n",
    "quota = headers.get('x-account-meta-quota-bytes')\n",
    "print(f'Quota : {int(quota) // 1024**4} TB, Used: {int(used_actual) // 1024**4} TB, Usage: {100*int(used_actual)/int(quota):.1f}%')"
   ]
  },
  {
   "cell_type": "code",
   "execution_count": 6,
   "id": "da098665",
   "metadata": {},
   "outputs": [
    {
     "name": "stdout",
     "output_type": "stream",
     "text": [
      "container: CSD3-RAL-Transfer-Tests_streaming, size: 43 GB, objects: 96\n",
      "container: CSD3-RAL-Transfer-Tests_streaming_segments, size: 0 GB, objects: 0\n",
      "container: Cirrus-RAL-Transfer-Tests_hdd, size: 29 GB, objects: 76\n",
      "container: Cirrus-RAL-Transfer-Tests_hdd-inmem, size: 0 GB, objects: 0\n",
      "container: Cirrus-RAL-Transfer-Tests_hdd_segments, size: 15 GB, objects: 20\n",
      "container: Cirrus-RAL-Transfer-Tests_ssd, size: 29 GB, objects: 77\n",
      "container: Cirrus-RAL-Transfer-Tests_ssd_segments, size: 15 GB, objects: 20\n",
      "container: DRP, size: 0 GB, objects: 0\n",
      "container: LSST-IR-FUSION, size: 6431 GB, objects: 924586\n",
      "container: LSST-IR-FUSION-Butlers-full, size: 0 GB, objects: 1\n",
      "container: LSST-IR-FUSION-Butlers-wide, size: 238378 GB, objects: 1881422\n",
      "container: LSST-IR-FUSION-ras81, size: 0 GB, objects: 0\n",
      "container: LSST-IR-FUSION-rdsip005, size: 484 GB, objects: 139001\n",
      "container: LSST-IR-FUSION_gen3_conversion, size: 0 GB, objects: 1\n",
      "container: Somerville-RAL-Transfer-Tests, size: 29 GB, objects: 85\n",
      "container: Somerville-RAL-Transfer-Tests_hdd, size: 31 GB, objects: 88\n",
      "container: Somerville-RAL-Transfer-Tests_hdd_segments, size: 89 GB, objects: 100\n",
      "container: Somerville-RAL-Transfer-Tests_segments, size: 191 GB, objects: 211\n",
      "container: dmu4, size: 1 GB, objects: 88\n",
      "container: est_serv_ul_container, size: 3 GB, objects: 2\n",
      "container: est_serv_ul_container_segments, size: 5 GB, objects: 6\n",
      "container: lsst-dac, size: 0 GB, objects: 0\n",
      "container: lsst-drp-config, size: 0 GB, objects: 9\n",
      "container: lsst-test, size: 0 GB, objects: 1\n"
     ]
    }
   ],
   "source": [
    "containers = conn.get_account()[1]\n",
    "for container in containers:\n",
    "    print(f'container: {container[\"name\"]}, size: {container[\"bytes\"] // 1024**3} GB, objects: {container[\"count\"]}')"
   ]
  },
  {
   "cell_type": "code",
   "execution_count": 7,
   "id": "e42c9e51",
   "metadata": {},
   "outputs": [],
   "source": [
    "# import time\n",
    "# while True:\n",
    "#     used_actual = int(conn.get_account()[0].get('x-account-bytes-used-actual'))\n",
    "#     used_actual_gb = used_actual / 1024**3\n",
    "#     print(f'Used: {used_actual} B ({used_actual_gb:.3f} GB)')\n",
    "#     time.sleep(60)\n"
   ]
  }
 ],
 "metadata": {
  "kernelspec": {
   "display_name": "lsst-uk",
   "language": "python",
   "name": "python3"
  },
  "language_info": {
   "codemirror_mode": {
    "name": "ipython",
    "version": 3
   },
   "file_extension": ".py",
   "mimetype": "text/x-python",
   "name": "python",
   "nbconvert_exporter": "python",
   "pygments_lexer": "ipython3",
   "version": "3.10.13"
  }
 },
 "nbformat": 4,
 "nbformat_minor": 5
}

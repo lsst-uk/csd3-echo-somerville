{
 "cells": [
  {
   "cell_type": "code",
   "execution_count": 204,
   "id": "6aa38796",
   "metadata": {},
   "outputs": [],
   "source": [
    "from bucket_manager import bucket_manager as bm"
   ]
  },
  {
   "cell_type": "code",
   "execution_count": 205,
   "id": "7356a69f",
   "metadata": {},
   "outputs": [],
   "source": [
    "import os\n",
    "import json\n",
    "s3_host = 'https://s3.echo.stfc.ac.uk/auth/1.0'\n",
    "with open(os.path.expanduser('~/.keys/lsst-swift-credentials.json'), 'r') as kf:\n",
    "    keys = json.load(kf)\n",
    "user = keys['user']\n",
    "secret_key = keys['secret_key']\n",
    "os.environ['ST_USER'] = user\n",
    "os.environ['ST_KEY'] = secret_key\n",
    "os.environ['ST_AUTH'] = s3_host"
   ]
  },
  {
   "cell_type": "code",
   "execution_count": 206,
   "id": "61cb27a8",
   "metadata": {},
   "outputs": [],
   "source": [
    "conn = bm.get_conn_swift()"
   ]
  },
  {
   "cell_type": "code",
   "execution_count": 207,
   "id": "0df08ef7",
   "metadata": {},
   "outputs": [
    {
     "data": {
      "text/plain": [
       "{'x-timestamp': '1760366849.04093',\n",
       " 'x-account-container-count': '14',\n",
       " 'x-account-object-count': '2442940',\n",
       " 'x-account-bytes-used': '217779873925439',\n",
       " 'x-account-bytes-used-actual': '217784676425728',\n",
       " 'x-account-storage-policy-default-placement-container-count': '14',\n",
       " 'x-account-storage-policy-default-placement-object-count': '2442940',\n",
       " 'x-account-storage-policy-default-placement-bytes-used': '217779873925439',\n",
       " 'x-account-storage-policy-default-placement-bytes-used-actual': '217784676425728',\n",
       " 'x-account-meta-quota-bytes': '1125899906842624',\n",
       " 'accept-ranges': 'bytes',\n",
       " 'x-trans-id': 'tx00000a6430f5a604035be-0068ed1100-308f5a982-default',\n",
       " 'x-openstack-request-id': 'tx00000a6430f5a604035be-0068ed1100-308f5a982-default',\n",
       " 'content-type': 'application/json; charset=utf-8',\n",
       " 'content-length': '855',\n",
       " 'date': 'Mon, 13 Oct 2025 14:47:29 GMT',\n",
       " 'connection': 'Keep-Alive'}"
      ]
     },
     "execution_count": 207,
     "metadata": {},
     "output_type": "execute_result"
    }
   ],
   "source": [
    "headers = conn.get_account()[0]\n",
    "headers"
   ]
  },
  {
   "cell_type": "code",
   "execution_count": 208,
   "id": "c8b035d5",
   "metadata": {},
   "outputs": [
    {
     "name": "stdout",
     "output_type": "stream",
     "text": [
      "Quota : 1024 TB, Used: 198 TB, Usage: 19.3%\n"
     ]
    }
   ],
   "source": [
    "used_actual = headers.get('x-account-bytes-used-actual')\n",
    "quota = headers.get('x-account-meta-quota-bytes')\n",
    "print(f'Quota : {int(quota) // 1024**4} TB, Used: {int(used_actual) // 1024**4} TB, Usage: {100*int(used_actual)/int(quota):.1f}%')"
   ]
  },
  {
   "cell_type": "code",
   "execution_count": 209,
   "id": "da098665",
   "metadata": {},
   "outputs": [
    {
     "name": "stdout",
     "output_type": "stream",
     "text": [
      "container: DRP, size: 0 GiB, objects: 0\n",
      "container: LSST-IR-FUSION, size: 6431 GiB, objects: 924586\n",
      "container: LSST-IR-FUSION-Butlers-full, size: 0 GiB, objects: 1\n",
      "container: LSST-IR-FUSION-Butlers-wide, size: 193170 GiB, objects: 1477617\n",
      "container: LSST-IR-FUSION-Butlers-wide-comp, size: 1085 GiB, objects: 1236\n",
      "container: LSST-IR-FUSION-Butlers-wide-nocomp, size: 1983 GiB, objects: 1242\n",
      "container: LSST-IR-FUSION-ras81, size: 0 GiB, objects: 0\n",
      "container: LSST-IR-FUSION-rdsip005, size: 143 GiB, objects: 38239\n",
      "container: LSST-IR-FUSION_gen3_conversion, size: 0 GiB, objects: 1\n",
      "container: est_serv_ul_container, size: 3 GiB, objects: 2\n",
      "container: est_serv_ul_container_segments, size: 5 GiB, objects: 6\n",
      "container: lsst-dac, size: 0 GiB, objects: 0\n",
      "container: lsst-drp-config, size: 0 GiB, objects: 9\n",
      "container: lsst-test, size: 0 GiB, objects: 1\n"
     ]
    }
   ],
   "source": [
    "containers = conn.get_account()[1]\n",
    "for container in containers:\n",
    "    print(f'container: {container[\"name\"]}, size: {container[\"bytes\"] // 1024**3} GiB, objects: {container[\"count\"]}')"
   ]
  },
  {
   "cell_type": "code",
   "execution_count": 210,
   "id": "e42c9e51",
   "metadata": {},
   "outputs": [],
   "source": [
    "# import time\n",
    "# while True:\n",
    "#     used_actual = int(conn.get_account()[0].get('x-account-bytes-used-actual'))\n",
    "#     used_actual_gb = used_actual / 1024**3\n",
    "#     print(f'Used: {used_actual} B ({used_actual_gb:.3f} GB)')\n",
    "#     time.sleep(60)\n"
   ]
  }
 ],
 "metadata": {
  "kernelspec": {
   "display_name": "lsst-uk",
   "language": "python",
   "name": "python3"
  },
  "language_info": {
   "codemirror_mode": {
    "name": "ipython",
    "version": 3
   },
   "file_extension": ".py",
   "mimetype": "text/x-python",
   "name": "python",
   "nbconvert_exporter": "python",
   "pygments_lexer": "ipython3",
   "version": "3.10.13"
  }
 },
 "nbformat": 4,
 "nbformat_minor": 5
}

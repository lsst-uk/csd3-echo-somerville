{
 "cells": [
  {
   "cell_type": "code",
   "execution_count": 8,
   "id": "6aa38796",
   "metadata": {},
   "outputs": [],
   "source": [
    "from bucket_manager import bucket_manager as bm"
   ]
  },
  {
   "cell_type": "code",
   "execution_count": 9,
   "id": "7356a69f",
   "metadata": {},
   "outputs": [],
   "source": [
    "import os\n",
    "import json\n",
    "s3_host = 'https://s3.echo.stfc.ac.uk/auth/1.0'\n",
    "with open(os.path.expanduser('~/.keys/lsst-swift-credentials.json'), 'r') as kf:\n",
    "    keys = json.load(kf)\n",
    "user = keys['user']\n",
    "secret_key = keys['secret_key']\n",
    "os.environ['ST_USER'] = user\n",
    "os.environ['ST_KEY'] = secret_key\n",
    "os.environ['ST_AUTH'] = s3_host"
   ]
  },
  {
   "cell_type": "code",
   "execution_count": 10,
   "id": "61cb27a8",
   "metadata": {},
   "outputs": [],
   "source": [
    "conn = bm.get_conn_swift()"
   ]
  },
  {
   "cell_type": "code",
   "execution_count": 11,
   "id": "0df08ef7",
   "metadata": {},
   "outputs": [
    {
     "data": {
      "text/plain": [
       "{'x-timestamp': '1758556487.88253',\n",
       " 'x-account-container-count': '12',\n",
       " 'x-account-object-count': '2945143',\n",
       " 'x-account-bytes-used': '263395459095503',\n",
       " 'x-account-bytes-used-actual': '263401330106368',\n",
       " 'x-account-storage-policy-default-placement-container-count': '12',\n",
       " 'x-account-storage-policy-default-placement-object-count': '2945143',\n",
       " 'x-account-storage-policy-default-placement-bytes-used': '263395459095503',\n",
       " 'x-account-storage-policy-default-placement-bytes-used-actual': '263401330106368',\n",
       " 'x-account-meta-quota-bytes': '329853488332800',\n",
       " 'accept-ranges': 'bytes',\n",
       " 'x-trans-id': 'tx000008cb9fe1b5acde257-0068d17147-30850e767-default',\n",
       " 'x-openstack-request-id': 'tx000008cb9fe1b5acde257-0068d17147-30850e767-default',\n",
       " 'content-type': 'application/json; charset=utf-8',\n",
       " 'content-length': '681',\n",
       " 'date': 'Mon, 22 Sep 2025 15:54:47 GMT',\n",
       " 'connection': 'Keep-Alive'}"
      ]
     },
     "execution_count": 11,
     "metadata": {},
     "output_type": "execute_result"
    }
   ],
   "source": [
    "headers = conn.get_account()[0]\n",
    "headers"
   ]
  },
  {
   "cell_type": "code",
   "execution_count": 12,
   "id": "c8b035d5",
   "metadata": {},
   "outputs": [
    {
     "name": "stdout",
     "output_type": "stream",
     "text": [
      "Quota : 300 TB, Used: 239 TB, Usage: 79.9%\n"
     ]
    }
   ],
   "source": [
    "used_actual = headers.get('x-account-bytes-used-actual')\n",
    "quota = headers.get('x-account-meta-quota-bytes')\n",
    "print(f'Quota : {int(quota) // 1024**4} TB, Used: {int(used_actual) // 1024**4} TB, Usage: {100*int(used_actual)/int(quota):.1f}%')"
   ]
  },
  {
   "cell_type": "code",
   "execution_count": 13,
   "id": "da098665",
   "metadata": {},
   "outputs": [
    {
     "name": "stdout",
     "output_type": "stream",
     "text": [
      "container: DRP, size: 0 GB, objects: 0\n",
      "container: LSST-IR-FUSION, size: 6431 GB, objects: 924586\n",
      "container: LSST-IR-FUSION-Butlers-full, size: 0 GB, objects: 1\n",
      "container: LSST-IR-FUSION-Butlers-wide, size: 238378 GB, objects: 1881422\n",
      "container: LSST-IR-FUSION-ras81, size: 0 GB, objects: 0\n",
      "container: LSST-IR-FUSION-rdsip005, size: 484 GB, objects: 139001\n",
      "container: LSST-IR-FUSION_gen3_conversion, size: 0 GB, objects: 1\n",
      "container: Somerville-RAL-Transfer-Tests, size: 9 GB, objects: 34\n",
      "container: dmu4, size: 1 GB, objects: 88\n",
      "container: lsst-dac, size: 0 GB, objects: 0\n",
      "container: lsst-drp-config, size: 0 GB, objects: 9\n",
      "container: lsst-test, size: 0 GB, objects: 1\n"
     ]
    }
   ],
   "source": [
    "containers = conn.get_account()[1]\n",
    "for container in containers:\n",
    "    print(f'container: {container[\"name\"]}, size: {container[\"bytes\"] // 1024**3} GB, objects: {container[\"count\"]}')"
   ]
  },
  {
   "cell_type": "code",
   "execution_count": null,
   "id": "e42c9e51",
   "metadata": {},
   "outputs": [
    {
     "name": "stdout",
     "output_type": "stream",
     "text": [
      "Used: 263401330106368 B (245311.605 GB)\n",
      "Used: 263390862028800 B (245301.856 GB)\n",
      "Used: 263390862028800 B (245301.856 GB)\n",
      "Used: 263390862028800 B (245301.856 GB)\n",
      "Used: 263390862028800 B (245301.856 GB)\n",
      "Used: 263390862028800 B (245301.856 GB)\n",
      "Used: 263390862028800 B (245301.856 GB)\n",
      "Used: 263390862028800 B (245301.856 GB)\n",
      "Used: 263390862028800 B (245301.856 GB)\n",
      "Used: 263390862028800 B (245301.856 GB)\n",
      "Used: 263390862028800 B (245301.856 GB)\n",
      "Used: 263390862032896 B (245301.856 GB)\n",
      "Used: 263401408749568 B (245311.678 GB)\n"
     ]
    },
    {
     "ename": "KeyboardInterrupt",
     "evalue": "",
     "output_type": "error",
     "traceback": [
      "\u001b[0;31m---------------------------------------------------------------------------\u001b[0m",
      "\u001b[0;31mKeyboardInterrupt\u001b[0m                         Traceback (most recent call last)",
      "Cell \u001b[0;32mIn[14], line 6\u001b[0m\n\u001b[1;32m      4\u001b[0m used_actual_gb \u001b[38;5;241m=\u001b[39m used_actual \u001b[38;5;241m/\u001b[39m \u001b[38;5;241m1024\u001b[39m\u001b[38;5;241m*\u001b[39m\u001b[38;5;241m*\u001b[39m\u001b[38;5;241m3\u001b[39m\n\u001b[1;32m      5\u001b[0m \u001b[38;5;28mprint\u001b[39m(\u001b[38;5;124mf\u001b[39m\u001b[38;5;124m'\u001b[39m\u001b[38;5;124mUsed: \u001b[39m\u001b[38;5;132;01m{\u001b[39;00mused_actual\u001b[38;5;132;01m}\u001b[39;00m\u001b[38;5;124m B (\u001b[39m\u001b[38;5;132;01m{\u001b[39;00mused_actual_gb\u001b[38;5;132;01m:\u001b[39;00m\u001b[38;5;124m.3f\u001b[39m\u001b[38;5;132;01m}\u001b[39;00m\u001b[38;5;124m GB)\u001b[39m\u001b[38;5;124m'\u001b[39m)\n\u001b[0;32m----> 6\u001b[0m \u001b[43mtime\u001b[49m\u001b[38;5;241;43m.\u001b[39;49m\u001b[43msleep\u001b[49m\u001b[43m(\u001b[49m\u001b[38;5;241;43m60\u001b[39;49m\u001b[43m)\u001b[49m\n",
      "\u001b[0;31mKeyboardInterrupt\u001b[0m: "
     ]
    },
    {
     "ename": "",
     "evalue": "",
     "output_type": "error",
     "traceback": [
      "\u001b[1;31mThe Kernel crashed while executing code in the current cell or a previous cell. \n",
      "\u001b[1;31mPlease review the code in the cell(s) to identify a possible cause of the failure. \n",
      "\u001b[1;31mClick <a href='https://aka.ms/vscodeJupyterKernelCrash'>here</a> for more info. \n",
      "\u001b[1;31mView Jupyter <a href='command:jupyter.viewOutput'>log</a> for further details."
     ]
    }
   ],
   "source": [
    "import time\n",
    "while True:\n",
    "    used_actual = int(conn.get_account()[0].get('x-account-bytes-used-actual'))\n",
    "    used_actual_gb = used_actual / 1024**3\n",
    "    print(f'Used: {used_actual} B ({used_actual_gb:.3f} GB)')\n",
    "    time.sleep(60)\n"
   ]
  }
 ],
 "metadata": {
  "kernelspec": {
   "display_name": "lsst-uk",
   "language": "python",
   "name": "python3"
  },
  "language_info": {
   "codemirror_mode": {
    "name": "ipython",
    "version": 3
   },
   "file_extension": ".py",
   "mimetype": "text/x-python",
   "name": "python",
   "nbconvert_exporter": "python",
   "pygments_lexer": "ipython3",
   "version": "3.10.13"
  }
 },
 "nbformat": 4,
 "nbformat_minor": 5
}

{
 "cells": [
  {
   "cell_type": "code",
   "execution_count": 40,
   "id": "cd736e47-9104-40df-a999-6a88e805b548",
   "metadata": {},
   "outputs": [],
   "source": [
    "import sys\n",
    "import os\n",
    "from datetime import datetime\n",
    "import boto3\n",
    "import json"
   ]
  },
  {
   "cell_type": "code",
   "execution_count": 41,
   "id": "b573b482-79d4-493b-9fde-6058ca21d66a",
   "metadata": {},
   "outputs": [],
   "source": [
    "def get_keys(json_file):\n",
    "\twith open(json_file, 'r') as keyfile:\n",
    "\t\tkeys = json.load(keyfile)\n",
    "\treturn keys"
   ]
  },
  {
   "cell_type": "code",
   "execution_count": 42,
   "id": "610c8039-7f83-47e8-8762-6375038ec984",
   "metadata": {},
   "outputs": [],
   "source": [
    "s3_host = 'echo.stfc.ac.uk'\n",
    "keys = get_keys(os.sep.join([os.environ['HOME'],'lsst_keys.json']))\n",
    "access_key = keys['access_key']\n",
    "secret_key = keys['secret_key']"
   ]
  },
  {
   "cell_type": "code",
   "execution_count": 43,
   "id": "fb3207d9-c1dc-4dc0-836b-931a20363045",
   "metadata": {},
   "outputs": [],
   "source": [
    "import warnings\n",
    "warnings.filterwarnings('ignore')"
   ]
  },
  {
   "cell_type": "code",
   "execution_count": 44,
   "id": "36addfd6-672c-4b13-b1bb-1e8d539d619e",
   "metadata": {},
   "outputs": [],
   "source": [
    "session = boto3.Session()\n",
    "s3 = session.resource(\n",
    "        service_name='s3',\n",
    "        aws_access_key_id=access_key,\n",
    "        aws_secret_access_key=secret_key,\n",
    "        endpoint_url=f'https://{s3_host}',\n",
    "        verify=False\n",
    "    )"
   ]
  },
  {
   "cell_type": "code",
   "execution_count": 45,
   "id": "883cba80-0eed-4e7b-afd6-4974130a3584",
   "metadata": {},
   "outputs": [
    {
     "name": "stdout",
     "output_type": "stream",
     "text": [
      "LSST-IR-FUSION\n",
      "LSST-IR-FUSION_gen3_conversion\n",
      "csd3-backup-test\n",
      "dmu4\n",
      "lsst-dac\n",
      "lsst-drp-config\n",
      "lsst-test\n",
      "lsst-test-3\n",
      "lsst-test2\n"
     ]
    }
   ],
   "source": [
    "for b in s3.buckets.all():\n",
    "    print(b.name)"
   ]
  },
  {
   "cell_type": "code",
   "execution_count": 46,
   "id": "e14f321d-28cd-4b3c-95a4-aeccdfb6f32e",
   "metadata": {},
   "outputs": [],
   "source": [
    "bucket_name = 'csd3-backup-test'"
   ]
  },
  {
   "cell_type": "code",
   "execution_count": 47,
   "id": "d195b2a0-9947-42a1-9fb0-55195ee230ce",
   "metadata": {},
   "outputs": [],
   "source": [
    "bucket = s3.Bucket(bucket_name)"
   ]
  },
  {
   "cell_type": "code",
   "execution_count": 49,
   "id": "95e1985d-2090-4990-b5e3-0f15240369a7",
   "metadata": {},
   "outputs": [
    {
     "name": "stdout",
     "output_type": "stream",
     "text": [
      "ip005-ras81-lsst-ir-fusion-dmu3-files.csv\n",
      "ip005-ras81-lsst-ir-fusion/dmu3/data/XMMFULL_DR2_MASKVISTA_HSC-I_2.0as_IRAC2.8as_2020_05_26.fits\n",
      "ip005-ras81-lsst-ir-fusion/dmu3/data/XMMFULL_DR2_MASKVISTA_HSC-I_2.0as_IRAC2.8as_2020_05_26.fits.checksum\n",
      "ip005-ras81-lsst-ir-fusion/dmu3/data/XMMFULL_DR2_MASKVISTA_Ks_2.0as_IRAC2.8as_2020_06_01.fits\n",
      "ip005-ras81-lsst-ir-fusion/dmu3/data/XMMFULL_DR2_MASKVISTA_Ks_2.0as_IRAC2.8as_2020_06_01.fits.checksum\n",
      "ip005-ras81-lsst-ir-fusion/dmu3/readme.md\n",
      "ip005-ras81-lsst-ir-fusion/dmu3/readme.md.checksum\n"
     ]
    }
   ],
   "source": [
    "try:\n",
    "    for ob in bucket.objects.all():\n",
    "        print(ob.key)\n",
    "except Exception as e:\n",
    "    if '(NoSuchBucket)' in str(e).split():\n",
    "        print('NoSuchBucket')"
   ]
  }
 ],
 "metadata": {
  "kernelspec": {
   "display_name": "Python 3 (ipykernel)",
   "language": "python",
   "name": "python3"
  },
  "language_info": {
   "codemirror_mode": {
    "name": "ipython",
    "version": 3
   },
   "file_extension": ".py",
   "mimetype": "text/x-python",
   "name": "python",
   "nbconvert_exporter": "python",
   "pygments_lexer": "ipython3",
   "version": "3.11.5"
  }
 },
 "nbformat": 4,
 "nbformat_minor": 5
}

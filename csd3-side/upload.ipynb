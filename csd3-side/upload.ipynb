{
 "cells": [
  {
   "cell_type": "code",
   "execution_count": 1,
   "id": "8006c92e-bb36-477a-a310-cb025658eb30",
   "metadata": {},
   "outputs": [],
   "source": [
    "import sys\n",
    "import os\n",
    "import re\n",
    "from multiprocessing import Pool\n",
    "from itertools import repeat\n",
    "\n",
    "from datetime import datetime\n",
    "from time import sleep\n",
    "import hashlib\n",
    "import pandas as pd\n",
    "import numpy as np"
   ]
  },
  {
   "cell_type": "code",
   "execution_count": 3,
   "id": "d7f15ea6-9859-448f-b2c4-d90dd741f834",
   "metadata": {},
   "outputs": [],
   "source": [
    "import bucket_manager as bm"
   ]
  },
  {
   "cell_type": "code",
   "execution_count": 4,
   "id": "94646936-e186-46ca-81c9-f1ed5a443ce7",
   "metadata": {},
   "outputs": [],
   "source": [
    "# Initiate timing\n",
    "start = datetime.now()\n",
    "# Set the source directory, bucket name, and destination directory\n",
    "source_dir = f\"/rds/project/rds-rPTGgs6He74/ras81/lsst-ir-fusion/{sys.argv[1]}\"\n",
    "log = f\"{'-'.join(source_dir.split('/')[-2:])}-files.csv\"\n",
    "destination_dir = f\"ip005-ras81-lsst-ir-fusion/{sys.argv[1]}\"\n",
    "folders = []\n",
    "folder_files = []\n",
    "ncores = 1 # change to adjust number of CPUs (= number of concurrent connections)\n",
    "perform_checksum = True\n",
    "upload_checksum = False\n",
    "dryrun = False"
   ]
  },
  {
   "cell_type": "code",
   "execution_count": 5,
   "id": "e9c91ac5-e798-4a94-8149-a43bb75350ee",
   "metadata": {},
   "outputs": [],
   "source": [
    "# Add titles to log file\n",
    "with open(log, 'w') as logfile: # elsewhere open(log, 'a')\n",
    "    logfile.write('LOCAL_FOLDER,LOCAL_PATH,FILE_SIZE,BUCKET_NAME,DESTINATION_KEY,CHECKSUM,CHECKSUM_SIZE,CHECKSUM_KEY\\n')"
   ]
  },
  {
   "cell_type": "code",
   "execution_count": 6,
   "id": "2b2f300e-12d4-4519-a5d9-042325d0f03c",
   "metadata": {},
   "outputs": [],
   "source": [
    "# Setup bucket\n",
    "s3_host = 'echo.stfc.ac.uk'\n",
    "keys = bm.get_keys(os.sep.join([os.environ['HOME'],'lsst_keys.json']))\n",
    "access_key = keys['access_key']\n",
    "secret_key = keys['secret_key']"
   ]
  },
  {
   "cell_type": "code",
   "execution_count": 7,
   "id": "56867cc2-4584-461e-b74c-0a544f93d2f8",
   "metadata": {},
   "outputs": [],
   "source": [
    "client = bm.get_client(access_key, secret_key, s3_host)"
   ]
  },
  {
   "cell_type": "code",
   "execution_count": 8,
   "id": "36e800f7-eb7c-41af-aeee-5e16b4620a87",
   "metadata": {},
   "outputs": [
    {
     "data": {
      "text/plain": [
       "<botocore.client.S3 at 0x2abdb2828850>"
      ]
     },
     "execution_count": 8,
     "metadata": {},
     "output_type": "execute_result"
    }
   ],
   "source": [
    "client"
   ]
  },
  {
   "cell_type": "code",
   "execution_count": 9,
   "id": "4b78d323-91e0-48f5-b219-2192899c4ae3",
   "metadata": {},
   "outputs": [],
   "source": [
    "bucket_name = 'csd3-backup-test'\n",
    "if dryrun:\n",
    "    mybucket = 'dummy_bucket'"
   ]
  },
  {
   "cell_type": "code",
   "execution_count": 11,
   "id": "d2861a41-1092-42cd-89f6-2b63671cca71",
   "metadata": {},
   "outputs": [
    {
     "ename": "TypeError",
     "evalue": "create_bucket() only accepts keyword arguments.",
     "output_type": "error",
     "traceback": [
      "\u001b[0;31m---------------------------------------------------------------------------\u001b[0m",
      "\u001b[0;31mTypeError\u001b[0m                                 Traceback (most recent call last)",
      "Cell \u001b[0;32mIn[11], line 3\u001b[0m\n\u001b[1;32m      1\u001b[0m \u001b[38;5;28;01mif\u001b[39;00m bucket_name \u001b[38;5;129;01mnot\u001b[39;00m \u001b[38;5;129;01min\u001b[39;00m bm\u001b[38;5;241m.\u001b[39mbucket_list(client):\n\u001b[1;32m      2\u001b[0m     \u001b[38;5;28;01mif\u001b[39;00m \u001b[38;5;129;01mnot\u001b[39;00m dryrun:\n\u001b[0;32m----> 3\u001b[0m             mybucket \u001b[38;5;241m=\u001b[39m client\u001b[38;5;241m.\u001b[39mcreate_bucket(bucket_name)\n\u001b[1;32m      4\u001b[0m             \u001b[38;5;28mprint\u001b[39m(\u001b[38;5;124mf\u001b[39m\u001b[38;5;124m'\u001b[39m\u001b[38;5;124mAdded bucket: \u001b[39m\u001b[38;5;132;01m{\u001b[39;00mbucket_name\u001b[38;5;132;01m}\u001b[39;00m\u001b[38;5;124m'\u001b[39m)\n\u001b[1;32m      5\u001b[0m \u001b[38;5;28;01melse\u001b[39;00m:\n",
      "File \u001b[0;32m~/miniconda3/lib/python3.11/site-packages/botocore/client.py:531\u001b[0m, in \u001b[0;36mClientCreator._create_api_method.<locals>._api_call\u001b[0;34m(self, *args, **kwargs)\u001b[0m\n\u001b[1;32m    526\u001b[0m \u001b[38;5;28;01mdef\u001b[39;00m \u001b[38;5;21m_api_call\u001b[39m(\u001b[38;5;28mself\u001b[39m, \u001b[38;5;241m*\u001b[39margs, \u001b[38;5;241m*\u001b[39m\u001b[38;5;241m*\u001b[39mkwargs):\n\u001b[1;32m    527\u001b[0m     \u001b[38;5;66;03m# We're accepting *args so that we can give a more helpful\u001b[39;00m\n\u001b[1;32m    528\u001b[0m     \u001b[38;5;66;03m# error message than TypeError: _api_call takes exactly\u001b[39;00m\n\u001b[1;32m    529\u001b[0m     \u001b[38;5;66;03m# 1 argument.\u001b[39;00m\n\u001b[1;32m    530\u001b[0m     \u001b[38;5;28;01mif\u001b[39;00m args:\n\u001b[0;32m--> 531\u001b[0m         \u001b[38;5;28;01mraise\u001b[39;00m \u001b[38;5;167;01mTypeError\u001b[39;00m(\n\u001b[1;32m    532\u001b[0m             \u001b[38;5;124mf\u001b[39m\u001b[38;5;124m\"\u001b[39m\u001b[38;5;132;01m{\u001b[39;00mpy_operation_name\u001b[38;5;132;01m}\u001b[39;00m\u001b[38;5;124m() only accepts keyword arguments.\u001b[39m\u001b[38;5;124m\"\u001b[39m\n\u001b[1;32m    533\u001b[0m         )\n\u001b[1;32m    534\u001b[0m     \u001b[38;5;66;03m# The \"self\" in this scope is referring to the BaseClient.\u001b[39;00m\n\u001b[1;32m    535\u001b[0m     \u001b[38;5;28;01mreturn\u001b[39;00m \u001b[38;5;28mself\u001b[39m\u001b[38;5;241m.\u001b[39m_make_api_call(operation_name, kwargs)\n",
      "\u001b[0;31mTypeError\u001b[0m: create_bucket() only accepts keyword arguments."
     ]
    }
   ],
   "source": [
    "if bucket_name not in bm.bucket_list(client):\n",
    "    if not dryrun:\n",
    "            mybucket = client.create_bucket(bucket_name)\n",
    "            print(f'Added bucket: {bucket_name}')\n",
    "else:\n",
    "    if not dryrun:\n",
    "        print(f'Bucket exists: {bucket_name}')\n",
    "        #sys.exit('Bucket exists.')\n",
    "        mybucket = client.get_bucket(bucket_name)\n",
    "    else:\n",
    "        print(f'Bucket exists: {bucket_name}')\n",
    "        print('dryrun = True, so continuing.')"
   ]
  },
  {
   "cell_type": "code",
   "execution_count": null,
   "id": "eb7c6502-ac58-4aa7-bc1b-7e5d92438bad",
   "metadata": {},
   "outputs": [],
   "source": [
    "\n",
    "\n",
    "\n",
    "\n",
    "\n",
    "\n",
    "\n",
    "\n",
    "\n",
    "\n",
    "\n",
    "\n",
    "# Process the files in parallel\n",
    "print(f'Starting processing at {datetime.now()}, elapsed time = {datetime.now() - start}')\n",
    "process_files(mybucket, source_dir, destination_dir, ncores, perform_checksum, log)\n",
    "\n",
    "# Complete\n",
    "print(f'Finished at {datetime.now()}, elapsed time = {datetime.now() - start}')"
   ]
  }
 ],
 "metadata": {
  "kernelspec": {
   "display_name": "Python 3 (ipykernel)",
   "language": "python",
   "name": "python3"
  },
  "language_info": {
   "codemirror_mode": {
    "name": "ipython",
    "version": 3
   },
   "file_extension": ".py",
   "mimetype": "text/x-python",
   "name": "python",
   "nbconvert_exporter": "python",
   "pygments_lexer": "ipython3",
   "version": "3.11.5"
  }
 },
 "nbformat": 4,
 "nbformat_minor": 5
}

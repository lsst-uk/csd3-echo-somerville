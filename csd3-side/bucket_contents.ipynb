{
 "cells": [
  {
   "cell_type": "code",
   "execution_count": 12,
   "id": "cd736e47-9104-40df-a999-6a88e805b548",
   "metadata": {},
   "outputs": [],
   "source": [
    "import sys\n",
    "import os\n",
    "import bucket_manager as bm\n",
    "from datetime import datetime"
   ]
  },
  {
   "cell_type": "code",
   "execution_count": 2,
   "id": "610c8039-7f83-47e8-8762-6375038ec984",
   "metadata": {},
   "outputs": [],
   "source": [
    "s3_host = 'echo.stfc.ac.uk'\n",
    "keys = bm.get_keys(os.sep.join([os.environ['HOME'],'lsst_keys.json']))\n",
    "access_key = keys['access_key']\n",
    "secret_key = keys['secret_key']"
   ]
  },
  {
   "cell_type": "code",
   "execution_count": 3,
   "id": "b94bb9f0-93fc-4e89-b5a8-d8aae8e87b10",
   "metadata": {},
   "outputs": [],
   "source": [
    "client = bm.get_client(access_key, secret_key, s3_host)"
   ]
  },
  {
   "cell_type": "code",
   "execution_count": 4,
   "id": "e14f321d-28cd-4b3c-95a4-aeccdfb6f32e",
   "metadata": {},
   "outputs": [],
   "source": [
    "bucket_name = 'csd3-backup-test'"
   ]
  },
  {
   "cell_type": "code",
   "execution_count": 6,
   "id": "514c3dbe-8276-4f10-9a6f-af985e359c39",
   "metadata": {},
   "outputs": [
    {
     "data": {
      "text/plain": [
       "['LSST-IR-FUSION',\n",
       " 'LSST-IR-FUSION_gen3_conversion',\n",
       " 'csd3-backup-test',\n",
       " 'dmu4',\n",
       " 'lsst-dac',\n",
       " 'lsst-drp-config',\n",
       " 'lsst-test',\n",
       " 'lsst-test-3',\n",
       " 'lsst-test2']"
      ]
     },
     "execution_count": 6,
     "metadata": {},
     "output_type": "execute_result"
    }
   ],
   "source": [
    "bm.bucket_list(client)"
   ]
  },
  {
   "cell_type": "code",
   "execution_count": 9,
   "id": "b2cb6f52-d8df-4a06-accb-d8b40ed2a174",
   "metadata": {},
   "outputs": [
    {
     "name": "stderr",
     "output_type": "stream",
     "text": [
      "/home/ir-mcka1/miniconda3/lib/python3.11/site-packages/urllib3/connectionpool.py:1061: InsecureRequestWarning: Unverified HTTPS request is being made to host 'echo.stfc.ac.uk'. Adding certificate verification is strongly advised. See: https://urllib3.readthedocs.io/en/1.26.x/advanced-usage.html#ssl-warnings\n",
      "  warnings.warn(\n"
     ]
    }
   ],
   "source": [
    "response = client.list_objects(Bucket=bucket_name)"
   ]
  },
  {
   "cell_type": "code",
   "execution_count": 19,
   "id": "33b52ff8-e0f1-408c-a0df-a2d4406fade4",
   "metadata": {},
   "outputs": [
    {
     "name": "stdout",
     "output_type": "stream",
     "text": [
      "lsst-ir-fusion--f-files.csv\t2024-02-23T16:11:29.440000+00:00\t98 B\n"
     ]
    }
   ],
   "source": [
    "for S3_object in response['Contents']:\n",
    "    print(f\"{S3_object['Key']}\\t{S3_object['LastModified'].isoformat()}\\t{S3_object['Size']} B\")"
   ]
  },
  {
   "cell_type": "code",
   "execution_count": null,
   "id": "1d257d20-47cc-4b40-862b-48a1089b20be",
   "metadata": {},
   "outputs": [],
   "source": []
  }
 ],
 "metadata": {
  "kernelspec": {
   "display_name": "Python 3 (ipykernel)",
   "language": "python",
   "name": "python3"
  },
  "language_info": {
   "codemirror_mode": {
    "name": "ipython",
    "version": 3
   },
   "file_extension": ".py",
   "mimetype": "text/x-python",
   "name": "python",
   "nbconvert_exporter": "python",
   "pygments_lexer": "ipython3",
   "version": "3.11.5"
  }
 },
 "nbformat": 4,
 "nbformat_minor": 5
}

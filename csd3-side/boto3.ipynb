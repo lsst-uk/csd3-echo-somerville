{
 "cells": [
  {
   "cell_type": "markdown",
   "id": "5013c31d-ef34-4b7b-a47d-7dbb35ea315a",
   "metadata": {},
   "source": [
    "## Test boto3"
   ]
  },
  {
   "cell_type": "code",
   "execution_count": 8,
   "id": "2dceb10a-e4c3-4f79-a861-0d62652c8057",
   "metadata": {},
   "outputs": [],
   "source": [
    "import boto3\n",
    "import json\n",
    "import os\n",
    "\n",
    "def print_buckets(conn):\n",
    "\tfor bucket in conn.get_all_buckets():\n",
    "        \tprint(\"{name}\\t{created}\".format(name = bucket.name,created = bucket.creation_date))\n",
    "def get_keys(json_file):\n",
    "\twith open(json_file, 'r') as keyfile:\n",
    "\t\tkeys = json.load(keyfile)\n",
    "\treturn keys\n",
    "\n",
    "def get_client(access_key, secret_key, endpoint_url):\n",
    "\treturn boto3.Session(client(\n",
    "        's3',\n",
    "\t\taws_access_key_id = access_key,\n",
    "\t\taws_secret_access_key = secret_key,\n",
    "\t\tendpoint_url = endpoint_url,\n",
    "\t\tregion_name='',\n",
    "\t)"
   ]
  },
  {
   "cell_type": "code",
   "execution_count": 9,
   "id": "39f83b65-16b3-4fae-abe6-10805984b955",
   "metadata": {},
   "outputs": [],
   "source": [
    "keys = get_keys(os.sep.join([os.environ['HOME'],'lsst_keys.json']))\n",
    "\n",
    "access_key = keys['access_key']\n",
    "secret_key = keys['secret_key']\n",
    "\n",
    "s3_host = 'echo.stfc.ac.uk'\n",
    "\n"
   ]
  },
  {
   "cell_type": "code",
   "execution_count": 10,
   "id": "a1775f60-5b42-446f-a2c2-17efa237a5b9",
   "metadata": {},
   "outputs": [
    {
     "ename": "ValueError",
     "evalue": "Invalid endpoint: echo.stfc.ac.uk",
     "output_type": "error",
     "traceback": [
      "\u001b[0;31m---------------------------------------------------------------------------\u001b[0m",
      "\u001b[0;31mValueError\u001b[0m                                Traceback (most recent call last)",
      "Cell \u001b[0;32mIn[10], line 1\u001b[0m\n\u001b[0;32m----> 1\u001b[0m client \u001b[38;5;241m=\u001b[39m get_client(access_key, secret_key, s3_host)\n\u001b[1;32m      2\u001b[0m \u001b[38;5;28mprint\u001b[39m(client)\n",
      "Cell \u001b[0;32mIn[8], line 14\u001b[0m, in \u001b[0;36mget_client\u001b[0;34m(access_key, secret_key, endpoint_url)\u001b[0m\n\u001b[1;32m     13\u001b[0m \u001b[38;5;28;01mdef\u001b[39;00m \u001b[38;5;21mget_client\u001b[39m(access_key, secret_key, endpoint_url):\n\u001b[0;32m---> 14\u001b[0m \t\u001b[38;5;28;01mreturn\u001b[39;00m boto3\u001b[38;5;241m.\u001b[39mclient(\n\u001b[1;32m     15\u001b[0m         \u001b[38;5;124m'\u001b[39m\u001b[38;5;124ms3\u001b[39m\u001b[38;5;124m'\u001b[39m,\n\u001b[1;32m     16\u001b[0m \t\taws_access_key_id \u001b[38;5;241m=\u001b[39m access_key,\n\u001b[1;32m     17\u001b[0m \t\taws_secret_access_key \u001b[38;5;241m=\u001b[39m secret_key,\n\u001b[1;32m     18\u001b[0m \t\tendpoint_url \u001b[38;5;241m=\u001b[39m endpoint_url,\n\u001b[1;32m     19\u001b[0m \t\tregion_name\u001b[38;5;241m=\u001b[39m\u001b[38;5;124m'\u001b[39m\u001b[38;5;124m'\u001b[39m,\n\u001b[1;32m     20\u001b[0m \t)\n",
      "File \u001b[0;32m~/miniconda3/lib/python3.11/site-packages/boto3/__init__.py:92\u001b[0m, in \u001b[0;36mclient\u001b[0;34m(*args, **kwargs)\u001b[0m\n\u001b[1;32m     86\u001b[0m \u001b[38;5;28;01mdef\u001b[39;00m \u001b[38;5;21mclient\u001b[39m(\u001b[38;5;241m*\u001b[39margs, \u001b[38;5;241m*\u001b[39m\u001b[38;5;241m*\u001b[39mkwargs):\n\u001b[1;32m     87\u001b[0m \u001b[38;5;250m    \u001b[39m\u001b[38;5;124;03m\"\"\"\u001b[39;00m\n\u001b[1;32m     88\u001b[0m \u001b[38;5;124;03m    Create a low-level service client by name using the default session.\u001b[39;00m\n\u001b[1;32m     89\u001b[0m \n\u001b[1;32m     90\u001b[0m \u001b[38;5;124;03m    See :py:meth:`boto3.session.Session.client`.\u001b[39;00m\n\u001b[1;32m     91\u001b[0m \u001b[38;5;124;03m    \"\"\"\u001b[39;00m\n\u001b[0;32m---> 92\u001b[0m     \u001b[38;5;28;01mreturn\u001b[39;00m _get_default_session()\u001b[38;5;241m.\u001b[39mclient(\u001b[38;5;241m*\u001b[39margs, \u001b[38;5;241m*\u001b[39m\u001b[38;5;241m*\u001b[39mkwargs)\n",
      "File \u001b[0;32m~/miniconda3/lib/python3.11/site-packages/boto3/session.py:299\u001b[0m, in \u001b[0;36mSession.client\u001b[0;34m(self, service_name, region_name, api_version, use_ssl, verify, endpoint_url, aws_access_key_id, aws_secret_access_key, aws_session_token, config)\u001b[0m\n\u001b[1;32m    217\u001b[0m \u001b[38;5;28;01mdef\u001b[39;00m \u001b[38;5;21mclient\u001b[39m(\n\u001b[1;32m    218\u001b[0m     \u001b[38;5;28mself\u001b[39m,\n\u001b[1;32m    219\u001b[0m     service_name,\n\u001b[0;32m   (...)\u001b[0m\n\u001b[1;32m    228\u001b[0m     config\u001b[38;5;241m=\u001b[39m\u001b[38;5;28;01mNone\u001b[39;00m,\n\u001b[1;32m    229\u001b[0m ):\n\u001b[1;32m    230\u001b[0m \u001b[38;5;250m    \u001b[39m\u001b[38;5;124;03m\"\"\"\u001b[39;00m\n\u001b[1;32m    231\u001b[0m \u001b[38;5;124;03m    Create a low-level service client by name.\u001b[39;00m\n\u001b[1;32m    232\u001b[0m \n\u001b[0;32m   (...)\u001b[0m\n\u001b[1;32m    297\u001b[0m \n\u001b[1;32m    298\u001b[0m \u001b[38;5;124;03m    \"\"\"\u001b[39;00m\n\u001b[0;32m--> 299\u001b[0m     \u001b[38;5;28;01mreturn\u001b[39;00m \u001b[38;5;28mself\u001b[39m\u001b[38;5;241m.\u001b[39m_session\u001b[38;5;241m.\u001b[39mcreate_client(\n\u001b[1;32m    300\u001b[0m         service_name,\n\u001b[1;32m    301\u001b[0m         region_name\u001b[38;5;241m=\u001b[39mregion_name,\n\u001b[1;32m    302\u001b[0m         api_version\u001b[38;5;241m=\u001b[39mapi_version,\n\u001b[1;32m    303\u001b[0m         use_ssl\u001b[38;5;241m=\u001b[39muse_ssl,\n\u001b[1;32m    304\u001b[0m         verify\u001b[38;5;241m=\u001b[39mverify,\n\u001b[1;32m    305\u001b[0m         endpoint_url\u001b[38;5;241m=\u001b[39mendpoint_url,\n\u001b[1;32m    306\u001b[0m         aws_access_key_id\u001b[38;5;241m=\u001b[39maws_access_key_id,\n\u001b[1;32m    307\u001b[0m         aws_secret_access_key\u001b[38;5;241m=\u001b[39maws_secret_access_key,\n\u001b[1;32m    308\u001b[0m         aws_session_token\u001b[38;5;241m=\u001b[39maws_session_token,\n\u001b[1;32m    309\u001b[0m         config\u001b[38;5;241m=\u001b[39mconfig,\n\u001b[1;32m    310\u001b[0m     )\n",
      "File \u001b[0;32m~/miniconda3/lib/python3.11/site-packages/botocore/session.py:997\u001b[0m, in \u001b[0;36mSession.create_client\u001b[0;34m(self, service_name, region_name, api_version, use_ssl, verify, endpoint_url, aws_access_key_id, aws_secret_access_key, aws_session_token, config)\u001b[0m\n\u001b[1;32m    980\u001b[0m \u001b[38;5;28mself\u001b[39m\u001b[38;5;241m.\u001b[39m_add_configured_endpoint_provider(\n\u001b[1;32m    981\u001b[0m     client_name\u001b[38;5;241m=\u001b[39mservice_name,\n\u001b[1;32m    982\u001b[0m     config_store\u001b[38;5;241m=\u001b[39mconfig_store,\n\u001b[1;32m    983\u001b[0m )\n\u001b[1;32m    985\u001b[0m client_creator \u001b[38;5;241m=\u001b[39m botocore\u001b[38;5;241m.\u001b[39mclient\u001b[38;5;241m.\u001b[39mClientCreator(\n\u001b[1;32m    986\u001b[0m     loader,\n\u001b[1;32m    987\u001b[0m     endpoint_resolver,\n\u001b[0;32m   (...)\u001b[0m\n\u001b[1;32m    995\u001b[0m     user_agent_creator\u001b[38;5;241m=\u001b[39muser_agent_creator,\n\u001b[1;32m    996\u001b[0m )\n\u001b[0;32m--> 997\u001b[0m client \u001b[38;5;241m=\u001b[39m client_creator\u001b[38;5;241m.\u001b[39mcreate_client(\n\u001b[1;32m    998\u001b[0m     service_name\u001b[38;5;241m=\u001b[39mservice_name,\n\u001b[1;32m    999\u001b[0m     region_name\u001b[38;5;241m=\u001b[39mregion_name,\n\u001b[1;32m   1000\u001b[0m     is_secure\u001b[38;5;241m=\u001b[39muse_ssl,\n\u001b[1;32m   1001\u001b[0m     endpoint_url\u001b[38;5;241m=\u001b[39mendpoint_url,\n\u001b[1;32m   1002\u001b[0m     verify\u001b[38;5;241m=\u001b[39mverify,\n\u001b[1;32m   1003\u001b[0m     credentials\u001b[38;5;241m=\u001b[39mcredentials,\n\u001b[1;32m   1004\u001b[0m     scoped_config\u001b[38;5;241m=\u001b[39m\u001b[38;5;28mself\u001b[39m\u001b[38;5;241m.\u001b[39mget_scoped_config(),\n\u001b[1;32m   1005\u001b[0m     client_config\u001b[38;5;241m=\u001b[39mconfig,\n\u001b[1;32m   1006\u001b[0m     api_version\u001b[38;5;241m=\u001b[39mapi_version,\n\u001b[1;32m   1007\u001b[0m     auth_token\u001b[38;5;241m=\u001b[39mauth_token,\n\u001b[1;32m   1008\u001b[0m )\n\u001b[1;32m   1009\u001b[0m monitor \u001b[38;5;241m=\u001b[39m \u001b[38;5;28mself\u001b[39m\u001b[38;5;241m.\u001b[39m_get_internal_component(\u001b[38;5;124m'\u001b[39m\u001b[38;5;124mmonitor\u001b[39m\u001b[38;5;124m'\u001b[39m)\n\u001b[1;32m   1010\u001b[0m \u001b[38;5;28;01mif\u001b[39;00m monitor \u001b[38;5;129;01mis\u001b[39;00m \u001b[38;5;129;01mnot\u001b[39;00m \u001b[38;5;28;01mNone\u001b[39;00m:\n",
      "File \u001b[0;32m~/miniconda3/lib/python3.11/site-packages/botocore/client.py:159\u001b[0m, in \u001b[0;36mClientCreator.create_client\u001b[0;34m(self, service_name, region_name, is_secure, endpoint_url, verify, credentials, scoped_config, api_version, client_config, auth_token)\u001b[0m\n\u001b[1;32m    146\u001b[0m region_name, client_config \u001b[38;5;241m=\u001b[39m \u001b[38;5;28mself\u001b[39m\u001b[38;5;241m.\u001b[39m_normalize_fips_region(\n\u001b[1;32m    147\u001b[0m     region_name, client_config\n\u001b[1;32m    148\u001b[0m )\n\u001b[1;32m    149\u001b[0m endpoint_bridge \u001b[38;5;241m=\u001b[39m ClientEndpointBridge(\n\u001b[1;32m    150\u001b[0m     \u001b[38;5;28mself\u001b[39m\u001b[38;5;241m.\u001b[39m_endpoint_resolver,\n\u001b[1;32m    151\u001b[0m     scoped_config,\n\u001b[0;32m   (...)\u001b[0m\n\u001b[1;32m    157\u001b[0m     ),\n\u001b[1;32m    158\u001b[0m )\n\u001b[0;32m--> 159\u001b[0m client_args \u001b[38;5;241m=\u001b[39m \u001b[38;5;28mself\u001b[39m\u001b[38;5;241m.\u001b[39m_get_client_args(\n\u001b[1;32m    160\u001b[0m     service_model,\n\u001b[1;32m    161\u001b[0m     region_name,\n\u001b[1;32m    162\u001b[0m     is_secure,\n\u001b[1;32m    163\u001b[0m     endpoint_url,\n\u001b[1;32m    164\u001b[0m     verify,\n\u001b[1;32m    165\u001b[0m     credentials,\n\u001b[1;32m    166\u001b[0m     scoped_config,\n\u001b[1;32m    167\u001b[0m     client_config,\n\u001b[1;32m    168\u001b[0m     endpoint_bridge,\n\u001b[1;32m    169\u001b[0m     auth_token,\n\u001b[1;32m    170\u001b[0m     endpoints_ruleset_data,\n\u001b[1;32m    171\u001b[0m     partition_data,\n\u001b[1;32m    172\u001b[0m )\n\u001b[1;32m    173\u001b[0m service_client \u001b[38;5;241m=\u001b[39m \u001b[38;5;28mcls\u001b[39m(\u001b[38;5;241m*\u001b[39m\u001b[38;5;241m*\u001b[39mclient_args)\n\u001b[1;32m    174\u001b[0m \u001b[38;5;28mself\u001b[39m\u001b[38;5;241m.\u001b[39m_register_retries(service_client)\n",
      "File \u001b[0;32m~/miniconda3/lib/python3.11/site-packages/botocore/client.py:490\u001b[0m, in \u001b[0;36mClientCreator._get_client_args\u001b[0;34m(self, service_model, region_name, is_secure, endpoint_url, verify, credentials, scoped_config, client_config, endpoint_bridge, auth_token, endpoints_ruleset_data, partition_data)\u001b[0m\n\u001b[1;32m    466\u001b[0m \u001b[38;5;28;01mdef\u001b[39;00m \u001b[38;5;21m_get_client_args\u001b[39m(\n\u001b[1;32m    467\u001b[0m     \u001b[38;5;28mself\u001b[39m,\n\u001b[1;32m    468\u001b[0m     service_model,\n\u001b[0;32m   (...)\u001b[0m\n\u001b[1;32m    479\u001b[0m     partition_data,\n\u001b[1;32m    480\u001b[0m ):\n\u001b[1;32m    481\u001b[0m     args_creator \u001b[38;5;241m=\u001b[39m ClientArgsCreator(\n\u001b[1;32m    482\u001b[0m         \u001b[38;5;28mself\u001b[39m\u001b[38;5;241m.\u001b[39m_event_emitter,\n\u001b[1;32m    483\u001b[0m         \u001b[38;5;28mself\u001b[39m\u001b[38;5;241m.\u001b[39m_user_agent,\n\u001b[0;32m   (...)\u001b[0m\n\u001b[1;32m    488\u001b[0m         user_agent_creator\u001b[38;5;241m=\u001b[39m\u001b[38;5;28mself\u001b[39m\u001b[38;5;241m.\u001b[39m_user_agent_creator,\n\u001b[1;32m    489\u001b[0m     )\n\u001b[0;32m--> 490\u001b[0m     \u001b[38;5;28;01mreturn\u001b[39;00m args_creator\u001b[38;5;241m.\u001b[39mget_client_args(\n\u001b[1;32m    491\u001b[0m         service_model,\n\u001b[1;32m    492\u001b[0m         region_name,\n\u001b[1;32m    493\u001b[0m         is_secure,\n\u001b[1;32m    494\u001b[0m         endpoint_url,\n\u001b[1;32m    495\u001b[0m         verify,\n\u001b[1;32m    496\u001b[0m         credentials,\n\u001b[1;32m    497\u001b[0m         scoped_config,\n\u001b[1;32m    498\u001b[0m         client_config,\n\u001b[1;32m    499\u001b[0m         endpoint_bridge,\n\u001b[1;32m    500\u001b[0m         auth_token,\n\u001b[1;32m    501\u001b[0m         endpoints_ruleset_data,\n\u001b[1;32m    502\u001b[0m         partition_data,\n\u001b[1;32m    503\u001b[0m     )\n",
      "File \u001b[0;32m~/miniconda3/lib/python3.11/site-packages/botocore/args.py:137\u001b[0m, in \u001b[0;36mClientArgsCreator.get_client_args\u001b[0;34m(self, service_model, region_name, is_secure, endpoint_url, verify, credentials, scoped_config, client_config, endpoint_bridge, auth_token, endpoints_ruleset_data, partition_data)\u001b[0m\n\u001b[1;32m    134\u001b[0m new_config \u001b[38;5;241m=\u001b[39m Config(\u001b[38;5;241m*\u001b[39m\u001b[38;5;241m*\u001b[39mconfig_kwargs)\n\u001b[1;32m    135\u001b[0m endpoint_creator \u001b[38;5;241m=\u001b[39m EndpointCreator(event_emitter)\n\u001b[0;32m--> 137\u001b[0m endpoint \u001b[38;5;241m=\u001b[39m endpoint_creator\u001b[38;5;241m.\u001b[39mcreate_endpoint(\n\u001b[1;32m    138\u001b[0m     service_model,\n\u001b[1;32m    139\u001b[0m     region_name\u001b[38;5;241m=\u001b[39mendpoint_region_name,\n\u001b[1;32m    140\u001b[0m     endpoint_url\u001b[38;5;241m=\u001b[39mendpoint_config[\u001b[38;5;124m'\u001b[39m\u001b[38;5;124mendpoint_url\u001b[39m\u001b[38;5;124m'\u001b[39m],\n\u001b[1;32m    141\u001b[0m     verify\u001b[38;5;241m=\u001b[39mverify,\n\u001b[1;32m    142\u001b[0m     response_parser_factory\u001b[38;5;241m=\u001b[39m\u001b[38;5;28mself\u001b[39m\u001b[38;5;241m.\u001b[39m_response_parser_factory,\n\u001b[1;32m    143\u001b[0m     max_pool_connections\u001b[38;5;241m=\u001b[39mnew_config\u001b[38;5;241m.\u001b[39mmax_pool_connections,\n\u001b[1;32m    144\u001b[0m     proxies\u001b[38;5;241m=\u001b[39mnew_config\u001b[38;5;241m.\u001b[39mproxies,\n\u001b[1;32m    145\u001b[0m     timeout\u001b[38;5;241m=\u001b[39m(new_config\u001b[38;5;241m.\u001b[39mconnect_timeout, new_config\u001b[38;5;241m.\u001b[39mread_timeout),\n\u001b[1;32m    146\u001b[0m     socket_options\u001b[38;5;241m=\u001b[39msocket_options,\n\u001b[1;32m    147\u001b[0m     client_cert\u001b[38;5;241m=\u001b[39mnew_config\u001b[38;5;241m.\u001b[39mclient_cert,\n\u001b[1;32m    148\u001b[0m     proxies_config\u001b[38;5;241m=\u001b[39mnew_config\u001b[38;5;241m.\u001b[39mproxies_config,\n\u001b[1;32m    149\u001b[0m )\n\u001b[1;32m    151\u001b[0m serializer \u001b[38;5;241m=\u001b[39m botocore\u001b[38;5;241m.\u001b[39mserialize\u001b[38;5;241m.\u001b[39mcreate_serializer(\n\u001b[1;32m    152\u001b[0m     protocol, parameter_validation\n\u001b[1;32m    153\u001b[0m )\n\u001b[1;32m    154\u001b[0m response_parser \u001b[38;5;241m=\u001b[39m botocore\u001b[38;5;241m.\u001b[39mparsers\u001b[38;5;241m.\u001b[39mcreate_parser(protocol)\n",
      "File \u001b[0;32m~/miniconda3/lib/python3.11/site-packages/botocore/endpoint.py:402\u001b[0m, in \u001b[0;36mEndpointCreator.create_endpoint\u001b[0;34m(self, service_model, region_name, endpoint_url, verify, response_parser_factory, timeout, max_pool_connections, http_session_cls, proxies, socket_options, client_cert, proxies_config)\u001b[0m\n\u001b[1;32m    384\u001b[0m \u001b[38;5;28;01mdef\u001b[39;00m \u001b[38;5;21mcreate_endpoint\u001b[39m(\n\u001b[1;32m    385\u001b[0m     \u001b[38;5;28mself\u001b[39m,\n\u001b[1;32m    386\u001b[0m     service_model,\n\u001b[0;32m   (...)\u001b[0m\n\u001b[1;32m    397\u001b[0m     proxies_config\u001b[38;5;241m=\u001b[39m\u001b[38;5;28;01mNone\u001b[39;00m,\n\u001b[1;32m    398\u001b[0m ):\n\u001b[1;32m    399\u001b[0m     \u001b[38;5;28;01mif\u001b[39;00m \u001b[38;5;129;01mnot\u001b[39;00m is_valid_endpoint_url(\n\u001b[1;32m    400\u001b[0m         endpoint_url\n\u001b[1;32m    401\u001b[0m     ) \u001b[38;5;129;01mand\u001b[39;00m \u001b[38;5;129;01mnot\u001b[39;00m is_valid_ipv6_endpoint_url(endpoint_url):\n\u001b[0;32m--> 402\u001b[0m         \u001b[38;5;28;01mraise\u001b[39;00m \u001b[38;5;167;01mValueError\u001b[39;00m(\u001b[38;5;124m\"\u001b[39m\u001b[38;5;124mInvalid endpoint: \u001b[39m\u001b[38;5;132;01m%s\u001b[39;00m\u001b[38;5;124m\"\u001b[39m \u001b[38;5;241m%\u001b[39m endpoint_url)\n\u001b[1;32m    404\u001b[0m     \u001b[38;5;28;01mif\u001b[39;00m proxies \u001b[38;5;129;01mis\u001b[39;00m \u001b[38;5;28;01mNone\u001b[39;00m:\n\u001b[1;32m    405\u001b[0m         proxies \u001b[38;5;241m=\u001b[39m \u001b[38;5;28mself\u001b[39m\u001b[38;5;241m.\u001b[39m_get_proxies(endpoint_url)\n",
      "\u001b[0;31mValueError\u001b[0m: Invalid endpoint: echo.stfc.ac.uk"
     ]
    }
   ],
   "source": [
    "client = get_client(access_key, secret_key, s3_host)\n",
    "print(client)\n"
   ]
  },
  {
   "cell_type": "code",
   "execution_count": null,
   "id": "74805cda-dc96-4747-9a31-44c091b6f767",
   "metadata": {},
   "outputs": [],
   "source": []
  }
 ],
 "metadata": {
  "kernelspec": {
   "display_name": "Python 3 (ipykernel)",
   "language": "python",
   "name": "python3"
  },
  "language_info": {
   "codemirror_mode": {
    "name": "ipython",
    "version": 3
   },
   "file_extension": ".py",
   "mimetype": "text/x-python",
   "name": "python",
   "nbconvert_exporter": "python",
   "pygments_lexer": "ipython3",
   "version": "3.11.5"
  }
 },
 "nbformat": 4,
 "nbformat_minor": 5
}

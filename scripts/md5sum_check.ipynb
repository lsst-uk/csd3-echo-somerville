{
 "cells": [
  {
   "cell_type": "markdown",
   "id": "c7c0258a-de1b-4c1a-9c31-15f9123f723b",
   "metadata": {},
   "source": [
    "# Check Swift ETag vs hashlib md5"
   ]
  },
  {
   "cell_type": "code",
   "execution_count": 1,
   "id": "eac71d33-fdfd-4fe5-84c5-34a12f5feafb",
   "metadata": {},
   "outputs": [],
   "source": [
    "import os\n",
    "from bucket_manager import bucket_manager as bm\n",
    "import pandas as pd"
   ]
  },
  {
   "cell_type": "code",
   "execution_count": 2,
   "id": "e623746e-50b3-4b31-899a-8f11ba1af717",
   "metadata": {},
   "outputs": [],
   "source": [
    "swift_keys_path = '~/.keys/lsst-swift-credentials.json'\n",
    "creds = {}\n",
    "\n",
    "#for swift\n",
    "with open(os.path.expanduser(swift_keys_path), 'r') as swiftkeys:\n",
    "    for line in swiftkeys.readlines():\n",
    "        if 'user' in line:\n",
    "            creds['ST_USER'] = line.split('\"')[3]\n",
    "        elif 'secret_key' in line:\n",
    "            creds['ST_KEY'] = line.split('\"')[3]\n",
    "creds['ST_AUTH'] = 'https://s3.echo.stfc.ac.uk/auth/1.0'\n",
    "\n",
    "#Some Swift operations expect environment variables\n",
    "#Here we just mirror the creds dict to the os.environ dict\n",
    "for k, v in creds.items():\n",
    "    os.environ[k] = v\n",
    "\n",
    "assert bm.check_keys(api='swift')"
   ]
  },
  {
   "cell_type": "markdown",
   "id": "b57fec4a-27e7-44f8-8c09-97f155ffee63",
   "metadata": {},
   "source": [
    "## Swift Connection"
   ]
  },
  {
   "cell_type": "code",
   "execution_count": 3,
   "id": "e366f3f7-e34b-4d24-8413-63ba1b81af21",
   "metadata": {},
   "outputs": [],
   "source": [
    "connection = bm.get_conn_swift()"
   ]
  },
  {
   "cell_type": "code",
   "execution_count": 4,
   "id": "8afad3d8-1341-4564-88d7-30621deeec9f",
   "metadata": {},
   "outputs": [],
   "source": [
    "# %%timeit\n",
    "containers = [ container['name'] for container in connection.get_account()[1] ]"
   ]
  },
  {
   "cell_type": "code",
   "execution_count": 5,
   "id": "b542ce1f-6b0b-4322-9799-d897a2b850b7",
   "metadata": {},
   "outputs": [
    {
     "data": {
      "text/plain": [
       "['DRP',\n",
       " 'LSST-IR-FUSION',\n",
       " 'LSST-IR-FUSION-Butlers',\n",
       " 'LSST-IR-FUSION-TEST',\n",
       " 'LSST-IR-FUSION-rdsip005',\n",
       " 'LSST-IR-FUSION-testfromopenstack',\n",
       " 'LSST-IR-FUSION_gen3_conversion',\n",
       " 'dmu4',\n",
       " 'lsst-dac',\n",
       " 'lsst-drp-config',\n",
       " 'lsst-test']"
      ]
     },
     "execution_count": 5,
     "metadata": {},
     "output_type": "execute_result"
    }
   ],
   "source": [
    "containers"
   ]
  },
  {
   "cell_type": "code",
   "execution_count": 6,
   "id": "627f47d5-9b65-4339-a494-e900b139072e",
   "metadata": {},
   "outputs": [],
   "source": [
    "# %%timeit\n",
    "swift_objects = [ obj['name'] for obj in connection.get_container('LSST-IR-FUSION-testfromopenstack')[1] ]"
   ]
  },
  {
   "cell_type": "code",
   "execution_count": 7,
   "id": "c3be1934-996e-403b-b26b-8490a5fab543",
   "metadata": {},
   "outputs": [
    {
     "data": {
      "text/plain": [
       "['dummy-lsst-backup.csv',\n",
       " 'dummy/1/1_1.f',\n",
       " 'dummy/1/1_2.f',\n",
       " 'dummy/14/14_1.f',\n",
       " 'dummy/14/14_2.f',\n",
       " 'dummy/17/17_2.f',\n",
       " 'dummy/18/18_1.f',\n",
       " 'dummy/18/18_2.f',\n",
       " 'dummy/2/2_1.f',\n",
       " 'dummy/2/2_2.f',\n",
       " 'dummy/21/21_1.f',\n",
       " 'dummy/21/21_2.f',\n",
       " 'dummy/30/30_1.f',\n",
       " 'dummy/30/30_2.f',\n",
       " 'dummy/31/31_1.f',\n",
       " 'dummy/31/31_2.f',\n",
       " 'dummy/36/36_1.f',\n",
       " 'dummy/36/36_2.f',\n",
       " 'dummy/44/44_1.f',\n",
       " 'dummy/44/44_2.f',\n",
       " 'dummy/46/46_1.f',\n",
       " 'dummy/5/5_1.f',\n",
       " 'dummy/5/5_2.f',\n",
       " 'dummy/50/50_1.f',\n",
       " 'dummy/50/50_2.f',\n",
       " 'dummy/52/52_1.f',\n",
       " 'dummy/52/52_2.f',\n",
       " 'dummy/53/53_1.f',\n",
       " 'dummy/53/53_2.f',\n",
       " 'dummy/60/60_2.f',\n",
       " 'dummy/67/67_1.f',\n",
       " 'dummy/67/67_2.f',\n",
       " 'dummy/7/7_1.f',\n",
       " 'dummy/7/7_2.f',\n",
       " 'dummy/72/72_1.f',\n",
       " 'dummy/72/72_2.f',\n",
       " 'dummy/8/8_1.f',\n",
       " 'dummy/8/8_2.f',\n",
       " 'dummy/81/81_1.f',\n",
       " 'dummy/81/81_2.f',\n",
       " 'dummy/87/87_1.f',\n",
       " 'dummy/87/87_2.f',\n",
       " 'dummy/88/88_1.f',\n",
       " 'dummy/88/88_2.f',\n",
       " 'dummy/97/97_1.f',\n",
       " 'dummy/97/97_2.f',\n",
       " 'dummy/98/98_1.f',\n",
       " 'dummy/98/98_2.f',\n",
       " 'dummy/collated_0.zip',\n",
       " 'dummy/collated_0.zip.metadata',\n",
       " 'dummy/collated_1.zip',\n",
       " 'dummy/collated_1.zip.metadata',\n",
       " 'dummy/collated_2.zip',\n",
       " 'dummy/collated_2.zip.metadata',\n",
       " 'dummy/collated_3.zip',\n",
       " 'dummy/collated_3.zip.metadata',\n",
       " 'dummy/collated_4.zip',\n",
       " 'dummy/collated_4.zip.metadata',\n",
       " 'dummy/collated_5.zip',\n",
       " 'dummy/collated_5.zip.metadata',\n",
       " 'dummy/collated_55.zip',\n",
       " 'dummy/collated_55.zip.metadata',\n",
       " 'dummy/collated_59.zip',\n",
       " 'dummy/collated_59.zip.metadata',\n",
       " 'dummy/collated_6.zip',\n",
       " 'dummy/collated_6.zip.metadata',\n",
       " 'dummy/collated_61.zip',\n",
       " 'dummy/collated_61.zip.metadata',\n",
       " 'dummy/collated_62.zip',\n",
       " 'dummy/collated_62.zip.metadata',\n",
       " 'dummy/collated_63.zip',\n",
       " 'dummy/collated_63.zip.metadata',\n",
       " 'dummy/collated_64.zip',\n",
       " 'dummy/collated_64.zip.metadata',\n",
       " 'dummy/collated_65.zip',\n",
       " 'dummy/collated_65.zip.metadata',\n",
       " 'dummy/collated_66.zip',\n",
       " 'dummy/collated_66.zip.metadata',\n",
       " 'dummy/collated_7.zip',\n",
       " 'dummy/collated_7.zip.metadata']"
      ]
     },
     "execution_count": 7,
     "metadata": {},
     "output_type": "execute_result"
    }
   ],
   "source": [
    "swift_objects"
   ]
  },
  {
   "cell_type": "markdown",
   "id": "22984248-4bb2-47df-8220-b9f1650798a7",
   "metadata": {},
   "source": [
    "With a simple test of getting lists buckets and objects within a bucket, the boto3 API seems faster at this stage.\n",
    "\n",
    "Now we'll try something abit more in-depth."
   ]
  },
  {
   "cell_type": "code",
   "execution_count": 8,
   "id": "e6f1d7c5-b203-43a9-81aa-3541852ad694",
   "metadata": {},
   "outputs": [],
   "source": [
    "def get_headers(key, connection, container_name):\n",
    "    try:\n",
    "        header = connection.head_object(container_name,key)\n",
    "    except:\n",
    "        header = None\n",
    "    return header"
   ]
  },
  {
   "cell_type": "code",
   "execution_count": 9,
   "id": "4d94b5ac",
   "metadata": {},
   "outputs": [
    {
     "data": {
      "text/html": [
       "<div>\n",
       "<style scoped>\n",
       "    .dataframe tbody tr th:only-of-type {\n",
       "        vertical-align: middle;\n",
       "    }\n",
       "\n",
       "    .dataframe tbody tr th {\n",
       "        vertical-align: top;\n",
       "    }\n",
       "\n",
       "    .dataframe thead th {\n",
       "        text-align: right;\n",
       "    }\n",
       "</style>\n",
       "<table border=\"1\" class=\"dataframe\">\n",
       "  <thead>\n",
       "    <tr style=\"text-align: right;\">\n",
       "      <th></th>\n",
       "      <th>key</th>\n",
       "      <th>header</th>\n",
       "    </tr>\n",
       "  </thead>\n",
       "  <tbody>\n",
       "    <tr>\n",
       "      <th>0</th>\n",
       "      <td>dummy-lsst-backup.csv</td>\n",
       "      <td>{'content-length': '2469', 'accept-ranges': 'b...</td>\n",
       "    </tr>\n",
       "    <tr>\n",
       "      <th>1</th>\n",
       "      <td>dummy/1/1_1.f</td>\n",
       "      <td>{'content-length': '0', 'accept-ranges': 'byte...</td>\n",
       "    </tr>\n",
       "    <tr>\n",
       "      <th>2</th>\n",
       "      <td>dummy/1/1_2.f</td>\n",
       "      <td>{'content-length': '0', 'accept-ranges': 'byte...</td>\n",
       "    </tr>\n",
       "    <tr>\n",
       "      <th>3</th>\n",
       "      <td>dummy/14/14_1.f</td>\n",
       "      <td>{'content-length': '0', 'accept-ranges': 'byte...</td>\n",
       "    </tr>\n",
       "    <tr>\n",
       "      <th>4</th>\n",
       "      <td>dummy/14/14_2.f</td>\n",
       "      <td>{'content-length': '0', 'accept-ranges': 'byte...</td>\n",
       "    </tr>\n",
       "    <tr>\n",
       "      <th>...</th>\n",
       "      <td>...</td>\n",
       "      <td>...</td>\n",
       "    </tr>\n",
       "    <tr>\n",
       "      <th>75</th>\n",
       "      <td>dummy/collated_65.zip.metadata</td>\n",
       "      <td>{'content-length': '29', 'accept-ranges': 'byt...</td>\n",
       "    </tr>\n",
       "    <tr>\n",
       "      <th>76</th>\n",
       "      <td>dummy/collated_66.zip</td>\n",
       "      <td>{'content-length': '71303378', 'accept-ranges'...</td>\n",
       "    </tr>\n",
       "    <tr>\n",
       "      <th>77</th>\n",
       "      <td>dummy/collated_66.zip.metadata</td>\n",
       "      <td>{'content-length': '19', 'accept-ranges': 'byt...</td>\n",
       "    </tr>\n",
       "    <tr>\n",
       "      <th>78</th>\n",
       "      <td>dummy/collated_7.zip</td>\n",
       "      <td>{'content-length': '106955056', 'accept-ranges...</td>\n",
       "    </tr>\n",
       "    <tr>\n",
       "      <th>79</th>\n",
       "      <td>dummy/collated_7.zip.metadata</td>\n",
       "      <td>{'content-length': '29', 'accept-ranges': 'byt...</td>\n",
       "    </tr>\n",
       "  </tbody>\n",
       "</table>\n",
       "<p>80 rows × 2 columns</p>\n",
       "</div>"
      ],
      "text/plain": [
       "                               key  \\\n",
       "0            dummy-lsst-backup.csv   \n",
       "1                    dummy/1/1_1.f   \n",
       "2                    dummy/1/1_2.f   \n",
       "3                  dummy/14/14_1.f   \n",
       "4                  dummy/14/14_2.f   \n",
       "..                             ...   \n",
       "75  dummy/collated_65.zip.metadata   \n",
       "76           dummy/collated_66.zip   \n",
       "77  dummy/collated_66.zip.metadata   \n",
       "78            dummy/collated_7.zip   \n",
       "79   dummy/collated_7.zip.metadata   \n",
       "\n",
       "                                               header  \n",
       "0   {'content-length': '2469', 'accept-ranges': 'b...  \n",
       "1   {'content-length': '0', 'accept-ranges': 'byte...  \n",
       "2   {'content-length': '0', 'accept-ranges': 'byte...  \n",
       "3   {'content-length': '0', 'accept-ranges': 'byte...  \n",
       "4   {'content-length': '0', 'accept-ranges': 'byte...  \n",
       "..                                                ...  \n",
       "75  {'content-length': '29', 'accept-ranges': 'byt...  \n",
       "76  {'content-length': '71303378', 'accept-ranges'...  \n",
       "77  {'content-length': '19', 'accept-ranges': 'byt...  \n",
       "78  {'content-length': '106955056', 'accept-ranges...  \n",
       "79  {'content-length': '29', 'accept-ranges': 'byt...  \n",
       "\n",
       "[80 rows x 2 columns]"
      ]
     },
     "execution_count": 9,
     "metadata": {},
     "output_type": "execute_result"
    }
   ],
   "source": [
    "df = pd.DataFrame(swift_objects, columns=['key'])\n",
    "df['header'] = df['key'].apply(lambda x: get_headers(x, connection, 'LSST-IR-FUSION-testfromopenstack'))\n",
    "df"
   ]
  },
  {
   "cell_type": "code",
   "execution_count": 10,
   "id": "abaf4e37",
   "metadata": {},
   "outputs": [
    {
     "data": {
      "text/plain": [
       "{'content-length': '2469',\n",
       " 'accept-ranges': 'bytes',\n",
       " 'last-modified': 'Tue, 04 Feb 2025 11:54:21 GMT',\n",
       " 'x-timestamp': '1738670061.55192',\n",
       " 'etag': '6e6565cc676378490db89c87857ed823',\n",
       " 'x-trans-id': 'tx00000e1b82ddb7eb84d9d-0067bde4ee-2fd9a218e-default',\n",
       " 'x-openstack-request-id': 'tx00000e1b82ddb7eb84d9d-0067bde4ee-2fd9a218e-default',\n",
       " 'content-type': 'multipart/mixed',\n",
       " 'date': 'Tue, 25 Feb 2025 15:42:38 GMT'}"
      ]
     },
     "execution_count": 10,
     "metadata": {},
     "output_type": "execute_result"
    }
   ],
   "source": [
    "d = df['header'][0]\n",
    "d"
   ]
  },
  {
   "cell_type": "code",
   "execution_count": 11,
   "id": "9b528e16",
   "metadata": {},
   "outputs": [],
   "source": [
    "def get_etag(header):\n",
    "    try:\n",
    "        etag = header['etag']\n",
    "    except:\n",
    "        etag = None\n",
    "    return etag"
   ]
  },
  {
   "cell_type": "code",
   "execution_count": 12,
   "id": "657af6eb",
   "metadata": {},
   "outputs": [],
   "source": [
    "df['etag'] = df['header'].apply(lambda x: get_etag(x))"
   ]
  },
  {
   "cell_type": "code",
   "execution_count": 13,
   "id": "3d14644c",
   "metadata": {},
   "outputs": [
    {
     "data": {
      "text/html": [
       "<div>\n",
       "<style scoped>\n",
       "    .dataframe tbody tr th:only-of-type {\n",
       "        vertical-align: middle;\n",
       "    }\n",
       "\n",
       "    .dataframe tbody tr th {\n",
       "        vertical-align: top;\n",
       "    }\n",
       "\n",
       "    .dataframe thead th {\n",
       "        text-align: right;\n",
       "    }\n",
       "</style>\n",
       "<table border=\"1\" class=\"dataframe\">\n",
       "  <thead>\n",
       "    <tr style=\"text-align: right;\">\n",
       "      <th></th>\n",
       "      <th>key</th>\n",
       "      <th>header</th>\n",
       "      <th>etag</th>\n",
       "    </tr>\n",
       "  </thead>\n",
       "  <tbody>\n",
       "    <tr>\n",
       "      <th>0</th>\n",
       "      <td>dummy-lsst-backup.csv</td>\n",
       "      <td>{'content-length': '2469', 'accept-ranges': 'b...</td>\n",
       "      <td>6e6565cc676378490db89c87857ed823</td>\n",
       "    </tr>\n",
       "    <tr>\n",
       "      <th>1</th>\n",
       "      <td>dummy/1/1_1.f</td>\n",
       "      <td>{'content-length': '0', 'accept-ranges': 'byte...</td>\n",
       "      <td>d41d8cd98f00b204e9800998ecf8427e</td>\n",
       "    </tr>\n",
       "    <tr>\n",
       "      <th>2</th>\n",
       "      <td>dummy/1/1_2.f</td>\n",
       "      <td>{'content-length': '0', 'accept-ranges': 'byte...</td>\n",
       "      <td>d41d8cd98f00b204e9800998ecf8427e</td>\n",
       "    </tr>\n",
       "    <tr>\n",
       "      <th>3</th>\n",
       "      <td>dummy/14/14_1.f</td>\n",
       "      <td>{'content-length': '0', 'accept-ranges': 'byte...</td>\n",
       "      <td>d41d8cd98f00b204e9800998ecf8427e</td>\n",
       "    </tr>\n",
       "    <tr>\n",
       "      <th>4</th>\n",
       "      <td>dummy/14/14_2.f</td>\n",
       "      <td>{'content-length': '0', 'accept-ranges': 'byte...</td>\n",
       "      <td>d41d8cd98f00b204e9800998ecf8427e</td>\n",
       "    </tr>\n",
       "    <tr>\n",
       "      <th>...</th>\n",
       "      <td>...</td>\n",
       "      <td>...</td>\n",
       "      <td>...</td>\n",
       "    </tr>\n",
       "    <tr>\n",
       "      <th>75</th>\n",
       "      <td>dummy/collated_65.zip.metadata</td>\n",
       "      <td>{'content-length': '29', 'accept-ranges': 'byt...</td>\n",
       "      <td>d09468b58628a6279416b6317f9b6c47</td>\n",
       "    </tr>\n",
       "    <tr>\n",
       "      <th>76</th>\n",
       "      <td>dummy/collated_66.zip</td>\n",
       "      <td>{'content-length': '71303378', 'accept-ranges'...</td>\n",
       "      <td>d7e9fbbb851da3197c318abba27313e5</td>\n",
       "    </tr>\n",
       "    <tr>\n",
       "      <th>77</th>\n",
       "      <td>dummy/collated_66.zip.metadata</td>\n",
       "      <td>{'content-length': '19', 'accept-ranges': 'byt...</td>\n",
       "      <td>dc056d37c09c9e010fadcb0737fd668c</td>\n",
       "    </tr>\n",
       "    <tr>\n",
       "      <th>78</th>\n",
       "      <td>dummy/collated_7.zip</td>\n",
       "      <td>{'content-length': '106955056', 'accept-ranges...</td>\n",
       "      <td>0716b629b5b98730571f798191a8a809</td>\n",
       "    </tr>\n",
       "    <tr>\n",
       "      <th>79</th>\n",
       "      <td>dummy/collated_7.zip.metadata</td>\n",
       "      <td>{'content-length': '29', 'accept-ranges': 'byt...</td>\n",
       "      <td>ed0d692dd59fe7d36c54dc44fa6ecaa7</td>\n",
       "    </tr>\n",
       "  </tbody>\n",
       "</table>\n",
       "<p>80 rows × 3 columns</p>\n",
       "</div>"
      ],
      "text/plain": [
       "                               key  \\\n",
       "0            dummy-lsst-backup.csv   \n",
       "1                    dummy/1/1_1.f   \n",
       "2                    dummy/1/1_2.f   \n",
       "3                  dummy/14/14_1.f   \n",
       "4                  dummy/14/14_2.f   \n",
       "..                             ...   \n",
       "75  dummy/collated_65.zip.metadata   \n",
       "76           dummy/collated_66.zip   \n",
       "77  dummy/collated_66.zip.metadata   \n",
       "78            dummy/collated_7.zip   \n",
       "79   dummy/collated_7.zip.metadata   \n",
       "\n",
       "                                               header  \\\n",
       "0   {'content-length': '2469', 'accept-ranges': 'b...   \n",
       "1   {'content-length': '0', 'accept-ranges': 'byte...   \n",
       "2   {'content-length': '0', 'accept-ranges': 'byte...   \n",
       "3   {'content-length': '0', 'accept-ranges': 'byte...   \n",
       "4   {'content-length': '0', 'accept-ranges': 'byte...   \n",
       "..                                                ...   \n",
       "75  {'content-length': '29', 'accept-ranges': 'byt...   \n",
       "76  {'content-length': '71303378', 'accept-ranges'...   \n",
       "77  {'content-length': '19', 'accept-ranges': 'byt...   \n",
       "78  {'content-length': '106955056', 'accept-ranges...   \n",
       "79  {'content-length': '29', 'accept-ranges': 'byt...   \n",
       "\n",
       "                                etag  \n",
       "0   6e6565cc676378490db89c87857ed823  \n",
       "1   d41d8cd98f00b204e9800998ecf8427e  \n",
       "2   d41d8cd98f00b204e9800998ecf8427e  \n",
       "3   d41d8cd98f00b204e9800998ecf8427e  \n",
       "4   d41d8cd98f00b204e9800998ecf8427e  \n",
       "..                               ...  \n",
       "75  d09468b58628a6279416b6317f9b6c47  \n",
       "76  d7e9fbbb851da3197c318abba27313e5  \n",
       "77  dc056d37c09c9e010fadcb0737fd668c  \n",
       "78  0716b629b5b98730571f798191a8a809  \n",
       "79  ed0d692dd59fe7d36c54dc44fa6ecaa7  \n",
       "\n",
       "[80 rows x 3 columns]"
      ]
     },
     "execution_count": 13,
     "metadata": {},
     "output_type": "execute_result"
    }
   ],
   "source": [
    "df"
   ]
  },
  {
   "cell_type": "code",
   "execution_count": 14,
   "id": "5395dc83",
   "metadata": {},
   "outputs": [
    {
     "data": {
      "text/plain": [
       "<swiftclient.client.Connection at 0x7fb5928f2dd0>"
      ]
     },
     "execution_count": 14,
     "metadata": {},
     "output_type": "execute_result"
    }
   ],
   "source": [
    "connection"
   ]
  },
  {
   "cell_type": "code",
   "execution_count": 24,
   "id": "e45d7125-caea-4b09-9450-c4f8b5799eb0",
   "metadata": {},
   "outputs": [],
   "source": [
    "def get_etag(key, bucket_name, connection):\n",
    "    return connection.head_object(bucket_name,key)['etag']"
   ]
  },
  {
   "cell_type": "code",
   "execution_count": 25,
   "id": "1db8052e-32da-4c4f-b4f9-aa16c0e75f47",
   "metadata": {},
   "outputs": [],
   "source": [
    "bucket_name = 'LSST-IR-FUSION-Butlers'\n",
    "keys = ['butler_full_20221201/data/u/ir-shir1/DRP/vikingSingleFrame/20221208T120837Z/isr_log/20140302/896356/isr_log_VIRCAM_VIRCAM-Ks_896356_ccd6_u_ir-shir1_DRP_vikingSingleFrame_20221208T120837Z.json','butler_full_20221201/data/u/ir-shir1/DRP/vikingSingleFrame/20221208T120837Z/calexp/20110627/K/VIRCAM-Ks/314139/calexp_VIRCAM_K_VIRCAM-Ks_314139_ccd3_u_ir-shir1_DRP_vikingSingleFrame_20221208T120837Z.fits']"
   ]
  },
  {
   "cell_type": "code",
   "execution_count": 26,
   "id": "96a121bd-9a1a-41f5-96dd-350236ee78eb",
   "metadata": {},
   "outputs": [],
   "source": [
    "etags = []\n",
    "for k in keys:\n",
    "    etags.append(get_etag(k, bucket_name, connection))"
   ]
  },
  {
   "cell_type": "code",
   "execution_count": 27,
   "id": "7990db35-5e67-4af9-9090-602f16f153fd",
   "metadata": {},
   "outputs": [
    {
     "data": {
      "text/plain": [
       "['122206487683ef9a4a44ddd362a15ba8', '42f7a4b3bd16f5f58599a569307e11c2']"
      ]
     },
     "execution_count": 27,
     "metadata": {},
     "output_type": "execute_result"
    }
   ],
   "source": [
    "etags"
   ]
  },
  {
   "cell_type": "code",
   "execution_count": 28,
   "id": "1c92e340-3cff-4dfc-80f6-2ce314e648dd",
   "metadata": {},
   "outputs": [
    {
     "data": {
      "text/plain": [
       "{'content-length': '30191040',\n",
       " 'accept-ranges': 'bytes',\n",
       " 'last-modified': 'Tue, 25 Feb 2025 12:52:04 GMT',\n",
       " 'x-timestamp': '1740487924.55205',\n",
       " 'etag': '42f7a4b3bd16f5f58599a569307e11c2',\n",
       " 'x-trans-id': 'tx00000c555350ea4cb1c97-0067bde7d0-2fd9af127-default',\n",
       " 'x-openstack-request-id': 'tx00000c555350ea4cb1c97-0067bde7d0-2fd9af127-default',\n",
       " 'content-type': 'image/fits',\n",
       " 'date': 'Tue, 25 Feb 2025 15:54:56 GMT',\n",
       " 'connection': 'Keep-Alive'}"
      ]
     },
     "execution_count": 28,
     "metadata": {},
     "output_type": "execute_result"
    }
   ],
   "source": [
    "wrong_header = connection.head_object(bucket_name,keys[1])\n",
    "wrong_header"
   ]
  },
  {
   "cell_type": "code",
   "execution_count": 30,
   "id": "3df98a80-db4e-475f-8e90-5346eb8c7000",
   "metadata": {
    "scrolled": true
   },
   "outputs": [],
   "source": [
    "data = connection.get_object(bucket_name, keys[1])[1]"
   ]
  },
  {
   "cell_type": "code",
   "execution_count": 31,
   "id": "15eb9de9-7307-4257-89de-4df0747ce498",
   "metadata": {},
   "outputs": [],
   "source": [
    "import hashlib"
   ]
  },
  {
   "cell_type": "code",
   "execution_count": 32,
   "id": "f5f35579-fcb4-48d2-8088-00f09cd1e4b0",
   "metadata": {},
   "outputs": [],
   "source": [
    "md5sum = hashlib.md5(data).hexdigest()"
   ]
  },
  {
   "cell_type": "code",
   "execution_count": 36,
   "id": "7dd9b5b9-24bf-4f26-812a-1040ad93fb7b",
   "metadata": {},
   "outputs": [
    {
     "data": {
      "text/plain": [
       "0"
      ]
     },
     "execution_count": 36,
     "metadata": {},
     "output_type": "execute_result"
    }
   ],
   "source": [
    "parts = []\n",
    "num_parts = len(data) // (512*1024**2)\n",
    "# data.seek(0)\n",
    "num_parts"
   ]
  },
  {
   "cell_type": "code",
   "execution_count": 37,
   "id": "dfd0afe5-e6ac-4dbf-84b6-a1f4fda110a0",
   "metadata": {},
   "outputs": [
    {
     "data": {
      "text/plain": [
       "30191040"
      ]
     },
     "execution_count": 37,
     "metadata": {},
     "output_type": "execute_result"
    }
   ],
   "source": [
    "len(data)"
   ]
  },
  {
   "cell_type": "code",
   "execution_count": null,
   "id": "2f2e7220-303c-416c-b090-ca45019c4fc1",
   "metadata": {},
   "outputs": [],
   "source": []
  }
 ],
 "metadata": {
  "kernelspec": {
   "display_name": "Python 3 (ipykernel)",
   "language": "python",
   "name": "python3"
  },
  "language_info": {
   "codemirror_mode": {
    "name": "ipython",
    "version": 3
   },
   "file_extension": ".py",
   "mimetype": "text/x-python",
   "name": "python",
   "nbconvert_exporter": "python",
   "pygments_lexer": "ipython3",
   "version": "3.10.13"
  }
 },
 "nbformat": 4,
 "nbformat_minor": 5
}

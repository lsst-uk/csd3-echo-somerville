{
 "cells": [
  {
   "cell_type": "markdown",
   "id": "c7c0258a-de1b-4c1a-9c31-15f9123f723b",
   "metadata": {},
   "source": [
    "# Swift vs Boto3 for Parallelisation with Dask"
   ]
  },
  {
   "cell_type": "code",
   "execution_count": 2,
   "id": "eac71d33-fdfd-4fe5-84c5-34a12f5feafb",
   "metadata": {},
   "outputs": [],
   "source": [
    "import boto3\n",
    "import swiftclient\n",
    "import os"
   ]
  },
  {
   "cell_type": "code",
   "execution_count": 3,
   "id": "e623746e-50b3-4b31-899a-8f11ba1af717",
   "metadata": {},
   "outputs": [],
   "source": [
    "s3_keys_path = '~/.keys/lsst_keys.json'\n",
    "swift_keys_path = '~/.keys/lsst-swift-credentials.json'\n",
    "creds = {}\n",
    "\n",
    "#for boto3\n",
    "with open(os.path.expanduser(s3_keys_path), 'r') as s3keys:\n",
    "    for line in s3keys.readlines():\n",
    "        if 'access_key' in line:\n",
    "            creds['S3_ACCESS_KEY'] = line.split('\"')[3]\n",
    "        elif 'secret_key' in line:\n",
    "            creds['S3_SECRET_KEY'] = line.split('\"')[3]\n",
    "creds['S3_HOST_URL'] = 'https://echo.stfc.ac.uk'\n",
    "\n",
    "#for swift\n",
    "with open(os.path.expanduser(swift_keys_path), 'r') as swiftkeys:\n",
    "    for line in swiftkeys.readlines():\n",
    "        if 'user' in line:\n",
    "            creds['ST_USER'] = line.split('\"')[3]\n",
    "        elif 'secret_key' in line:\n",
    "            creds['ST_KEY'] = line.split('\"')[3]\n",
    "creds['ST_AUTH'] = 'https://s3.echo.stfc.ac.uk/auth/1.0'\n",
    "\n",
    "#Some Swift operations expect environment variables\n",
    "#Here we just mirror the creds dict to the os.environ dict\n",
    "for k, v in creds.items():\n",
    "    os.environ[k] = v"
   ]
  },
  {
   "cell_type": "markdown",
   "id": "ef7a3357-3daf-48e0-a6eb-c229329a2650",
   "metadata": {},
   "source": [
    "## boto3 resource"
   ]
  },
  {
   "cell_type": "code",
   "execution_count": 4,
   "id": "5dda49a7-e515-49c3-b92b-8733a44d5e70",
   "metadata": {},
   "outputs": [],
   "source": [
    "session = boto3.Session(\n",
    "    aws_access_key_id = creds['S3_ACCESS_KEY'],\n",
    "    aws_secret_access_key = creds['S3_SECRET_KEY']\n",
    ")"
   ]
  },
  {
   "cell_type": "code",
   "execution_count": 5,
   "id": "546163d0-7015-435e-84b2-c06ba2f78d41",
   "metadata": {},
   "outputs": [
    {
     "data": {
      "text/plain": [
       "s3.ServiceResource()"
      ]
     },
     "execution_count": 5,
     "metadata": {},
     "output_type": "execute_result"
    }
   ],
   "source": [
    "resource = session.resource(\n",
    "    service_name = 's3',\n",
    "    endpoint_url = creds['S3_HOST_URL']\n",
    ")\n",
    "resource"
   ]
  },
  {
   "cell_type": "code",
   "execution_count": 6,
   "id": "1f8bfd94-319f-4eaa-b24f-bef9131004c0",
   "metadata": {},
   "outputs": [],
   "source": [
    "# %%timeit\n",
    "boto3_bucket_list = [ b.name for b in resource.buckets.all() ]"
   ]
  },
  {
   "cell_type": "code",
   "execution_count": 7,
   "id": "30736dd0-bd02-4bdd-8cb6-c9311dfc64ba",
   "metadata": {},
   "outputs": [
    {
     "data": {
      "text/plain": [
       "['DRP',\n",
       " 'LSST-IR-FUSION',\n",
       " 'LSST-IR-FUSION-Butlers',\n",
       " 'LSST-IR-FUSION-TEST',\n",
       " 'LSST-IR-FUSION-rdsip005',\n",
       " 'LSST-IR-FUSION-testfromopenstack',\n",
       " 'LSST-IR-FUSION_gen3_conversion',\n",
       " 'dmu4',\n",
       " 'lsst-dac',\n",
       " 'lsst-drp-config',\n",
       " 'lsst-test']"
      ]
     },
     "execution_count": 7,
     "metadata": {},
     "output_type": "execute_result"
    }
   ],
   "source": [
    "boto3_bucket_list"
   ]
  },
  {
   "cell_type": "markdown",
   "id": "b57fec4a-27e7-44f8-8c09-97f155ffee63",
   "metadata": {},
   "source": [
    "## Swift Connection"
   ]
  },
  {
   "cell_type": "code",
   "execution_count": 8,
   "id": "e366f3f7-e34b-4d24-8413-63ba1b81af21",
   "metadata": {},
   "outputs": [],
   "source": [
    "connection = swiftclient.Connection(\n",
    "    user = creds['ST_USER'],\n",
    "    key = creds['ST_KEY'],\n",
    "    authurl = creds['ST_AUTH']\n",
    ")"
   ]
  },
  {
   "cell_type": "code",
   "execution_count": 9,
   "id": "8afad3d8-1341-4564-88d7-30621deeec9f",
   "metadata": {},
   "outputs": [],
   "source": [
    "# %%timeit\n",
    "containers = [ container['name'] for container in connection.get_account()[1] ]"
   ]
  },
  {
   "cell_type": "code",
   "execution_count": 10,
   "id": "b542ce1f-6b0b-4322-9799-d897a2b850b7",
   "metadata": {},
   "outputs": [
    {
     "data": {
      "text/plain": [
       "['DRP',\n",
       " 'LSST-IR-FUSION',\n",
       " 'LSST-IR-FUSION-Butlers',\n",
       " 'LSST-IR-FUSION-TEST',\n",
       " 'LSST-IR-FUSION-rdsip005',\n",
       " 'LSST-IR-FUSION-testfromopenstack',\n",
       " 'LSST-IR-FUSION_gen3_conversion',\n",
       " 'dmu4',\n",
       " 'lsst-dac',\n",
       " 'lsst-drp-config',\n",
       " 'lsst-test']"
      ]
     },
     "execution_count": 10,
     "metadata": {},
     "output_type": "execute_result"
    }
   ],
   "source": [
    "containers"
   ]
  },
  {
   "cell_type": "code",
   "execution_count": 11,
   "id": "6b1fe289-f087-47a8-875c-b7618bcf51ad",
   "metadata": {},
   "outputs": [],
   "source": [
    "bucket = resource.Bucket('LSST-IR-FUSION-testfromopenstack')"
   ]
  },
  {
   "cell_type": "code",
   "execution_count": 12,
   "id": "af89cfc0-325c-491d-95e7-4ddaff53d172",
   "metadata": {},
   "outputs": [],
   "source": [
    "# %%timeit\n",
    "boto3_objects = [ obj.key for obj in bucket.objects.all() ]"
   ]
  },
  {
   "cell_type": "code",
   "execution_count": 13,
   "id": "c3974ac2-a929-4b2f-ab42-9e5351fd23d6",
   "metadata": {},
   "outputs": [
    {
     "data": {
      "text/plain": [
       "['dummy-lsst-backup.csv',\n",
       " 'dummy/1/1_1.f',\n",
       " 'dummy/1/1_2.f',\n",
       " 'dummy/14/14_1.f',\n",
       " 'dummy/14/14_2.f',\n",
       " 'dummy/17/17_2.f',\n",
       " 'dummy/18/18_1.f',\n",
       " 'dummy/18/18_2.f',\n",
       " 'dummy/2/2_1.f',\n",
       " 'dummy/2/2_2.f',\n",
       " 'dummy/21/21_1.f',\n",
       " 'dummy/21/21_2.f',\n",
       " 'dummy/30/30_1.f',\n",
       " 'dummy/30/30_2.f',\n",
       " 'dummy/31/31_1.f',\n",
       " 'dummy/31/31_2.f',\n",
       " 'dummy/36/36_1.f',\n",
       " 'dummy/36/36_2.f',\n",
       " 'dummy/44/44_1.f',\n",
       " 'dummy/44/44_2.f',\n",
       " 'dummy/46/46_1.f',\n",
       " 'dummy/5/5_1.f',\n",
       " 'dummy/5/5_2.f',\n",
       " 'dummy/50/50_1.f',\n",
       " 'dummy/50/50_2.f',\n",
       " 'dummy/52/52_1.f',\n",
       " 'dummy/52/52_2.f',\n",
       " 'dummy/53/53_1.f',\n",
       " 'dummy/53/53_2.f',\n",
       " 'dummy/60/60_2.f',\n",
       " 'dummy/67/67_1.f',\n",
       " 'dummy/67/67_2.f',\n",
       " 'dummy/7/7_1.f',\n",
       " 'dummy/7/7_2.f',\n",
       " 'dummy/72/72_1.f',\n",
       " 'dummy/72/72_2.f',\n",
       " 'dummy/8/8_1.f',\n",
       " 'dummy/8/8_2.f',\n",
       " 'dummy/81/81_1.f',\n",
       " 'dummy/81/81_2.f',\n",
       " 'dummy/87/87_1.f',\n",
       " 'dummy/87/87_2.f',\n",
       " 'dummy/88/88_1.f',\n",
       " 'dummy/88/88_2.f',\n",
       " 'dummy/97/97_1.f',\n",
       " 'dummy/97/97_2.f',\n",
       " 'dummy/98/98_1.f',\n",
       " 'dummy/98/98_2.f',\n",
       " 'dummy/collated_0.zip',\n",
       " 'dummy/collated_0.zip.metadata',\n",
       " 'dummy/collated_1.zip',\n",
       " 'dummy/collated_1.zip.metadata',\n",
       " 'dummy/collated_2.zip',\n",
       " 'dummy/collated_2.zip.metadata',\n",
       " 'dummy/collated_3.zip',\n",
       " 'dummy/collated_3.zip.metadata',\n",
       " 'dummy/collated_4.zip',\n",
       " 'dummy/collated_4.zip.metadata',\n",
       " 'dummy/collated_5.zip',\n",
       " 'dummy/collated_5.zip.metadata',\n",
       " 'dummy/collated_55.zip',\n",
       " 'dummy/collated_55.zip.metadata',\n",
       " 'dummy/collated_59.zip',\n",
       " 'dummy/collated_59.zip.metadata',\n",
       " 'dummy/collated_6.zip',\n",
       " 'dummy/collated_6.zip.metadata',\n",
       " 'dummy/collated_61.zip',\n",
       " 'dummy/collated_61.zip.metadata',\n",
       " 'dummy/collated_62.zip',\n",
       " 'dummy/collated_62.zip.metadata',\n",
       " 'dummy/collated_63.zip',\n",
       " 'dummy/collated_63.zip.metadata',\n",
       " 'dummy/collated_64.zip',\n",
       " 'dummy/collated_64.zip.metadata',\n",
       " 'dummy/collated_65.zip',\n",
       " 'dummy/collated_65.zip.metadata',\n",
       " 'dummy/collated_66.zip',\n",
       " 'dummy/collated_66.zip.metadata',\n",
       " 'dummy/collated_7.zip',\n",
       " 'dummy/collated_7.zip.metadata']"
      ]
     },
     "execution_count": 13,
     "metadata": {},
     "output_type": "execute_result"
    }
   ],
   "source": [
    "boto3_objects"
   ]
  },
  {
   "cell_type": "code",
   "execution_count": 14,
   "id": "627f47d5-9b65-4339-a494-e900b139072e",
   "metadata": {},
   "outputs": [],
   "source": [
    "# %%timeit\n",
    "swift_objects = [ obj['name'] for obj in connection.get_container('LSST-IR-FUSION-testfromopenstack')[1] ]"
   ]
  },
  {
   "cell_type": "code",
   "execution_count": 15,
   "id": "c3be1934-996e-403b-b26b-8490a5fab543",
   "metadata": {},
   "outputs": [
    {
     "data": {
      "text/plain": [
       "['dummy-lsst-backup.csv',\n",
       " 'dummy/1/1_1.f',\n",
       " 'dummy/1/1_2.f',\n",
       " 'dummy/14/14_1.f',\n",
       " 'dummy/14/14_2.f',\n",
       " 'dummy/17/17_2.f',\n",
       " 'dummy/18/18_1.f',\n",
       " 'dummy/18/18_2.f',\n",
       " 'dummy/2/2_1.f',\n",
       " 'dummy/2/2_2.f',\n",
       " 'dummy/21/21_1.f',\n",
       " 'dummy/21/21_2.f',\n",
       " 'dummy/30/30_1.f',\n",
       " 'dummy/30/30_2.f',\n",
       " 'dummy/31/31_1.f',\n",
       " 'dummy/31/31_2.f',\n",
       " 'dummy/36/36_1.f',\n",
       " 'dummy/36/36_2.f',\n",
       " 'dummy/44/44_1.f',\n",
       " 'dummy/44/44_2.f',\n",
       " 'dummy/46/46_1.f',\n",
       " 'dummy/5/5_1.f',\n",
       " 'dummy/5/5_2.f',\n",
       " 'dummy/50/50_1.f',\n",
       " 'dummy/50/50_2.f',\n",
       " 'dummy/52/52_1.f',\n",
       " 'dummy/52/52_2.f',\n",
       " 'dummy/53/53_1.f',\n",
       " 'dummy/53/53_2.f',\n",
       " 'dummy/60/60_2.f',\n",
       " 'dummy/67/67_1.f',\n",
       " 'dummy/67/67_2.f',\n",
       " 'dummy/7/7_1.f',\n",
       " 'dummy/7/7_2.f',\n",
       " 'dummy/72/72_1.f',\n",
       " 'dummy/72/72_2.f',\n",
       " 'dummy/8/8_1.f',\n",
       " 'dummy/8/8_2.f',\n",
       " 'dummy/81/81_1.f',\n",
       " 'dummy/81/81_2.f',\n",
       " 'dummy/87/87_1.f',\n",
       " 'dummy/87/87_2.f',\n",
       " 'dummy/88/88_1.f',\n",
       " 'dummy/88/88_2.f',\n",
       " 'dummy/97/97_1.f',\n",
       " 'dummy/97/97_2.f',\n",
       " 'dummy/98/98_1.f',\n",
       " 'dummy/98/98_2.f',\n",
       " 'dummy/collated_0.zip',\n",
       " 'dummy/collated_0.zip.metadata',\n",
       " 'dummy/collated_1.zip',\n",
       " 'dummy/collated_1.zip.metadata',\n",
       " 'dummy/collated_2.zip',\n",
       " 'dummy/collated_2.zip.metadata',\n",
       " 'dummy/collated_3.zip',\n",
       " 'dummy/collated_3.zip.metadata',\n",
       " 'dummy/collated_4.zip',\n",
       " 'dummy/collated_4.zip.metadata',\n",
       " 'dummy/collated_5.zip',\n",
       " 'dummy/collated_5.zip.metadata',\n",
       " 'dummy/collated_55.zip',\n",
       " 'dummy/collated_55.zip.metadata',\n",
       " 'dummy/collated_59.zip',\n",
       " 'dummy/collated_59.zip.metadata',\n",
       " 'dummy/collated_6.zip',\n",
       " 'dummy/collated_6.zip.metadata',\n",
       " 'dummy/collated_61.zip',\n",
       " 'dummy/collated_61.zip.metadata',\n",
       " 'dummy/collated_62.zip',\n",
       " 'dummy/collated_62.zip.metadata',\n",
       " 'dummy/collated_63.zip',\n",
       " 'dummy/collated_63.zip.metadata',\n",
       " 'dummy/collated_64.zip',\n",
       " 'dummy/collated_64.zip.metadata',\n",
       " 'dummy/collated_65.zip',\n",
       " 'dummy/collated_65.zip.metadata',\n",
       " 'dummy/collated_66.zip',\n",
       " 'dummy/collated_66.zip.metadata',\n",
       " 'dummy/collated_7.zip',\n",
       " 'dummy/collated_7.zip.metadata']"
      ]
     },
     "execution_count": 15,
     "metadata": {},
     "output_type": "execute_result"
    }
   ],
   "source": [
    "swift_objects"
   ]
  },
  {
   "cell_type": "markdown",
   "id": "22984248-4bb2-47df-8220-b9f1650798a7",
   "metadata": {},
   "source": [
    "With a simple test of getting lists buckets and objects within a bucket, the boto3 API seems faster at this stage.\n",
    "\n",
    "Now we'll try something abit more in-depth."
   ]
  },
  {
   "cell_type": "code",
   "execution_count": 16,
   "id": "bb2554f9-b48d-449a-a27f-3bd6566ae39b",
   "metadata": {},
   "outputs": [],
   "source": [
    "def get_metadata_boto3(key, bucket):\n",
    "    if key.endswith('.zip'):\n",
    "        try:\n",
    "            metadata = str(bucket.Object(''.join([key,'.metadata'])).get()['Body'].read().decode('UTF-8'))\n",
    "        except:\n",
    "            return ''\n",
    "        return metadata\n",
    "    else:\n",
    "        return ''"
   ]
  },
  {
   "cell_type": "code",
   "execution_count": 17,
   "id": "e6f1d7c5-b203-43a9-81aa-3541852ad694",
   "metadata": {},
   "outputs": [],
   "source": [
    "def get_metadata_swift(key, connection, container_name):\n",
    "    metadata = None\n",
    "    if key.endswith('.zip'):\n",
    "        try:\n",
    "            metadata = str(connection.get_object(container_name,''.join([key,'.metadata']))[1].decode('UTF-8'))\n",
    "        except:\n",
    "            return ''\n",
    "        return metadata\n",
    "    else:\n",
    "        return ''"
   ]
  },
  {
   "cell_type": "code",
   "execution_count": 18,
   "id": "886f996b-4a5a-4e98-9570-448a77e9349a",
   "metadata": {},
   "outputs": [],
   "source": [
    "# %%timeit\n",
    "metadata_boto3 = get_metadata_boto3('dummy/collated_7.zip', bucket)"
   ]
  },
  {
   "cell_type": "code",
   "execution_count": 19,
   "id": "fe64a35b-80cb-4a91-b2fc-552f89e50abb",
   "metadata": {},
   "outputs": [
    {
     "data": {
      "text/plain": [
       "'18/18_1.f|44/44_1.f|44/44_2.f'"
      ]
     },
     "execution_count": 19,
     "metadata": {},
     "output_type": "execute_result"
    }
   ],
   "source": [
    "metadata_boto3"
   ]
  },
  {
   "cell_type": "code",
   "execution_count": 20,
   "id": "cb493856-e454-4afd-b8c6-76207966a05e",
   "metadata": {},
   "outputs": [],
   "source": [
    "# %%timeit\n",
    "metadata_swift = get_metadata_swift('dummy/collated_7.zip', connection, 'LSST-IR-FUSION-testfromopenstack')"
   ]
  },
  {
   "cell_type": "code",
   "execution_count": 21,
   "id": "4cd48cfb-a4a3-4f9f-851c-25ecb3efe64d",
   "metadata": {},
   "outputs": [
    {
     "data": {
      "text/plain": [
       "'18/18_1.f|44/44_1.f|44/44_2.f'"
      ]
     },
     "execution_count": 21,
     "metadata": {},
     "output_type": "execute_result"
    }
   ],
   "source": [
    "metadata_swift"
   ]
  },
  {
   "cell_type": "markdown",
   "id": "219992f6-67a1-4dea-895b-5e88654ed558",
   "metadata": {},
   "source": [
    "Now switch to Pandas, so we can use DataFrame.apply() to run these functions on every row of a DataFrame"
   ]
  },
  {
   "cell_type": "code",
   "execution_count": 22,
   "id": "143e414c-130d-4474-91fe-75b8baca7f53",
   "metadata": {},
   "outputs": [],
   "source": [
    "import pandas as pd"
   ]
  },
  {
   "cell_type": "code",
   "execution_count": 23,
   "id": "ef6e4732-9cfa-44d4-8d53-928257f65247",
   "metadata": {},
   "outputs": [],
   "source": [
    "expanded_objects = []\n",
    "for _ in range(10):\n",
    "    expanded_objects.extend(boto3_objects)"
   ]
  },
  {
   "cell_type": "code",
   "execution_count": 24,
   "id": "8cc5c771-a347-460b-9258-cb1b679aa321",
   "metadata": {},
   "outputs": [
    {
     "data": {
      "text/plain": [
       "800"
      ]
     },
     "execution_count": 24,
     "metadata": {},
     "output_type": "execute_result"
    }
   ],
   "source": [
    "len(expanded_objects)"
   ]
  },
  {
   "cell_type": "code",
   "execution_count": 25,
   "id": "6332be6e-9f82-43f4-a152-bf18cb722302",
   "metadata": {},
   "outputs": [],
   "source": [
    "objects_boto3 = pd.DataFrame.from_dict({'key':expanded_objects},dtype=str)"
   ]
  },
  {
   "cell_type": "code",
   "execution_count": 26,
   "id": "50f3238c-fe3d-4afa-9744-fbfc0a4044d9",
   "metadata": {},
   "outputs": [
    {
     "data": {
      "text/html": [
       "<div>\n",
       "<style scoped>\n",
       "    .dataframe tbody tr th:only-of-type {\n",
       "        vertical-align: middle;\n",
       "    }\n",
       "\n",
       "    .dataframe tbody tr th {\n",
       "        vertical-align: top;\n",
       "    }\n",
       "\n",
       "    .dataframe thead th {\n",
       "        text-align: right;\n",
       "    }\n",
       "</style>\n",
       "<table border=\"1\" class=\"dataframe\">\n",
       "  <thead>\n",
       "    <tr style=\"text-align: right;\">\n",
       "      <th></th>\n",
       "      <th>key</th>\n",
       "    </tr>\n",
       "  </thead>\n",
       "  <tbody>\n",
       "    <tr>\n",
       "      <th>0</th>\n",
       "      <td>dummy-lsst-backup.csv</td>\n",
       "    </tr>\n",
       "    <tr>\n",
       "      <th>1</th>\n",
       "      <td>dummy/1/1_1.f</td>\n",
       "    </tr>\n",
       "    <tr>\n",
       "      <th>2</th>\n",
       "      <td>dummy/1/1_2.f</td>\n",
       "    </tr>\n",
       "    <tr>\n",
       "      <th>3</th>\n",
       "      <td>dummy/14/14_1.f</td>\n",
       "    </tr>\n",
       "    <tr>\n",
       "      <th>4</th>\n",
       "      <td>dummy/14/14_2.f</td>\n",
       "    </tr>\n",
       "    <tr>\n",
       "      <th>...</th>\n",
       "      <td>...</td>\n",
       "    </tr>\n",
       "    <tr>\n",
       "      <th>795</th>\n",
       "      <td>dummy/collated_65.zip.metadata</td>\n",
       "    </tr>\n",
       "    <tr>\n",
       "      <th>796</th>\n",
       "      <td>dummy/collated_66.zip</td>\n",
       "    </tr>\n",
       "    <tr>\n",
       "      <th>797</th>\n",
       "      <td>dummy/collated_66.zip.metadata</td>\n",
       "    </tr>\n",
       "    <tr>\n",
       "      <th>798</th>\n",
       "      <td>dummy/collated_7.zip</td>\n",
       "    </tr>\n",
       "    <tr>\n",
       "      <th>799</th>\n",
       "      <td>dummy/collated_7.zip.metadata</td>\n",
       "    </tr>\n",
       "  </tbody>\n",
       "</table>\n",
       "<p>800 rows × 1 columns</p>\n",
       "</div>"
      ],
      "text/plain": [
       "                                key\n",
       "0             dummy-lsst-backup.csv\n",
       "1                     dummy/1/1_1.f\n",
       "2                     dummy/1/1_2.f\n",
       "3                   dummy/14/14_1.f\n",
       "4                   dummy/14/14_2.f\n",
       "..                              ...\n",
       "795  dummy/collated_65.zip.metadata\n",
       "796           dummy/collated_66.zip\n",
       "797  dummy/collated_66.zip.metadata\n",
       "798            dummy/collated_7.zip\n",
       "799   dummy/collated_7.zip.metadata\n",
       "\n",
       "[800 rows x 1 columns]"
      ]
     },
     "execution_count": 26,
     "metadata": {},
     "output_type": "execute_result"
    }
   ],
   "source": [
    "objects_boto3"
   ]
  },
  {
   "cell_type": "code",
   "execution_count": 28,
   "id": "af84f02d-735a-407b-bc84-f50ee3246122",
   "metadata": {},
   "outputs": [
    {
     "name": "stdout",
     "output_type": "stream",
     "text": [
      "19.6 s ± 716 ms per loop (mean ± std. dev. of 7 runs, 1 loop each)\n"
     ]
    }
   ],
   "source": [
    "%%timeit\n",
    "objects_boto3['metadata'] = objects_boto3['key'].apply(get_metadata_boto3, bucket=bucket)"
   ]
  },
  {
   "cell_type": "code",
   "execution_count": 29,
   "id": "bede23a9-32cb-4969-94b8-1dee5d05c4ff",
   "metadata": {},
   "outputs": [
    {
     "data": {
      "text/html": [
       "<div>\n",
       "<style scoped>\n",
       "    .dataframe tbody tr th:only-of-type {\n",
       "        vertical-align: middle;\n",
       "    }\n",
       "\n",
       "    .dataframe tbody tr th {\n",
       "        vertical-align: top;\n",
       "    }\n",
       "\n",
       "    .dataframe thead th {\n",
       "        text-align: right;\n",
       "    }\n",
       "</style>\n",
       "<table border=\"1\" class=\"dataframe\">\n",
       "  <thead>\n",
       "    <tr style=\"text-align: right;\">\n",
       "      <th></th>\n",
       "      <th>key</th>\n",
       "      <th>metadata</th>\n",
       "    </tr>\n",
       "  </thead>\n",
       "  <tbody>\n",
       "    <tr>\n",
       "      <th>48</th>\n",
       "      <td>dummy/collated_0.zip</td>\n",
       "      <td>7/7_1.f|7/7_2.f|98/98_2.f</td>\n",
       "    </tr>\n",
       "    <tr>\n",
       "      <th>50</th>\n",
       "      <td>dummy/collated_1.zip</td>\n",
       "      <td>98/98_1.f|53/53_2.f|53/53_1.f</td>\n",
       "    </tr>\n",
       "    <tr>\n",
       "      <th>52</th>\n",
       "      <td>dummy/collated_2.zip</td>\n",
       "      <td>50/50_2.f|50/50_1.f|67/67_2.f</td>\n",
       "    </tr>\n",
       "    <tr>\n",
       "      <th>54</th>\n",
       "      <td>dummy/collated_3.zip</td>\n",
       "      <td>67/67_1.f|2/2_2.f|2/2_1.f</td>\n",
       "    </tr>\n",
       "    <tr>\n",
       "      <th>56</th>\n",
       "      <td>dummy/collated_4.zip</td>\n",
       "      <td>8/8_1.f|8/8_2.f|87/87_2.f</td>\n",
       "    </tr>\n",
       "    <tr>\n",
       "      <th>...</th>\n",
       "      <td>...</td>\n",
       "      <td>...</td>\n",
       "    </tr>\n",
       "    <tr>\n",
       "      <th>790</th>\n",
       "      <td>dummy/collated_63.zip</td>\n",
       "      <td>81/81_2.f|52/52_1.f|52/52_2.f</td>\n",
       "    </tr>\n",
       "    <tr>\n",
       "      <th>792</th>\n",
       "      <td>dummy/collated_64.zip</td>\n",
       "      <td>31/31_1.f|31/31_2.f|30/30_2.f</td>\n",
       "    </tr>\n",
       "    <tr>\n",
       "      <th>794</th>\n",
       "      <td>dummy/collated_65.zip</td>\n",
       "      <td>30/30_1.f|36/36_2.f|36/36_1.f</td>\n",
       "    </tr>\n",
       "    <tr>\n",
       "      <th>796</th>\n",
       "      <td>dummy/collated_66.zip</td>\n",
       "      <td>14/14_2.f|14/14_1.f</td>\n",
       "    </tr>\n",
       "    <tr>\n",
       "      <th>798</th>\n",
       "      <td>dummy/collated_7.zip</td>\n",
       "      <td>18/18_1.f|44/44_1.f|44/44_2.f</td>\n",
       "    </tr>\n",
       "  </tbody>\n",
       "</table>\n",
       "<p>160 rows × 2 columns</p>\n",
       "</div>"
      ],
      "text/plain": [
       "                       key                       metadata\n",
       "48    dummy/collated_0.zip      7/7_1.f|7/7_2.f|98/98_2.f\n",
       "50    dummy/collated_1.zip  98/98_1.f|53/53_2.f|53/53_1.f\n",
       "52    dummy/collated_2.zip  50/50_2.f|50/50_1.f|67/67_2.f\n",
       "54    dummy/collated_3.zip      67/67_1.f|2/2_2.f|2/2_1.f\n",
       "56    dummy/collated_4.zip      8/8_1.f|8/8_2.f|87/87_2.f\n",
       "..                     ...                            ...\n",
       "790  dummy/collated_63.zip  81/81_2.f|52/52_1.f|52/52_2.f\n",
       "792  dummy/collated_64.zip  31/31_1.f|31/31_2.f|30/30_2.f\n",
       "794  dummy/collated_65.zip  30/30_1.f|36/36_2.f|36/36_1.f\n",
       "796  dummy/collated_66.zip            14/14_2.f|14/14_1.f\n",
       "798   dummy/collated_7.zip  18/18_1.f|44/44_1.f|44/44_2.f\n",
       "\n",
       "[160 rows x 2 columns]"
      ]
     },
     "execution_count": 29,
     "metadata": {},
     "output_type": "execute_result"
    }
   ],
   "source": [
    "objects_boto3[objects_boto3['key'].str.endswith('.zip')]"
   ]
  },
  {
   "cell_type": "code",
   "execution_count": 30,
   "id": "6ee27af1-eb73-4088-8e9c-60c621b34766",
   "metadata": {},
   "outputs": [],
   "source": [
    "objects_swift = pd.DataFrame.from_dict({'key':expanded_objects},dtype=str)"
   ]
  },
  {
   "cell_type": "code",
   "execution_count": 31,
   "id": "0baeae9a-65a5-47a7-8f2a-15c0968535b6",
   "metadata": {},
   "outputs": [
    {
     "data": {
      "text/html": [
       "<div>\n",
       "<style scoped>\n",
       "    .dataframe tbody tr th:only-of-type {\n",
       "        vertical-align: middle;\n",
       "    }\n",
       "\n",
       "    .dataframe tbody tr th {\n",
       "        vertical-align: top;\n",
       "    }\n",
       "\n",
       "    .dataframe thead th {\n",
       "        text-align: right;\n",
       "    }\n",
       "</style>\n",
       "<table border=\"1\" class=\"dataframe\">\n",
       "  <thead>\n",
       "    <tr style=\"text-align: right;\">\n",
       "      <th></th>\n",
       "      <th>key</th>\n",
       "    </tr>\n",
       "  </thead>\n",
       "  <tbody>\n",
       "    <tr>\n",
       "      <th>0</th>\n",
       "      <td>dummy-lsst-backup.csv</td>\n",
       "    </tr>\n",
       "    <tr>\n",
       "      <th>1</th>\n",
       "      <td>dummy/1/1_1.f</td>\n",
       "    </tr>\n",
       "    <tr>\n",
       "      <th>2</th>\n",
       "      <td>dummy/1/1_2.f</td>\n",
       "    </tr>\n",
       "    <tr>\n",
       "      <th>3</th>\n",
       "      <td>dummy/14/14_1.f</td>\n",
       "    </tr>\n",
       "    <tr>\n",
       "      <th>4</th>\n",
       "      <td>dummy/14/14_2.f</td>\n",
       "    </tr>\n",
       "    <tr>\n",
       "      <th>...</th>\n",
       "      <td>...</td>\n",
       "    </tr>\n",
       "    <tr>\n",
       "      <th>795</th>\n",
       "      <td>dummy/collated_65.zip.metadata</td>\n",
       "    </tr>\n",
       "    <tr>\n",
       "      <th>796</th>\n",
       "      <td>dummy/collated_66.zip</td>\n",
       "    </tr>\n",
       "    <tr>\n",
       "      <th>797</th>\n",
       "      <td>dummy/collated_66.zip.metadata</td>\n",
       "    </tr>\n",
       "    <tr>\n",
       "      <th>798</th>\n",
       "      <td>dummy/collated_7.zip</td>\n",
       "    </tr>\n",
       "    <tr>\n",
       "      <th>799</th>\n",
       "      <td>dummy/collated_7.zip.metadata</td>\n",
       "    </tr>\n",
       "  </tbody>\n",
       "</table>\n",
       "<p>800 rows × 1 columns</p>\n",
       "</div>"
      ],
      "text/plain": [
       "                                key\n",
       "0             dummy-lsst-backup.csv\n",
       "1                     dummy/1/1_1.f\n",
       "2                     dummy/1/1_2.f\n",
       "3                   dummy/14/14_1.f\n",
       "4                   dummy/14/14_2.f\n",
       "..                              ...\n",
       "795  dummy/collated_65.zip.metadata\n",
       "796           dummy/collated_66.zip\n",
       "797  dummy/collated_66.zip.metadata\n",
       "798            dummy/collated_7.zip\n",
       "799   dummy/collated_7.zip.metadata\n",
       "\n",
       "[800 rows x 1 columns]"
      ]
     },
     "execution_count": 31,
     "metadata": {},
     "output_type": "execute_result"
    }
   ],
   "source": [
    "objects_swift"
   ]
  },
  {
   "cell_type": "code",
   "execution_count": 32,
   "id": "9b9b39a5-904f-4105-92c9-827e0c37e2ee",
   "metadata": {},
   "outputs": [
    {
     "name": "stdout",
     "output_type": "stream",
     "text": [
      "18.8 s ± 740 ms per loop (mean ± std. dev. of 7 runs, 1 loop each)\n"
     ]
    }
   ],
   "source": [
    "%%timeit\n",
    "objects_swift['metadata'] = objects_swift['key'].apply(get_metadata_swift, connection=connection, container_name='LSST-IR-FUSION-testfromopenstack')"
   ]
  },
  {
   "cell_type": "code",
   "execution_count": 33,
   "id": "dbb56325-b4f9-4cf8-b697-7fd8b7d77a23",
   "metadata": {},
   "outputs": [
    {
     "data": {
      "text/html": [
       "<div>\n",
       "<style scoped>\n",
       "    .dataframe tbody tr th:only-of-type {\n",
       "        vertical-align: middle;\n",
       "    }\n",
       "\n",
       "    .dataframe tbody tr th {\n",
       "        vertical-align: top;\n",
       "    }\n",
       "\n",
       "    .dataframe thead th {\n",
       "        text-align: right;\n",
       "    }\n",
       "</style>\n",
       "<table border=\"1\" class=\"dataframe\">\n",
       "  <thead>\n",
       "    <tr style=\"text-align: right;\">\n",
       "      <th></th>\n",
       "      <th>key</th>\n",
       "      <th>metadata</th>\n",
       "    </tr>\n",
       "  </thead>\n",
       "  <tbody>\n",
       "    <tr>\n",
       "      <th>48</th>\n",
       "      <td>dummy/collated_0.zip</td>\n",
       "      <td>7/7_1.f|7/7_2.f|98/98_2.f</td>\n",
       "    </tr>\n",
       "    <tr>\n",
       "      <th>50</th>\n",
       "      <td>dummy/collated_1.zip</td>\n",
       "      <td>98/98_1.f|53/53_2.f|53/53_1.f</td>\n",
       "    </tr>\n",
       "    <tr>\n",
       "      <th>52</th>\n",
       "      <td>dummy/collated_2.zip</td>\n",
       "      <td>50/50_2.f|50/50_1.f|67/67_2.f</td>\n",
       "    </tr>\n",
       "    <tr>\n",
       "      <th>54</th>\n",
       "      <td>dummy/collated_3.zip</td>\n",
       "      <td>67/67_1.f|2/2_2.f|2/2_1.f</td>\n",
       "    </tr>\n",
       "    <tr>\n",
       "      <th>56</th>\n",
       "      <td>dummy/collated_4.zip</td>\n",
       "      <td>8/8_1.f|8/8_2.f|87/87_2.f</td>\n",
       "    </tr>\n",
       "    <tr>\n",
       "      <th>...</th>\n",
       "      <td>...</td>\n",
       "      <td>...</td>\n",
       "    </tr>\n",
       "    <tr>\n",
       "      <th>790</th>\n",
       "      <td>dummy/collated_63.zip</td>\n",
       "      <td>81/81_2.f|52/52_1.f|52/52_2.f</td>\n",
       "    </tr>\n",
       "    <tr>\n",
       "      <th>792</th>\n",
       "      <td>dummy/collated_64.zip</td>\n",
       "      <td>31/31_1.f|31/31_2.f|30/30_2.f</td>\n",
       "    </tr>\n",
       "    <tr>\n",
       "      <th>794</th>\n",
       "      <td>dummy/collated_65.zip</td>\n",
       "      <td>30/30_1.f|36/36_2.f|36/36_1.f</td>\n",
       "    </tr>\n",
       "    <tr>\n",
       "      <th>796</th>\n",
       "      <td>dummy/collated_66.zip</td>\n",
       "      <td>14/14_2.f|14/14_1.f</td>\n",
       "    </tr>\n",
       "    <tr>\n",
       "      <th>798</th>\n",
       "      <td>dummy/collated_7.zip</td>\n",
       "      <td>18/18_1.f|44/44_1.f|44/44_2.f</td>\n",
       "    </tr>\n",
       "  </tbody>\n",
       "</table>\n",
       "<p>160 rows × 2 columns</p>\n",
       "</div>"
      ],
      "text/plain": [
       "                       key                       metadata\n",
       "48    dummy/collated_0.zip      7/7_1.f|7/7_2.f|98/98_2.f\n",
       "50    dummy/collated_1.zip  98/98_1.f|53/53_2.f|53/53_1.f\n",
       "52    dummy/collated_2.zip  50/50_2.f|50/50_1.f|67/67_2.f\n",
       "54    dummy/collated_3.zip      67/67_1.f|2/2_2.f|2/2_1.f\n",
       "56    dummy/collated_4.zip      8/8_1.f|8/8_2.f|87/87_2.f\n",
       "..                     ...                            ...\n",
       "790  dummy/collated_63.zip  81/81_2.f|52/52_1.f|52/52_2.f\n",
       "792  dummy/collated_64.zip  31/31_1.f|31/31_2.f|30/30_2.f\n",
       "794  dummy/collated_65.zip  30/30_1.f|36/36_2.f|36/36_1.f\n",
       "796  dummy/collated_66.zip            14/14_2.f|14/14_1.f\n",
       "798   dummy/collated_7.zip  18/18_1.f|44/44_1.f|44/44_2.f\n",
       "\n",
       "[160 rows x 2 columns]"
      ]
     },
     "execution_count": 33,
     "metadata": {},
     "output_type": "execute_result"
    }
   ],
   "source": [
    "objects_swift[objects_swift['key'].str.endswith('.zip')]"
   ]
  },
  {
   "cell_type": "markdown",
   "id": "d8ffbc64-3283-4e8a-95f2-beafd426af9b",
   "metadata": {},
   "source": [
    "Swift and boto3 still take around the same amount of time to give us the metadata for all of the zip objects using Pandas and our metadata functions to fetch it.\n",
    "Both have established connection (or resource) objects that are already authenticated with the server.\n",
    "Both are bound by the internet connection speed.\n",
    "\n",
    "Let's try to parallelise them using Dask"
   ]
  },
  {
   "cell_type": "markdown",
   "id": "1a64ad29-d9f1-4a27-8d61-dd8722d5918a",
   "metadata": {},
   "source": [
    "## Dask parallelisation\n",
    "\n",
    "Note: this will use a parallel version of the pandas functionality, _not_ parallel versions of the boto3 or Swift functions."
   ]
  },
  {
   "cell_type": "code",
   "execution_count": 34,
   "id": "aced796b-c4f9-4660-b3c9-96e8062fd87c",
   "metadata": {},
   "outputs": [],
   "source": [
    "from dask import dataframe as ddf\n",
    "from distributed import Client"
   ]
  },
  {
   "cell_type": "code",
   "execution_count": 35,
   "id": "8d2aa53a-e2c8-4655-b0d5-2884a49c9ea8",
   "metadata": {},
   "outputs": [],
   "source": [
    "client = Client()"
   ]
  },
  {
   "cell_type": "code",
   "execution_count": 36,
   "id": "528e0bce-6d00-4fb0-b2cc-c45fc460ef31",
   "metadata": {},
   "outputs": [
    {
     "data": {
      "text/html": [
       "<div>\n",
       "    <div style=\"width: 24px; height: 24px; background-color: #e1e1e1; border: 3px solid #9D9D9D; border-radius: 5px; position: absolute;\"> </div>\n",
       "    <div style=\"margin-left: 48px;\">\n",
       "        <h3 style=\"margin-bottom: 0px;\">Client</h3>\n",
       "        <p style=\"color: #9D9D9D; margin-bottom: 0px;\">Client-ab4dfc3f-ee19-11ef-8489-00155dc634ac</p>\n",
       "        <table style=\"width: 100%; text-align: left;\">\n",
       "\n",
       "        <tr>\n",
       "        \n",
       "            <td style=\"text-align: left;\"><strong>Connection method:</strong> Cluster object</td>\n",
       "            <td style=\"text-align: left;\"><strong>Cluster type:</strong> distributed.LocalCluster</td>\n",
       "        \n",
       "        </tr>\n",
       "\n",
       "        \n",
       "            <tr>\n",
       "                <td style=\"text-align: left;\">\n",
       "                    <strong>Dashboard: </strong> <a href=\"http://127.0.0.1:8787/status\" target=\"_blank\">http://127.0.0.1:8787/status</a>\n",
       "                </td>\n",
       "                <td style=\"text-align: left;\"></td>\n",
       "            </tr>\n",
       "        \n",
       "\n",
       "        </table>\n",
       "\n",
       "        \n",
       "\n",
       "        \n",
       "            <details>\n",
       "            <summary style=\"margin-bottom: 20px;\"><h3 style=\"display: inline;\">Cluster Info</h3></summary>\n",
       "            <div class=\"jp-RenderedHTMLCommon jp-RenderedHTML jp-mod-trusted jp-OutputArea-output\">\n",
       "    <div style=\"width: 24px; height: 24px; background-color: #e1e1e1; border: 3px solid #9D9D9D; border-radius: 5px; position: absolute;\">\n",
       "    </div>\n",
       "    <div style=\"margin-left: 48px;\">\n",
       "        <h3 style=\"margin-bottom: 0px; margin-top: 0px;\">LocalCluster</h3>\n",
       "        <p style=\"color: #9D9D9D; margin-bottom: 0px;\">233ac257</p>\n",
       "        <table style=\"width: 100%; text-align: left;\">\n",
       "            <tr>\n",
       "                <td style=\"text-align: left;\">\n",
       "                    <strong>Dashboard:</strong> <a href=\"http://127.0.0.1:8787/status\" target=\"_blank\">http://127.0.0.1:8787/status</a>\n",
       "                </td>\n",
       "                <td style=\"text-align: left;\">\n",
       "                    <strong>Workers:</strong> 4\n",
       "                </td>\n",
       "            </tr>\n",
       "            <tr>\n",
       "                <td style=\"text-align: left;\">\n",
       "                    <strong>Total threads:</strong> 12\n",
       "                </td>\n",
       "                <td style=\"text-align: left;\">\n",
       "                    <strong>Total memory:</strong> 7.43 GiB\n",
       "                </td>\n",
       "            </tr>\n",
       "            \n",
       "            <tr>\n",
       "    <td style=\"text-align: left;\"><strong>Status:</strong> running</td>\n",
       "    <td style=\"text-align: left;\"><strong>Using processes:</strong> True</td>\n",
       "</tr>\n",
       "\n",
       "            \n",
       "        </table>\n",
       "\n",
       "        <details>\n",
       "            <summary style=\"margin-bottom: 20px;\">\n",
       "                <h3 style=\"display: inline;\">Scheduler Info</h3>\n",
       "            </summary>\n",
       "\n",
       "            <div style=\"\">\n",
       "    <div>\n",
       "        <div style=\"width: 24px; height: 24px; background-color: #FFF7E5; border: 3px solid #FF6132; border-radius: 5px; position: absolute;\"> </div>\n",
       "        <div style=\"margin-left: 48px;\">\n",
       "            <h3 style=\"margin-bottom: 0px;\">Scheduler</h3>\n",
       "            <p style=\"color: #9D9D9D; margin-bottom: 0px;\">Scheduler-98db4ca6-4de7-49a7-9a93-601d1ed80769</p>\n",
       "            <table style=\"width: 100%; text-align: left;\">\n",
       "                <tr>\n",
       "                    <td style=\"text-align: left;\">\n",
       "                        <strong>Comm:</strong> tcp://127.0.0.1:46787\n",
       "                    </td>\n",
       "                    <td style=\"text-align: left;\">\n",
       "                        <strong>Workers:</strong> 4\n",
       "                    </td>\n",
       "                </tr>\n",
       "                <tr>\n",
       "                    <td style=\"text-align: left;\">\n",
       "                        <strong>Dashboard:</strong> <a href=\"http://127.0.0.1:8787/status\" target=\"_blank\">http://127.0.0.1:8787/status</a>\n",
       "                    </td>\n",
       "                    <td style=\"text-align: left;\">\n",
       "                        <strong>Total threads:</strong> 12\n",
       "                    </td>\n",
       "                </tr>\n",
       "                <tr>\n",
       "                    <td style=\"text-align: left;\">\n",
       "                        <strong>Started:</strong> Just now\n",
       "                    </td>\n",
       "                    <td style=\"text-align: left;\">\n",
       "                        <strong>Total memory:</strong> 7.43 GiB\n",
       "                    </td>\n",
       "                </tr>\n",
       "            </table>\n",
       "        </div>\n",
       "    </div>\n",
       "\n",
       "    <details style=\"margin-left: 48px;\">\n",
       "        <summary style=\"margin-bottom: 20px;\">\n",
       "            <h3 style=\"display: inline;\">Workers</h3>\n",
       "        </summary>\n",
       "\n",
       "        \n",
       "        <div style=\"margin-bottom: 20px;\">\n",
       "            <div style=\"width: 24px; height: 24px; background-color: #DBF5FF; border: 3px solid #4CC9FF; border-radius: 5px; position: absolute;\"> </div>\n",
       "            <div style=\"margin-left: 48px;\">\n",
       "            <details>\n",
       "                <summary>\n",
       "                    <h4 style=\"margin-bottom: 0px; display: inline;\">Worker: 0</h4>\n",
       "                </summary>\n",
       "                <table style=\"width: 100%; text-align: left;\">\n",
       "                    <tr>\n",
       "                        <td style=\"text-align: left;\">\n",
       "                            <strong>Comm: </strong> tcp://127.0.0.1:33695\n",
       "                        </td>\n",
       "                        <td style=\"text-align: left;\">\n",
       "                            <strong>Total threads: </strong> 3\n",
       "                        </td>\n",
       "                    </tr>\n",
       "                    <tr>\n",
       "                        <td style=\"text-align: left;\">\n",
       "                            <strong>Dashboard: </strong> <a href=\"http://127.0.0.1:32937/status\" target=\"_blank\">http://127.0.0.1:32937/status</a>\n",
       "                        </td>\n",
       "                        <td style=\"text-align: left;\">\n",
       "                            <strong>Memory: </strong> 1.86 GiB\n",
       "                        </td>\n",
       "                    </tr>\n",
       "                    <tr>\n",
       "                        <td style=\"text-align: left;\">\n",
       "                            <strong>Nanny: </strong> tcp://127.0.0.1:43553\n",
       "                        </td>\n",
       "                        <td style=\"text-align: left;\"></td>\n",
       "                    </tr>\n",
       "                    <tr>\n",
       "                        <td colspan=\"2\" style=\"text-align: left;\">\n",
       "                            <strong>Local directory: </strong> /tmp/dask-scratch-space/worker-ei_tmq24\n",
       "                        </td>\n",
       "                    </tr>\n",
       "\n",
       "                    \n",
       "\n",
       "                    \n",
       "\n",
       "                </table>\n",
       "            </details>\n",
       "            </div>\n",
       "        </div>\n",
       "        \n",
       "        <div style=\"margin-bottom: 20px;\">\n",
       "            <div style=\"width: 24px; height: 24px; background-color: #DBF5FF; border: 3px solid #4CC9FF; border-radius: 5px; position: absolute;\"> </div>\n",
       "            <div style=\"margin-left: 48px;\">\n",
       "            <details>\n",
       "                <summary>\n",
       "                    <h4 style=\"margin-bottom: 0px; display: inline;\">Worker: 1</h4>\n",
       "                </summary>\n",
       "                <table style=\"width: 100%; text-align: left;\">\n",
       "                    <tr>\n",
       "                        <td style=\"text-align: left;\">\n",
       "                            <strong>Comm: </strong> tcp://127.0.0.1:35461\n",
       "                        </td>\n",
       "                        <td style=\"text-align: left;\">\n",
       "                            <strong>Total threads: </strong> 3\n",
       "                        </td>\n",
       "                    </tr>\n",
       "                    <tr>\n",
       "                        <td style=\"text-align: left;\">\n",
       "                            <strong>Dashboard: </strong> <a href=\"http://127.0.0.1:40249/status\" target=\"_blank\">http://127.0.0.1:40249/status</a>\n",
       "                        </td>\n",
       "                        <td style=\"text-align: left;\">\n",
       "                            <strong>Memory: </strong> 1.86 GiB\n",
       "                        </td>\n",
       "                    </tr>\n",
       "                    <tr>\n",
       "                        <td style=\"text-align: left;\">\n",
       "                            <strong>Nanny: </strong> tcp://127.0.0.1:44997\n",
       "                        </td>\n",
       "                        <td style=\"text-align: left;\"></td>\n",
       "                    </tr>\n",
       "                    <tr>\n",
       "                        <td colspan=\"2\" style=\"text-align: left;\">\n",
       "                            <strong>Local directory: </strong> /tmp/dask-scratch-space/worker-le9ulp3d\n",
       "                        </td>\n",
       "                    </tr>\n",
       "\n",
       "                    \n",
       "\n",
       "                    \n",
       "\n",
       "                </table>\n",
       "            </details>\n",
       "            </div>\n",
       "        </div>\n",
       "        \n",
       "        <div style=\"margin-bottom: 20px;\">\n",
       "            <div style=\"width: 24px; height: 24px; background-color: #DBF5FF; border: 3px solid #4CC9FF; border-radius: 5px; position: absolute;\"> </div>\n",
       "            <div style=\"margin-left: 48px;\">\n",
       "            <details>\n",
       "                <summary>\n",
       "                    <h4 style=\"margin-bottom: 0px; display: inline;\">Worker: 2</h4>\n",
       "                </summary>\n",
       "                <table style=\"width: 100%; text-align: left;\">\n",
       "                    <tr>\n",
       "                        <td style=\"text-align: left;\">\n",
       "                            <strong>Comm: </strong> tcp://127.0.0.1:46223\n",
       "                        </td>\n",
       "                        <td style=\"text-align: left;\">\n",
       "                            <strong>Total threads: </strong> 3\n",
       "                        </td>\n",
       "                    </tr>\n",
       "                    <tr>\n",
       "                        <td style=\"text-align: left;\">\n",
       "                            <strong>Dashboard: </strong> <a href=\"http://127.0.0.1:39599/status\" target=\"_blank\">http://127.0.0.1:39599/status</a>\n",
       "                        </td>\n",
       "                        <td style=\"text-align: left;\">\n",
       "                            <strong>Memory: </strong> 1.86 GiB\n",
       "                        </td>\n",
       "                    </tr>\n",
       "                    <tr>\n",
       "                        <td style=\"text-align: left;\">\n",
       "                            <strong>Nanny: </strong> tcp://127.0.0.1:39931\n",
       "                        </td>\n",
       "                        <td style=\"text-align: left;\"></td>\n",
       "                    </tr>\n",
       "                    <tr>\n",
       "                        <td colspan=\"2\" style=\"text-align: left;\">\n",
       "                            <strong>Local directory: </strong> /tmp/dask-scratch-space/worker-2cfeus67\n",
       "                        </td>\n",
       "                    </tr>\n",
       "\n",
       "                    \n",
       "\n",
       "                    \n",
       "\n",
       "                </table>\n",
       "            </details>\n",
       "            </div>\n",
       "        </div>\n",
       "        \n",
       "        <div style=\"margin-bottom: 20px;\">\n",
       "            <div style=\"width: 24px; height: 24px; background-color: #DBF5FF; border: 3px solid #4CC9FF; border-radius: 5px; position: absolute;\"> </div>\n",
       "            <div style=\"margin-left: 48px;\">\n",
       "            <details>\n",
       "                <summary>\n",
       "                    <h4 style=\"margin-bottom: 0px; display: inline;\">Worker: 3</h4>\n",
       "                </summary>\n",
       "                <table style=\"width: 100%; text-align: left;\">\n",
       "                    <tr>\n",
       "                        <td style=\"text-align: left;\">\n",
       "                            <strong>Comm: </strong> tcp://127.0.0.1:42045\n",
       "                        </td>\n",
       "                        <td style=\"text-align: left;\">\n",
       "                            <strong>Total threads: </strong> 3\n",
       "                        </td>\n",
       "                    </tr>\n",
       "                    <tr>\n",
       "                        <td style=\"text-align: left;\">\n",
       "                            <strong>Dashboard: </strong> <a href=\"http://127.0.0.1:41373/status\" target=\"_blank\">http://127.0.0.1:41373/status</a>\n",
       "                        </td>\n",
       "                        <td style=\"text-align: left;\">\n",
       "                            <strong>Memory: </strong> 1.86 GiB\n",
       "                        </td>\n",
       "                    </tr>\n",
       "                    <tr>\n",
       "                        <td style=\"text-align: left;\">\n",
       "                            <strong>Nanny: </strong> tcp://127.0.0.1:37837\n",
       "                        </td>\n",
       "                        <td style=\"text-align: left;\"></td>\n",
       "                    </tr>\n",
       "                    <tr>\n",
       "                        <td colspan=\"2\" style=\"text-align: left;\">\n",
       "                            <strong>Local directory: </strong> /tmp/dask-scratch-space/worker-pjbn8lf6\n",
       "                        </td>\n",
       "                    </tr>\n",
       "\n",
       "                    \n",
       "\n",
       "                    \n",
       "\n",
       "                </table>\n",
       "            </details>\n",
       "            </div>\n",
       "        </div>\n",
       "        \n",
       "\n",
       "    </details>\n",
       "</div>\n",
       "\n",
       "        </details>\n",
       "    </div>\n",
       "</div>\n",
       "            </details>\n",
       "        \n",
       "\n",
       "    </div>\n",
       "</div>"
      ],
      "text/plain": [
       "<Client: 'tcp://127.0.0.1:46787' processes=4 threads=12, memory=7.43 GiB>"
      ]
     },
     "execution_count": 36,
     "metadata": {},
     "output_type": "execute_result"
    }
   ],
   "source": [
    "client"
   ]
  },
  {
   "cell_type": "code",
   "execution_count": 37,
   "id": "cd7f738b-1ee6-4bc5-9f2e-fda98b5febea",
   "metadata": {},
   "outputs": [],
   "source": [
    "objects_swift = pd.DataFrame.from_dict({'key':expanded_objects},dtype=str)"
   ]
  },
  {
   "cell_type": "code",
   "execution_count": 38,
   "id": "fc22c3f7-f5ac-41dd-8295-b2c3c496635f",
   "metadata": {},
   "outputs": [],
   "source": [
    "objects_swift_dask = ddf.from_pandas(objects_swift, npartitions=len(expanded_objects)//12)"
   ]
  },
  {
   "cell_type": "code",
   "execution_count": 39,
   "id": "83b72e0d-cedd-448b-a93d-89b81a26db41",
   "metadata": {},
   "outputs": [
    {
     "data": {
      "text/html": [
       "<div><strong>Dask DataFrame Structure:</strong></div>\n",
       "<table border=\"1\" class=\"dataframe\">\n",
       "  <thead>\n",
       "    <tr style=\"text-align: right;\">\n",
       "      <th></th>\n",
       "      <th>key</th>\n",
       "    </tr>\n",
       "    <tr>\n",
       "      <th>npartitions=66</th>\n",
       "      <th></th>\n",
       "    </tr>\n",
       "  </thead>\n",
       "  <tbody>\n",
       "    <tr>\n",
       "      <th>0</th>\n",
       "      <td>string</td>\n",
       "    </tr>\n",
       "    <tr>\n",
       "      <th>13</th>\n",
       "      <td>...</td>\n",
       "    </tr>\n",
       "    <tr>\n",
       "      <th>...</th>\n",
       "      <td>...</td>\n",
       "    </tr>\n",
       "    <tr>\n",
       "      <th>788</th>\n",
       "      <td>...</td>\n",
       "    </tr>\n",
       "    <tr>\n",
       "      <th>799</th>\n",
       "      <td>...</td>\n",
       "    </tr>\n",
       "  </tbody>\n",
       "</table>\n",
       "<div>Dask Name: frompandas, 1 expression</div>"
      ],
      "text/plain": [
       "Dask DataFrame Structure:\n",
       "                   key\n",
       "npartitions=66        \n",
       "0               string\n",
       "13                 ...\n",
       "...                ...\n",
       "788                ...\n",
       "799                ...\n",
       "Dask Name: frompandas, 1 expression\n",
       "Expr=df"
      ]
     },
     "execution_count": 39,
     "metadata": {},
     "output_type": "execute_result"
    }
   ],
   "source": [
    "objects_swift_dask"
   ]
  },
  {
   "cell_type": "code",
   "execution_count": 40,
   "id": "6b7c26af-9eab-4f40-88c6-c529a03b3821",
   "metadata": {},
   "outputs": [],
   "source": [
    "objects_swift_dask['metadata'] = objects_swift_dask['key'].apply(get_metadata_swift, connection=connection, container_name='LSST-IR-FUSION-testfromopenstack', meta=pd.Series(dtype=str))"
   ]
  },
  {
   "cell_type": "code",
   "execution_count": 41,
   "id": "d254a2a5-7e78-4635-8585-1e4f6b69e8b0",
   "metadata": {},
   "outputs": [
    {
     "data": {
      "text/html": [
       "<div><strong>Dask DataFrame Structure:</strong></div>\n",
       "<table border=\"1\" class=\"dataframe\">\n",
       "  <thead>\n",
       "    <tr style=\"text-align: right;\">\n",
       "      <th></th>\n",
       "      <th>key</th>\n",
       "      <th>metadata</th>\n",
       "    </tr>\n",
       "    <tr>\n",
       "      <th>npartitions=66</th>\n",
       "      <th></th>\n",
       "      <th></th>\n",
       "    </tr>\n",
       "  </thead>\n",
       "  <tbody>\n",
       "    <tr>\n",
       "      <th>0</th>\n",
       "      <td>string</td>\n",
       "      <td>object</td>\n",
       "    </tr>\n",
       "    <tr>\n",
       "      <th>13</th>\n",
       "      <td>...</td>\n",
       "      <td>...</td>\n",
       "    </tr>\n",
       "    <tr>\n",
       "      <th>...</th>\n",
       "      <td>...</td>\n",
       "      <td>...</td>\n",
       "    </tr>\n",
       "    <tr>\n",
       "      <th>788</th>\n",
       "      <td>...</td>\n",
       "      <td>...</td>\n",
       "    </tr>\n",
       "    <tr>\n",
       "      <th>799</th>\n",
       "      <td>...</td>\n",
       "      <td>...</td>\n",
       "    </tr>\n",
       "  </tbody>\n",
       "</table>\n",
       "<div>Dask Name: assign, 4 expressions</div>"
      ],
      "text/plain": [
       "Dask DataFrame Structure:\n",
       "                   key metadata\n",
       "npartitions=66                 \n",
       "0               string   object\n",
       "13                 ...      ...\n",
       "...                ...      ...\n",
       "788                ...      ...\n",
       "799                ...      ...\n",
       "Dask Name: assign, 4 expressions\n",
       "Expr=Assign(frame=df)"
      ]
     },
     "execution_count": 41,
     "metadata": {},
     "output_type": "execute_result"
    }
   ],
   "source": [
    "objects_swift_dask"
   ]
  },
  {
   "cell_type": "code",
   "execution_count": 42,
   "id": "a9182f3c-b3e1-4561-88d7-a609cf4027a5",
   "metadata": {},
   "outputs": [
    {
     "name": "stdout",
     "output_type": "stream",
     "text": [
      "2.43 s ± 297 ms per loop (mean ± std. dev. of 7 runs, 1 loop each)\n"
     ]
    }
   ],
   "source": [
    "%%timeit\n",
    "objects_swift = objects_swift_dask.compute()"
   ]
  },
  {
   "cell_type": "code",
   "execution_count": 43,
   "id": "542bc0f8-6547-4d8b-bf7a-ee4cfc29b4b6",
   "metadata": {},
   "outputs": [
    {
     "data": {
      "text/html": [
       "<div>\n",
       "<style scoped>\n",
       "    .dataframe tbody tr th:only-of-type {\n",
       "        vertical-align: middle;\n",
       "    }\n",
       "\n",
       "    .dataframe tbody tr th {\n",
       "        vertical-align: top;\n",
       "    }\n",
       "\n",
       "    .dataframe thead th {\n",
       "        text-align: right;\n",
       "    }\n",
       "</style>\n",
       "<table border=\"1\" class=\"dataframe\">\n",
       "  <thead>\n",
       "    <tr style=\"text-align: right;\">\n",
       "      <th></th>\n",
       "      <th>key</th>\n",
       "    </tr>\n",
       "  </thead>\n",
       "  <tbody>\n",
       "    <tr>\n",
       "      <th>0</th>\n",
       "      <td>dummy-lsst-backup.csv</td>\n",
       "    </tr>\n",
       "    <tr>\n",
       "      <th>1</th>\n",
       "      <td>dummy/1/1_1.f</td>\n",
       "    </tr>\n",
       "    <tr>\n",
       "      <th>2</th>\n",
       "      <td>dummy/1/1_2.f</td>\n",
       "    </tr>\n",
       "    <tr>\n",
       "      <th>3</th>\n",
       "      <td>dummy/14/14_1.f</td>\n",
       "    </tr>\n",
       "    <tr>\n",
       "      <th>4</th>\n",
       "      <td>dummy/14/14_2.f</td>\n",
       "    </tr>\n",
       "    <tr>\n",
       "      <th>...</th>\n",
       "      <td>...</td>\n",
       "    </tr>\n",
       "    <tr>\n",
       "      <th>795</th>\n",
       "      <td>dummy/collated_65.zip.metadata</td>\n",
       "    </tr>\n",
       "    <tr>\n",
       "      <th>796</th>\n",
       "      <td>dummy/collated_66.zip</td>\n",
       "    </tr>\n",
       "    <tr>\n",
       "      <th>797</th>\n",
       "      <td>dummy/collated_66.zip.metadata</td>\n",
       "    </tr>\n",
       "    <tr>\n",
       "      <th>798</th>\n",
       "      <td>dummy/collated_7.zip</td>\n",
       "    </tr>\n",
       "    <tr>\n",
       "      <th>799</th>\n",
       "      <td>dummy/collated_7.zip.metadata</td>\n",
       "    </tr>\n",
       "  </tbody>\n",
       "</table>\n",
       "<p>800 rows × 1 columns</p>\n",
       "</div>"
      ],
      "text/plain": [
       "                                key\n",
       "0             dummy-lsst-backup.csv\n",
       "1                     dummy/1/1_1.f\n",
       "2                     dummy/1/1_2.f\n",
       "3                   dummy/14/14_1.f\n",
       "4                   dummy/14/14_2.f\n",
       "..                              ...\n",
       "795  dummy/collated_65.zip.metadata\n",
       "796           dummy/collated_66.zip\n",
       "797  dummy/collated_66.zip.metadata\n",
       "798            dummy/collated_7.zip\n",
       "799   dummy/collated_7.zip.metadata\n",
       "\n",
       "[800 rows x 1 columns]"
      ]
     },
     "execution_count": 43,
     "metadata": {},
     "output_type": "execute_result"
    }
   ],
   "source": [
    "objects_swift"
   ]
  },
  {
   "cell_type": "code",
   "execution_count": null,
   "id": "8f4dbd8f-b063-4a9f-9e45-d3c934bdaac4",
   "metadata": {},
   "outputs": [],
   "source": []
  },
  {
   "cell_type": "code",
   "execution_count": 44,
   "id": "8bdf3779-373a-4637-877e-a19b52154533",
   "metadata": {},
   "outputs": [],
   "source": [
    "objects_boto3 = pd.DataFrame.from_dict({'key':expanded_objects},dtype=str)"
   ]
  },
  {
   "cell_type": "code",
   "execution_count": 45,
   "id": "fe94f910-128b-426a-8702-21c11d9cdc6c",
   "metadata": {},
   "outputs": [],
   "source": [
    "objects_boto3_dask = ddf.from_pandas(objects_boto3, npartitions=len(expanded_objects)//12)"
   ]
  },
  {
   "cell_type": "code",
   "execution_count": 46,
   "id": "e57dfa23-a1f7-4790-aeb1-a050f1ef4c6b",
   "metadata": {},
   "outputs": [
    {
     "data": {
      "text/html": [
       "<div><strong>Dask DataFrame Structure:</strong></div>\n",
       "<table border=\"1\" class=\"dataframe\">\n",
       "  <thead>\n",
       "    <tr style=\"text-align: right;\">\n",
       "      <th></th>\n",
       "      <th>key</th>\n",
       "    </tr>\n",
       "    <tr>\n",
       "      <th>npartitions=66</th>\n",
       "      <th></th>\n",
       "    </tr>\n",
       "  </thead>\n",
       "  <tbody>\n",
       "    <tr>\n",
       "      <th>0</th>\n",
       "      <td>string</td>\n",
       "    </tr>\n",
       "    <tr>\n",
       "      <th>13</th>\n",
       "      <td>...</td>\n",
       "    </tr>\n",
       "    <tr>\n",
       "      <th>...</th>\n",
       "      <td>...</td>\n",
       "    </tr>\n",
       "    <tr>\n",
       "      <th>788</th>\n",
       "      <td>...</td>\n",
       "    </tr>\n",
       "    <tr>\n",
       "      <th>799</th>\n",
       "      <td>...</td>\n",
       "    </tr>\n",
       "  </tbody>\n",
       "</table>\n",
       "<div>Dask Name: frompandas, 1 expression</div>"
      ],
      "text/plain": [
       "Dask DataFrame Structure:\n",
       "                   key\n",
       "npartitions=66        \n",
       "0               string\n",
       "13                 ...\n",
       "...                ...\n",
       "788                ...\n",
       "799                ...\n",
       "Dask Name: frompandas, 1 expression\n",
       "Expr=df"
      ]
     },
     "execution_count": 46,
     "metadata": {},
     "output_type": "execute_result"
    }
   ],
   "source": [
    "objects_boto3_dask"
   ]
  },
  {
   "cell_type": "code",
   "execution_count": 47,
   "id": "95376e06-8cce-4a65-a6ae-e65c531c7cc2",
   "metadata": {
    "scrolled": true
   },
   "outputs": [
    {
     "ename": "TokenizationError",
     "evalue": "Object s3.Bucket(name='LSST-IR-FUSION-testfromopenstack') cannot be deterministically hashed. See https://docs.dask.org/en/latest/custom-collections.html#implementing-deterministic-hashing for more information.",
     "output_type": "error",
     "traceback": [
      "\u001b[0;31m---------------------------------------------------------------------------\u001b[0m",
      "\u001b[0;31mTypeError\u001b[0m                                 Traceback (most recent call last)",
      "File \u001b[0;32m~/miniconda3/envs/lsst-uk/lib/python3.10/site-packages/dask/base.py:1212\u001b[0m, in \u001b[0;36mnormalize_object\u001b[0;34m(o)\u001b[0m\n\u001b[1;32m   1211\u001b[0m \u001b[38;5;28;01mtry\u001b[39;00m:\n\u001b[0;32m-> 1212\u001b[0m     \u001b[38;5;28;01mreturn\u001b[39;00m \u001b[43m_normalize_pickle\u001b[49m\u001b[43m(\u001b[49m\u001b[43mo\u001b[49m\u001b[43m)\u001b[49m\n\u001b[1;32m   1213\u001b[0m \u001b[38;5;28;01mexcept\u001b[39;00m \u001b[38;5;167;01mException\u001b[39;00m:\n",
      "File \u001b[0;32m~/miniconda3/envs/lsst-uk/lib/python3.10/site-packages/dask/base.py:1248\u001b[0m, in \u001b[0;36m_normalize_pickle\u001b[0;34m(o)\u001b[0m\n\u001b[1;32m   1247\u001b[0m     buffers\u001b[38;5;241m.\u001b[39mclear()\n\u001b[0;32m-> 1248\u001b[0m     pik \u001b[38;5;241m=\u001b[39m \u001b[43mcloudpickle\u001b[49m\u001b[38;5;241;43m.\u001b[39;49m\u001b[43mdumps\u001b[49m\u001b[43m(\u001b[49m\u001b[43mo\u001b[49m\u001b[43m,\u001b[49m\u001b[43m \u001b[49m\u001b[43mprotocol\u001b[49m\u001b[38;5;241;43m=\u001b[39;49m\u001b[38;5;241;43m5\u001b[39;49m\u001b[43m,\u001b[49m\u001b[43m \u001b[49m\u001b[43mbuffer_callback\u001b[49m\u001b[38;5;241;43m=\u001b[39;49m\u001b[43mbuffers\u001b[49m\u001b[38;5;241;43m.\u001b[39;49m\u001b[43mappend\u001b[49m\u001b[43m)\u001b[49m\n\u001b[1;32m   1250\u001b[0m \u001b[38;5;28;01mreturn\u001b[39;00m hash_buffer_hex(pik), [hash_buffer_hex(buf) \u001b[38;5;28;01mfor\u001b[39;00m buf \u001b[38;5;129;01min\u001b[39;00m buffers]\n",
      "File \u001b[0;32m~/miniconda3/envs/lsst-uk/lib/python3.10/site-packages/cloudpickle/cloudpickle.py:1479\u001b[0m, in \u001b[0;36mdumps\u001b[0;34m(obj, protocol, buffer_callback)\u001b[0m\n\u001b[1;32m   1478\u001b[0m cp \u001b[38;5;241m=\u001b[39m Pickler(file, protocol\u001b[38;5;241m=\u001b[39mprotocol, buffer_callback\u001b[38;5;241m=\u001b[39mbuffer_callback)\n\u001b[0;32m-> 1479\u001b[0m \u001b[43mcp\u001b[49m\u001b[38;5;241;43m.\u001b[39;49m\u001b[43mdump\u001b[49m\u001b[43m(\u001b[49m\u001b[43mobj\u001b[49m\u001b[43m)\u001b[49m\n\u001b[1;32m   1480\u001b[0m \u001b[38;5;28;01mreturn\u001b[39;00m file\u001b[38;5;241m.\u001b[39mgetvalue()\n",
      "File \u001b[0;32m~/miniconda3/envs/lsst-uk/lib/python3.10/site-packages/cloudpickle/cloudpickle.py:1245\u001b[0m, in \u001b[0;36mPickler.dump\u001b[0;34m(self, obj)\u001b[0m\n\u001b[1;32m   1244\u001b[0m \u001b[38;5;28;01mtry\u001b[39;00m:\n\u001b[0;32m-> 1245\u001b[0m     \u001b[38;5;28;01mreturn\u001b[39;00m \u001b[38;5;28;43msuper\u001b[39;49m\u001b[43m(\u001b[49m\u001b[43m)\u001b[49m\u001b[38;5;241;43m.\u001b[39;49m\u001b[43mdump\u001b[49m\u001b[43m(\u001b[49m\u001b[43mobj\u001b[49m\u001b[43m)\u001b[49m\n\u001b[1;32m   1246\u001b[0m \u001b[38;5;28;01mexcept\u001b[39;00m \u001b[38;5;167;01mRuntimeError\u001b[39;00m \u001b[38;5;28;01mas\u001b[39;00m e:\n",
      "\u001b[0;31mTypeError\u001b[0m: cannot pickle '_thread.lock' object",
      "\nDuring handling of the above exception, another exception occurred:\n",
      "\u001b[0;31mTokenizationError\u001b[0m                         Traceback (most recent call last)",
      "Cell \u001b[0;32mIn[47], line 1\u001b[0m\n\u001b[0;32m----> 1\u001b[0m objects_boto3_dask[\u001b[38;5;124m'\u001b[39m\u001b[38;5;124mmetadata\u001b[39m\u001b[38;5;124m'\u001b[39m] \u001b[38;5;241m=\u001b[39m \u001b[43mobjects_boto3_dask\u001b[49m\u001b[43m[\u001b[49m\u001b[38;5;124;43m'\u001b[39;49m\u001b[38;5;124;43mkey\u001b[39;49m\u001b[38;5;124;43m'\u001b[39;49m\u001b[43m]\u001b[49m\u001b[38;5;241;43m.\u001b[39;49m\u001b[43mapply\u001b[49m\u001b[43m(\u001b[49m\u001b[43mget_metadata_boto3\u001b[49m\u001b[43m,\u001b[49m\u001b[43m \u001b[49m\u001b[43mbucket\u001b[49m\u001b[38;5;241;43m=\u001b[39;49m\u001b[43mbucket\u001b[49m\u001b[43m,\u001b[49m\u001b[43m \u001b[49m\u001b[43mmeta\u001b[49m\u001b[38;5;241;43m=\u001b[39;49m\u001b[43mpd\u001b[49m\u001b[38;5;241;43m.\u001b[39;49m\u001b[43mSeries\u001b[49m\u001b[43m(\u001b[49m\u001b[43mdtype\u001b[49m\u001b[38;5;241;43m=\u001b[39;49m\u001b[38;5;28;43mstr\u001b[39;49m\u001b[43m)\u001b[49m\u001b[43m)\u001b[49m\n",
      "File \u001b[0;32m~/miniconda3/envs/lsst-uk/lib/python3.10/site-packages/dask_expr/_collection.py:4023\u001b[0m, in \u001b[0;36mSeries.apply\u001b[0;34m(self, function, meta, axis, *args, **kwargs)\u001b[0m\n\u001b[1;32m   4021\u001b[0m     meta \u001b[38;5;241m=\u001b[39m expr\u001b[38;5;241m.\u001b[39m_emulate(M\u001b[38;5;241m.\u001b[39mapply, \u001b[38;5;28mself\u001b[39m, function, args\u001b[38;5;241m=\u001b[39margs, udf\u001b[38;5;241m=\u001b[39m\u001b[38;5;28;01mTrue\u001b[39;00m, \u001b[38;5;241m*\u001b[39m\u001b[38;5;241m*\u001b[39mkwargs)\n\u001b[1;32m   4022\u001b[0m     warnings\u001b[38;5;241m.\u001b[39mwarn(meta_warning(meta))\n\u001b[0;32m-> 4023\u001b[0m \u001b[38;5;28;01mreturn\u001b[39;00m new_collection(\u001b[38;5;28;43mself\u001b[39;49m\u001b[38;5;241;43m.\u001b[39;49m\u001b[43mexpr\u001b[49m\u001b[38;5;241;43m.\u001b[39;49m\u001b[43mapply\u001b[49m\u001b[43m(\u001b[49m\u001b[43mfunction\u001b[49m\u001b[43m,\u001b[49m\u001b[43m \u001b[49m\u001b[38;5;241;43m*\u001b[39;49m\u001b[43margs\u001b[49m\u001b[43m,\u001b[49m\u001b[43m \u001b[49m\u001b[43mmeta\u001b[49m\u001b[38;5;241;43m=\u001b[39;49m\u001b[43mmeta\u001b[49m\u001b[43m,\u001b[49m\u001b[43m \u001b[49m\u001b[38;5;241;43m*\u001b[39;49m\u001b[38;5;241;43m*\u001b[39;49m\u001b[43mkwargs\u001b[49m\u001b[43m)\u001b[49m)\n",
      "File \u001b[0;32m~/miniconda3/envs/lsst-uk/lib/python3.10/site-packages/dask_expr/_expr.py:346\u001b[0m, in \u001b[0;36mExpr.apply\u001b[0;34m(self, function, meta, *args, **kwargs)\u001b[0m\n\u001b[1;32m    345\u001b[0m \u001b[38;5;28;01mdef\u001b[39;00m \u001b[38;5;21mapply\u001b[39m(\u001b[38;5;28mself\u001b[39m, function, \u001b[38;5;241m*\u001b[39margs, meta\u001b[38;5;241m=\u001b[39m\u001b[38;5;28;01mNone\u001b[39;00m, \u001b[38;5;241m*\u001b[39m\u001b[38;5;241m*\u001b[39mkwargs):\n\u001b[0;32m--> 346\u001b[0m     \u001b[38;5;28;01mreturn\u001b[39;00m \u001b[43mApply\u001b[49m\u001b[43m(\u001b[49m\u001b[38;5;28;43mself\u001b[39;49m\u001b[43m,\u001b[49m\u001b[43m \u001b[49m\u001b[43mfunction\u001b[49m\u001b[43m,\u001b[49m\u001b[43m \u001b[49m\u001b[43margs\u001b[49m\u001b[43m,\u001b[49m\u001b[43m \u001b[49m\u001b[43mmeta\u001b[49m\u001b[43m,\u001b[49m\u001b[43m \u001b[49m\u001b[43mkwargs\u001b[49m\u001b[43m)\u001b[49m\n",
      "File \u001b[0;32m~/miniconda3/envs/lsst-uk/lib/python3.10/site-packages/dask_expr/_core.py:57\u001b[0m, in \u001b[0;36mExpr.__new__\u001b[0;34m(cls, *args, **kwargs)\u001b[0m\n\u001b[1;32m     55\u001b[0m inst \u001b[38;5;241m=\u001b[39m \u001b[38;5;28mobject\u001b[39m\u001b[38;5;241m.\u001b[39m\u001b[38;5;21m__new__\u001b[39m(\u001b[38;5;28mcls\u001b[39m)\n\u001b[1;32m     56\u001b[0m inst\u001b[38;5;241m.\u001b[39moperands \u001b[38;5;241m=\u001b[39m [_unpack_collections(o) \u001b[38;5;28;01mfor\u001b[39;00m o \u001b[38;5;129;01min\u001b[39;00m operands]\n\u001b[0;32m---> 57\u001b[0m _name \u001b[38;5;241m=\u001b[39m \u001b[43minst\u001b[49m\u001b[38;5;241;43m.\u001b[39;49m\u001b[43m_name\u001b[49m\n\u001b[1;32m     58\u001b[0m \u001b[38;5;28;01mif\u001b[39;00m _name \u001b[38;5;129;01min\u001b[39;00m Expr\u001b[38;5;241m.\u001b[39m_instances:\n\u001b[1;32m     59\u001b[0m     \u001b[38;5;28;01mreturn\u001b[39;00m Expr\u001b[38;5;241m.\u001b[39m_instances[_name]\n",
      "File \u001b[0;32m~/miniconda3/envs/lsst-uk/lib/python3.10/functools.py:981\u001b[0m, in \u001b[0;36mcached_property.__get__\u001b[0;34m(self, instance, owner)\u001b[0m\n\u001b[1;32m    979\u001b[0m val \u001b[38;5;241m=\u001b[39m cache\u001b[38;5;241m.\u001b[39mget(\u001b[38;5;28mself\u001b[39m\u001b[38;5;241m.\u001b[39mattrname, _NOT_FOUND)\n\u001b[1;32m    980\u001b[0m \u001b[38;5;28;01mif\u001b[39;00m val \u001b[38;5;129;01mis\u001b[39;00m _NOT_FOUND:\n\u001b[0;32m--> 981\u001b[0m     val \u001b[38;5;241m=\u001b[39m \u001b[38;5;28;43mself\u001b[39;49m\u001b[38;5;241;43m.\u001b[39;49m\u001b[43mfunc\u001b[49m\u001b[43m(\u001b[49m\u001b[43minstance\u001b[49m\u001b[43m)\u001b[49m\n\u001b[1;32m    982\u001b[0m     \u001b[38;5;28;01mtry\u001b[39;00m:\n\u001b[1;32m    983\u001b[0m         cache[\u001b[38;5;28mself\u001b[39m\u001b[38;5;241m.\u001b[39mattrname] \u001b[38;5;241m=\u001b[39m val\n",
      "File \u001b[0;32m~/miniconda3/envs/lsst-uk/lib/python3.10/site-packages/dask_expr/_expr.py:506\u001b[0m, in \u001b[0;36mBlockwise._name\u001b[0;34m(self)\u001b[0m\n\u001b[1;32m    504\u001b[0m \u001b[38;5;28;01melse\u001b[39;00m:\n\u001b[1;32m    505\u001b[0m     head \u001b[38;5;241m=\u001b[39m funcname(\u001b[38;5;28mtype\u001b[39m(\u001b[38;5;28mself\u001b[39m))\u001b[38;5;241m.\u001b[39mlower()\n\u001b[0;32m--> 506\u001b[0m \u001b[38;5;28;01mreturn\u001b[39;00m head \u001b[38;5;241m+\u001b[39m \u001b[38;5;124m\"\u001b[39m\u001b[38;5;124m-\u001b[39m\u001b[38;5;124m\"\u001b[39m \u001b[38;5;241m+\u001b[39m \u001b[43m_tokenize_deterministic\u001b[49m\u001b[43m(\u001b[49m\u001b[38;5;241;43m*\u001b[39;49m\u001b[38;5;28;43mself\u001b[39;49m\u001b[38;5;241;43m.\u001b[39;49m\u001b[43moperands\u001b[49m\u001b[43m)\u001b[49m\n",
      "File \u001b[0;32m~/miniconda3/envs/lsst-uk/lib/python3.10/site-packages/dask_expr/_util.py:102\u001b[0m, in \u001b[0;36m_tokenize_deterministic\u001b[0;34m(*args, **kwargs)\u001b[0m\n\u001b[1;32m     99\u001b[0m \u001b[38;5;28;01mdef\u001b[39;00m \u001b[38;5;21m_tokenize_deterministic\u001b[39m(\u001b[38;5;241m*\u001b[39margs, \u001b[38;5;241m*\u001b[39m\u001b[38;5;241m*\u001b[39mkwargs) \u001b[38;5;241m-\u001b[39m\u001b[38;5;241m>\u001b[39m \u001b[38;5;28mstr\u001b[39m:\n\u001b[1;32m    100\u001b[0m     \u001b[38;5;66;03m# Utility to be strict about deterministic tokens\u001b[39;00m\n\u001b[1;32m    101\u001b[0m     \u001b[38;5;28;01mwith\u001b[39;00m config\u001b[38;5;241m.\u001b[39mset({\u001b[38;5;124m\"\u001b[39m\u001b[38;5;124mtokenize.ensure-deterministic\u001b[39m\u001b[38;5;124m\"\u001b[39m: \u001b[38;5;28;01mTrue\u001b[39;00m}):\n\u001b[0;32m--> 102\u001b[0m         \u001b[38;5;28;01mreturn\u001b[39;00m \u001b[43mtokenize\u001b[49m\u001b[43m(\u001b[49m\u001b[38;5;241;43m*\u001b[39;49m\u001b[43margs\u001b[49m\u001b[43m,\u001b[49m\u001b[43m \u001b[49m\u001b[38;5;241;43m*\u001b[39;49m\u001b[38;5;241;43m*\u001b[39;49m\u001b[43mkwargs\u001b[49m\u001b[43m)\u001b[49m\n",
      "File \u001b[0;32m~/miniconda3/envs/lsst-uk/lib/python3.10/site-packages/dask/base.py:1033\u001b[0m, in \u001b[0;36mtokenize\u001b[0;34m(ensure_deterministic, *args, **kwargs)\u001b[0m\n\u001b[1;32m   1015\u001b[0m \u001b[38;5;250m\u001b[39m\u001b[38;5;124;03m\"\"\"Deterministic token\u001b[39;00m\n\u001b[1;32m   1016\u001b[0m \n\u001b[1;32m   1017\u001b[0m \u001b[38;5;124;03m>>> tokenize([1, 2, '3'])\u001b[39;00m\n\u001b[0;32m   (...)\u001b[0m\n\u001b[1;32m   1030\u001b[0m \u001b[38;5;124;03m    Defaults to the `tokenize.ensure-deterministic` configuration parameter.\u001b[39;00m\n\u001b[1;32m   1031\u001b[0m \u001b[38;5;124;03m\"\"\"\u001b[39;00m\n\u001b[1;32m   1032\u001b[0m \u001b[38;5;28;01mwith\u001b[39;00m _seen_ctx(reset\u001b[38;5;241m=\u001b[39m\u001b[38;5;28;01mTrue\u001b[39;00m), _ensure_deterministic_ctx(ensure_deterministic):\n\u001b[0;32m-> 1033\u001b[0m     token: \u001b[38;5;28mobject\u001b[39m \u001b[38;5;241m=\u001b[39m \u001b[43m_normalize_seq_func\u001b[49m\u001b[43m(\u001b[49m\u001b[43margs\u001b[49m\u001b[43m)\u001b[49m\n\u001b[1;32m   1034\u001b[0m     \u001b[38;5;28;01mif\u001b[39;00m kwargs:\n\u001b[1;32m   1035\u001b[0m         token \u001b[38;5;241m=\u001b[39m token, _normalize_seq_func(\u001b[38;5;28msorted\u001b[39m(kwargs\u001b[38;5;241m.\u001b[39mitems()))\n",
      "File \u001b[0;32m~/miniconda3/envs/lsst-uk/lib/python3.10/site-packages/dask/base.py:1159\u001b[0m, in \u001b[0;36m_normalize_seq_func\u001b[0;34m(seq)\u001b[0m\n\u001b[1;32m   1157\u001b[0m     \u001b[38;5;28;01melse\u001b[39;00m:\n\u001b[1;32m   1158\u001b[0m         seen[\u001b[38;5;28mid\u001b[39m(item)] \u001b[38;5;241m=\u001b[39m \u001b[38;5;28mlen\u001b[39m(seen), item\n\u001b[0;32m-> 1159\u001b[0m         item \u001b[38;5;241m=\u001b[39m \u001b[43mnormalize_token\u001b[49m\u001b[43m(\u001b[49m\u001b[43mitem\u001b[49m\u001b[43m)\u001b[49m\n\u001b[1;32m   1160\u001b[0m     out\u001b[38;5;241m.\u001b[39mappend(item)\n\u001b[1;32m   1161\u001b[0m \u001b[38;5;28;01mreturn\u001b[39;00m out\n",
      "File \u001b[0;32m~/miniconda3/envs/lsst-uk/lib/python3.10/site-packages/dask/utils.py:773\u001b[0m, in \u001b[0;36mDispatch.__call__\u001b[0;34m(self, arg, *args, **kwargs)\u001b[0m\n\u001b[1;32m    769\u001b[0m \u001b[38;5;250m\u001b[39m\u001b[38;5;124;03m\"\"\"\u001b[39;00m\n\u001b[1;32m    770\u001b[0m \u001b[38;5;124;03mCall the corresponding method based on type of argument.\u001b[39;00m\n\u001b[1;32m    771\u001b[0m \u001b[38;5;124;03m\"\"\"\u001b[39;00m\n\u001b[1;32m    772\u001b[0m meth \u001b[38;5;241m=\u001b[39m \u001b[38;5;28mself\u001b[39m\u001b[38;5;241m.\u001b[39mdispatch(\u001b[38;5;28mtype\u001b[39m(arg))\n\u001b[0;32m--> 773\u001b[0m \u001b[38;5;28;01mreturn\u001b[39;00m \u001b[43mmeth\u001b[49m\u001b[43m(\u001b[49m\u001b[43marg\u001b[49m\u001b[43m,\u001b[49m\u001b[43m \u001b[49m\u001b[38;5;241;43m*\u001b[39;49m\u001b[43margs\u001b[49m\u001b[43m,\u001b[49m\u001b[43m \u001b[49m\u001b[38;5;241;43m*\u001b[39;49m\u001b[38;5;241;43m*\u001b[39;49m\u001b[43mkwargs\u001b[49m\u001b[43m)\u001b[49m\n",
      "File \u001b[0;32m~/miniconda3/envs/lsst-uk/lib/python3.10/site-packages/dask/base.py:1129\u001b[0m, in \u001b[0;36mnormalize_dict\u001b[0;34m(d)\u001b[0m\n\u001b[1;32m   1127\u001b[0m \u001b[38;5;129m@normalize_token\u001b[39m\u001b[38;5;241m.\u001b[39mregister((types\u001b[38;5;241m.\u001b[39mMappingProxyType, \u001b[38;5;28mdict\u001b[39m))\n\u001b[1;32m   1128\u001b[0m \u001b[38;5;28;01mdef\u001b[39;00m \u001b[38;5;21mnormalize_dict\u001b[39m(d):\n\u001b[0;32m-> 1129\u001b[0m     \u001b[38;5;28;01mreturn\u001b[39;00m \u001b[38;5;124m\"\u001b[39m\u001b[38;5;124mdict\u001b[39m\u001b[38;5;124m\"\u001b[39m, \u001b[43m_normalize_seq_func\u001b[49m\u001b[43m(\u001b[49m\u001b[38;5;28;43msorted\u001b[39;49m\u001b[43m(\u001b[49m\u001b[43md\u001b[49m\u001b[38;5;241;43m.\u001b[39;49m\u001b[43mitems\u001b[49m\u001b[43m(\u001b[49m\u001b[43m)\u001b[49m\u001b[43m,\u001b[49m\u001b[43m \u001b[49m\u001b[43mkey\u001b[49m\u001b[38;5;241;43m=\u001b[39;49m\u001b[38;5;28;43;01mlambda\u001b[39;49;00m\u001b[43m \u001b[49m\u001b[43mkv\u001b[49m\u001b[43m:\u001b[49m\u001b[43m \u001b[49m\u001b[38;5;28;43mstr\u001b[39;49m\u001b[43m(\u001b[49m\u001b[43mkv\u001b[49m\u001b[43m[\u001b[49m\u001b[38;5;241;43m0\u001b[39;49m\u001b[43m]\u001b[49m\u001b[43m)\u001b[49m\u001b[43m)\u001b[49m\u001b[43m)\u001b[49m\n",
      "File \u001b[0;32m~/miniconda3/envs/lsst-uk/lib/python3.10/site-packages/dask/base.py:1159\u001b[0m, in \u001b[0;36m_normalize_seq_func\u001b[0;34m(seq)\u001b[0m\n\u001b[1;32m   1157\u001b[0m     \u001b[38;5;28;01melse\u001b[39;00m:\n\u001b[1;32m   1158\u001b[0m         seen[\u001b[38;5;28mid\u001b[39m(item)] \u001b[38;5;241m=\u001b[39m \u001b[38;5;28mlen\u001b[39m(seen), item\n\u001b[0;32m-> 1159\u001b[0m         item \u001b[38;5;241m=\u001b[39m \u001b[43mnormalize_token\u001b[49m\u001b[43m(\u001b[49m\u001b[43mitem\u001b[49m\u001b[43m)\u001b[49m\n\u001b[1;32m   1160\u001b[0m     out\u001b[38;5;241m.\u001b[39mappend(item)\n\u001b[1;32m   1161\u001b[0m \u001b[38;5;28;01mreturn\u001b[39;00m out\n",
      "File \u001b[0;32m~/miniconda3/envs/lsst-uk/lib/python3.10/site-packages/dask/utils.py:773\u001b[0m, in \u001b[0;36mDispatch.__call__\u001b[0;34m(self, arg, *args, **kwargs)\u001b[0m\n\u001b[1;32m    769\u001b[0m \u001b[38;5;250m\u001b[39m\u001b[38;5;124;03m\"\"\"\u001b[39;00m\n\u001b[1;32m    770\u001b[0m \u001b[38;5;124;03mCall the corresponding method based on type of argument.\u001b[39;00m\n\u001b[1;32m    771\u001b[0m \u001b[38;5;124;03m\"\"\"\u001b[39;00m\n\u001b[1;32m    772\u001b[0m meth \u001b[38;5;241m=\u001b[39m \u001b[38;5;28mself\u001b[39m\u001b[38;5;241m.\u001b[39mdispatch(\u001b[38;5;28mtype\u001b[39m(arg))\n\u001b[0;32m--> 773\u001b[0m \u001b[38;5;28;01mreturn\u001b[39;00m \u001b[43mmeth\u001b[49m\u001b[43m(\u001b[49m\u001b[43marg\u001b[49m\u001b[43m,\u001b[49m\u001b[43m \u001b[49m\u001b[38;5;241;43m*\u001b[39;49m\u001b[43margs\u001b[49m\u001b[43m,\u001b[49m\u001b[43m \u001b[49m\u001b[38;5;241;43m*\u001b[39;49m\u001b[38;5;241;43m*\u001b[39;49m\u001b[43mkwargs\u001b[49m\u001b[43m)\u001b[49m\n",
      "File \u001b[0;32m~/miniconda3/envs/lsst-uk/lib/python3.10/site-packages/dask/base.py:1166\u001b[0m, in \u001b[0;36mnormalize_seq\u001b[0;34m(seq)\u001b[0m\n\u001b[1;32m   1164\u001b[0m \u001b[38;5;129m@normalize_token\u001b[39m\u001b[38;5;241m.\u001b[39mregister((\u001b[38;5;28mtuple\u001b[39m, \u001b[38;5;28mlist\u001b[39m))\n\u001b[1;32m   1165\u001b[0m \u001b[38;5;28;01mdef\u001b[39;00m \u001b[38;5;21mnormalize_seq\u001b[39m(seq):\n\u001b[0;32m-> 1166\u001b[0m     \u001b[38;5;28;01mreturn\u001b[39;00m \u001b[38;5;28mtype\u001b[39m(seq)\u001b[38;5;241m.\u001b[39m\u001b[38;5;18m__name__\u001b[39m, \u001b[43m_normalize_seq_func\u001b[49m\u001b[43m(\u001b[49m\u001b[43mseq\u001b[49m\u001b[43m)\u001b[49m\n",
      "File \u001b[0;32m~/miniconda3/envs/lsst-uk/lib/python3.10/site-packages/dask/base.py:1159\u001b[0m, in \u001b[0;36m_normalize_seq_func\u001b[0;34m(seq)\u001b[0m\n\u001b[1;32m   1157\u001b[0m     \u001b[38;5;28;01melse\u001b[39;00m:\n\u001b[1;32m   1158\u001b[0m         seen[\u001b[38;5;28mid\u001b[39m(item)] \u001b[38;5;241m=\u001b[39m \u001b[38;5;28mlen\u001b[39m(seen), item\n\u001b[0;32m-> 1159\u001b[0m         item \u001b[38;5;241m=\u001b[39m \u001b[43mnormalize_token\u001b[49m\u001b[43m(\u001b[49m\u001b[43mitem\u001b[49m\u001b[43m)\u001b[49m\n\u001b[1;32m   1160\u001b[0m     out\u001b[38;5;241m.\u001b[39mappend(item)\n\u001b[1;32m   1161\u001b[0m \u001b[38;5;28;01mreturn\u001b[39;00m out\n",
      "File \u001b[0;32m~/miniconda3/envs/lsst-uk/lib/python3.10/site-packages/dask/utils.py:773\u001b[0m, in \u001b[0;36mDispatch.__call__\u001b[0;34m(self, arg, *args, **kwargs)\u001b[0m\n\u001b[1;32m    769\u001b[0m \u001b[38;5;250m\u001b[39m\u001b[38;5;124;03m\"\"\"\u001b[39;00m\n\u001b[1;32m    770\u001b[0m \u001b[38;5;124;03mCall the corresponding method based on type of argument.\u001b[39;00m\n\u001b[1;32m    771\u001b[0m \u001b[38;5;124;03m\"\"\"\u001b[39;00m\n\u001b[1;32m    772\u001b[0m meth \u001b[38;5;241m=\u001b[39m \u001b[38;5;28mself\u001b[39m\u001b[38;5;241m.\u001b[39mdispatch(\u001b[38;5;28mtype\u001b[39m(arg))\n\u001b[0;32m--> 773\u001b[0m \u001b[38;5;28;01mreturn\u001b[39;00m \u001b[43mmeth\u001b[49m\u001b[43m(\u001b[49m\u001b[43marg\u001b[49m\u001b[43m,\u001b[49m\u001b[43m \u001b[49m\u001b[38;5;241;43m*\u001b[39;49m\u001b[43margs\u001b[49m\u001b[43m,\u001b[49m\u001b[43m \u001b[49m\u001b[38;5;241;43m*\u001b[39;49m\u001b[38;5;241;43m*\u001b[39;49m\u001b[43mkwargs\u001b[49m\u001b[43m)\u001b[49m\n",
      "File \u001b[0;32m~/miniconda3/envs/lsst-uk/lib/python3.10/site-packages/dask/base.py:1214\u001b[0m, in \u001b[0;36mnormalize_object\u001b[0;34m(o)\u001b[0m\n\u001b[1;32m   1212\u001b[0m     \u001b[38;5;28;01mreturn\u001b[39;00m _normalize_pickle(o)\n\u001b[1;32m   1213\u001b[0m \u001b[38;5;28;01mexcept\u001b[39;00m \u001b[38;5;167;01mException\u001b[39;00m:\n\u001b[0;32m-> 1214\u001b[0m     \u001b[43m_maybe_raise_nondeterministic\u001b[49m\u001b[43m(\u001b[49m\n\u001b[1;32m   1215\u001b[0m \u001b[43m        \u001b[49m\u001b[38;5;124;43mf\u001b[39;49m\u001b[38;5;124;43m\"\u001b[39;49m\u001b[38;5;124;43mObject \u001b[39;49m\u001b[38;5;132;43;01m{\u001b[39;49;00m\u001b[43mo\u001b[49m\u001b[38;5;132;43;01m!r}\u001b[39;49;00m\u001b[38;5;124;43m cannot be deterministically hashed. See \u001b[39;49m\u001b[38;5;124;43m\"\u001b[39;49m\n\u001b[1;32m   1216\u001b[0m \u001b[43m        \u001b[49m\u001b[38;5;124;43m\"\u001b[39;49m\u001b[38;5;124;43mhttps://docs.dask.org/en/latest/custom-collections.html#implementing-deterministic-hashing \u001b[39;49m\u001b[38;5;124;43m\"\u001b[39;49m\n\u001b[1;32m   1217\u001b[0m \u001b[43m        \u001b[49m\u001b[38;5;124;43m\"\u001b[39;49m\u001b[38;5;124;43mfor more information.\u001b[39;49m\u001b[38;5;124;43m\"\u001b[39;49m\n\u001b[1;32m   1218\u001b[0m \u001b[43m    \u001b[49m\u001b[43m)\u001b[49m\n\u001b[1;32m   1219\u001b[0m     \u001b[38;5;28;01mreturn\u001b[39;00m uuid\u001b[38;5;241m.\u001b[39muuid4()\u001b[38;5;241m.\u001b[39mhex\n",
      "File \u001b[0;32m~/miniconda3/envs/lsst-uk/lib/python3.10/site-packages/dask/base.py:1078\u001b[0m, in \u001b[0;36m_maybe_raise_nondeterministic\u001b[0;34m(msg)\u001b[0m\n\u001b[1;32m   1076\u001b[0m \u001b[38;5;28;01mwith\u001b[39;00m _ensure_deterministic_ctx(\u001b[38;5;28;01mNone\u001b[39;00m) \u001b[38;5;28;01mas\u001b[39;00m ensure_deterministic:\n\u001b[1;32m   1077\u001b[0m     \u001b[38;5;28;01mif\u001b[39;00m ensure_deterministic:\n\u001b[0;32m-> 1078\u001b[0m         \u001b[38;5;28;01mraise\u001b[39;00m TokenizationError(msg)\n",
      "\u001b[0;31mTokenizationError\u001b[0m: Object s3.Bucket(name='LSST-IR-FUSION-testfromopenstack') cannot be deterministically hashed. See https://docs.dask.org/en/latest/custom-collections.html#implementing-deterministic-hashing for more information."
     ]
    }
   ],
   "source": [
    "objects_boto3_dask['metadata'] = objects_boto3_dask['key'].apply(get_metadata_boto3, bucket=bucket, meta=pd.Series(dtype=str))"
   ]
  },
  {
   "cell_type": "markdown",
   "id": "65c7f4c4-cd70-4d99-b399-2cdaf7b54e94",
   "metadata": {},
   "source": [
    "## Conclusion\n",
    "\n",
    "- OpenStack Swift API is not 10 times faster than S3 API, it's about as fast.\n",
    "- OpenStack python-swiftclient is not 10 times faster than boto3, it's about as fast.\n",
    "- Using swiftclient with Pandas is not 10 times faster than using boto3 with Pandas, it's about as fast.\n",
    "- Using swiftclient with Dask _is_ __at least__ 10 times faster than using either swiftclient or boto3 with Pandas.\n",
    "- Using boto3 with Dask is impossible.\n",
    "\n",
    "Therefore, the combination of swiftclient and Dask is __at least__ 10 times faster than the de facto industry standards of boto3 and Pandas, because Dask is faster than Pandas, and swiftclient objects __are__ _picklable_ and boto3 objects __are not__ _picklable_.\n"
   ]
  },
  {
   "cell_type": "markdown",
   "id": "9f5e8c25-3534-46ab-8b12-4f2c76158a00",
   "metadata": {},
   "source": [
    "## Appendix\n",
    "\n",
    "Minimal example of pickling."
   ]
  },
  {
   "cell_type": "code",
   "execution_count": null,
   "id": "590a646a-6eda-462f-8110-9170987d32e7",
   "metadata": {},
   "outputs": [],
   "source": []
  }
 ],
 "metadata": {
  "kernelspec": {
   "display_name": "Python 3 (ipykernel)",
   "language": "python",
   "name": "python3"
  },
  "language_info": {
   "codemirror_mode": {
    "name": "ipython",
    "version": 3
   },
   "file_extension": ".py",
   "mimetype": "text/x-python",
   "name": "python",
   "nbconvert_exporter": "python",
   "pygments_lexer": "ipython3",
   "version": "3.10.13"
  }
 },
 "nbformat": 4,
 "nbformat_minor": 5
}
